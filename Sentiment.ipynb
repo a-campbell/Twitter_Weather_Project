{
 "metadata": {
  "name": "",
  "signature": "sha256:ac5b026e8558140bdd237315f0f908dd1b8b13d3d28a544bcd31cc86e9f0d89b"
 },
 "nbformat": 3,
 "nbformat_minor": 0,
 "worksheets": [
  {
   "cells": [
    {
     "cell_type": "code",
     "collapsed": false,
     "input": [
      "import numpy as np\n",
      "import pandas as pd # pandas\n",
      "from textblob import TextBlob\n",
      "#import time as tm\n"
     ],
     "language": "python",
     "metadata": {},
     "outputs": [],
     "prompt_number": 1
    },
    {
     "cell_type": "code",
     "collapsed": false,
     "input": [
      "#read in the tweet output CSV data\n",
      "#to accomodate tweets with commas in them, we must add extra columns\n",
      "flow = pd.read_csv('tweetoutput8.csv', error_bad_lines=False, header=None, names=list('abcdefghijklmnopqrstuv'), dtype=str)"
     ],
     "language": "python",
     "metadata": {},
     "outputs": [],
     "prompt_number": 9
    },
    {
     "cell_type": "code",
     "collapsed": false,
     "input": [],
     "language": "python",
     "metadata": {},
     "outputs": [],
     "prompt_number": 11
    },
    {
     "cell_type": "code",
     "collapsed": false,
     "input": [
      "print flow.head()"
     ],
     "language": "python",
     "metadata": {},
     "outputs": [
      {
       "output_type": "stream",
       "stream": "stdout",
       "text": [
        "                     a                                   b  \\\n",
        "0  [535612845338423296   u'Fri Nov 21 01:57:08 +0000 2014'   \n",
        "1  [535612845720088576   u'Fri Nov 21 01:57:08 +0000 2014'   \n",
        "2  [535612846114365441   u'Fri Nov 21 01:57:08 +0000 2014'   \n",
        "3  [535612846697365504   u'Fri Nov 21 01:57:08 +0000 2014'   \n",
        "4  [535612846848368640   u'Fri Nov 21 01:57:08 +0000 2014'   \n",
        "\n",
        "                     c                                      d  \\\n",
        "0   {u'type': u'Point'           u'coordinates': [-118.527249   \n",
        "1   {u'type': u'Point'   u'coordinates': [-81.521062000000001   \n",
        "2   {u'type': u'Point'   u'coordinates': [-73.953889000000004   \n",
        "3   {u'type': u'Point'   u'coordinates': [-80.403918000000004   \n",
        "4   {u'type': u'Point'   u'coordinates': [-80.243511999999996   \n",
        "\n",
        "                       e       f  \\\n",
        "0   34.046613999999998]}   u'en'   \n",
        "1   30.183713999999998]}   u'en'   \n",
        "2   40.780937999999999]}   u'en'   \n",
        "3            25.691101]}   u'en'   \n",
        "4            25.829269]}   u'en'   \n",
        "\n",
        "                                                   g    h    i    j ...     m  \\\n",
        "0   u'Mattress Model #sealy #inbedallday #actorsl...  NaN  NaN  NaN ...   NaN   \n",
        "1                   u'@WilburBot motivate me again']  NaN  NaN  NaN ...   NaN   \n",
        "2   u'I need to be rich because I want to live in...  NaN  NaN  NaN ...   NaN   \n",
        "3   u\"@SteveSbryant415 @BobbyJindal the governmen...  NaN  NaN  NaN ...   NaN   \n",
        "4   u'Been networking with some really cool ppl l...  NaN  NaN  NaN ...   NaN   \n",
        "\n",
        "     n    o    p    q    r   s    t   u   v  \n",
        "0  NaN  NaN  NaN  NaN  NaN NaN  NaN NaN NaN  \n",
        "1  NaN  NaN  NaN  NaN  NaN NaN  NaN NaN NaN  \n",
        "2  NaN  NaN  NaN  NaN  NaN NaN  NaN NaN NaN  \n",
        "3  NaN  NaN  NaN  NaN  NaN NaN  NaN NaN NaN  \n",
        "4  NaN  NaN  NaN  NaN  NaN NaN  NaN NaN NaN  \n",
        "\n",
        "[5 rows x 22 columns]\n"
       ]
      }
     ],
     "prompt_number": 148
    },
    {
     "cell_type": "code",
     "collapsed": false,
     "input": [
      "#collapse the columns containing comma'd tweets to get one text column\n",
      "def concat(*args):\n",
      "    strs = [str(arg) for arg in args if not pd.isnull(arg)]\n",
      "    return ','.join(strs) if strs else np.nan\n",
      "np_concat = np.vectorize(concat)\n",
      "\n",
      "flow['text'] = np_concat(flow['g'], flow['h'], flow['i'], flow['j'], flow['k'], flow['l'], flow['m'], flow['n'], flow['o'], flow['p'], flow['q'],flow['r'],flow['s'],flow['t'],flow['u'],flow['v'])"
     ],
     "language": "python",
     "metadata": {},
     "outputs": [],
     "prompt_number": 12
    },
    {
     "cell_type": "code",
     "collapsed": false,
     "input": [
      "#trim off the stray characters from the data\n",
      "tid = flow.a.str.replace('[', '')\n",
      "timer = flow.b.str.replace(\"u'\", \"\")\n",
      "timer = timer.str.replace(\"'\", \"\")\n",
      "lon = flow.d.str.replace(\"u'\", \"\")\n",
      "lon = lon.str.replace(\"coordinates\", \"\")\n",
      "lat = flow.e.str.replace(\"]}\", \"\")\n",
      "language = flow.b.str.replace(\"u'\", \"\")\n",
      "language = language.str.replace(\"'\", \"\")\n",
      "text = flow.text.str.replace(\"u'\", \"\")\n",
      "text = text.str.replace(\"]\", \"\")\n",
      "text = text.apply(lambda x: x[:-1])\n",
      "text = text.str.replace('u\"', '')\n",
      "lon = lon.apply(lambda x: x[5:])\n",
      "\n",
      "#fix the time\n",
      "#I am not sure what to do here\n",
      "#timer = timer.apply(lambda x: tm.strptime(x[5:-11], \"%b %d %H:%M:%S\"))\n"
     ],
     "language": "python",
     "metadata": {},
     "outputs": [],
     "prompt_number": 13
    },
    {
     "cell_type": "code",
     "collapsed": false,
     "input": [
      "#unify the data into a DataFrame\n",
      "tweets = pd.DataFrame()\n",
      "tweets['tid'] = tid\n",
      "tweets['time'] = timer\n",
      "tweets['lon'] = lon\n",
      "tweets['lat'] = lat\n",
      "tweets['language'] = language\n",
      "tweets['text'] = text\n",
      "\n"
     ],
     "language": "python",
     "metadata": {},
     "outputs": [],
     "prompt_number": 14
    },
    {
     "cell_type": "code",
     "collapsed": false,
     "input": [],
     "language": "python",
     "metadata": {},
     "outputs": [],
     "prompt_number": 214
    },
    {
     "cell_type": "code",
     "collapsed": false,
     "input": [],
     "language": "python",
     "metadata": {},
     "outputs": [],
     "prompt_number": 110
    },
    {
     "cell_type": "code",
     "collapsed": false,
     "input": [],
     "language": "python",
     "metadata": {},
     "outputs": [],
     "prompt_number": 186
    },
    {
     "cell_type": "code",
     "collapsed": false,
     "input": [
      "#print tweets.time[0][4:]\n",
      "#print tweets.time[0].replace(\"+0000\", \"\")\n",
      "#tm.strptime(tweets.time[0], \"%a %b %d %H:%M:%S %y\") \n",
      "\n"
     ],
     "language": "python",
     "metadata": {},
     "outputs": [],
     "prompt_number": 15
    },
    {
     "cell_type": "code",
     "collapsed": false,
     "input": [
      "#create TextBlobs from the tweets\n",
      "tweets['blob'] = tweets.text.apply(lambda x: TextBlob(x))\n"
     ],
     "language": "python",
     "metadata": {},
     "outputs": [],
     "prompt_number": 16
    },
    {
     "cell_type": "code",
     "collapsed": false,
     "input": [
      "#get the polarity of each tweet based on a ML algo trained on movie reviews\n",
      "tweets['polarity'] = tweets.blob.apply(lambda x: x.sentiment.polarity)\n"
     ],
     "language": "python",
     "metadata": {},
     "outputs": [],
     "prompt_number": 17
    },
    {
     "cell_type": "code",
     "collapsed": false,
     "input": [
      "#get teh subjectivity of each tweet\n",
      "#tweets['subjectivity'] = tweets.blob.apply(lambda x: x.sentiment.subjectivity)"
     ],
     "language": "python",
     "metadata": {},
     "outputs": [],
     "prompt_number": 117
    },
    {
     "cell_type": "code",
     "collapsed": false,
     "input": [],
     "language": "python",
     "metadata": {},
     "outputs": [],
     "prompt_number": 138
    },
    {
     "cell_type": "code",
     "collapsed": false,
     "input": [
      "#how we will identify each city in the final data (matches weather data)\n",
      "tags = [\"lon\",\"ny\",\"chi\", \"la\", \"sea\", \"bos\", \"mia\"]\n",
      "\n",
      "#create array of cordinate boxes that we used in scraping\n",
      "london = (-0.530, 51.322, 0.231, 51.707)\n",
      "new_york = (-74.255, 40.2557, -73.689, 40.9176)\n",
      "chicago = (-87.968, 41.625, -87.397, 42.074)\n",
      "los_angeles = (-118.9448, 32.8007, -117.646, 34.823)\n",
      "seattle = (-122.472, 47.4224, -122.176, 47.7451)\n",
      "boston = (-71.898, 42.156, -71.020, 42.736)\n",
      "miami = (-80.87, 25.137, -80.118, 25.979)\n",
      "city = [london, new_york, chicago, los_angeles, seattle, boston, miami]\n",
      "\n",
      "#go through the cordinates and label each tweet with a city \n",
      "tweets['city'] = np.array(['NaN' for _ in range(len(tweets.tid))])\n",
      "for i in range(0,len(tweets.tid)-1):\n",
      "    for k in range(0,6):\n",
      "        if (float(tweets.lon[i]) > city[k][0]) & (float(tweets.lon[i]) < city[k][2]) & (float(tweets.lat[i]) > city[k][1]) & (float(tweets.lat[i]) < city[k][3]):\n",
      "            tweets.city[i] = tags[k]\n",
      "        "
     ],
     "language": "python",
     "metadata": {},
     "outputs": [],
     "prompt_number": 18
    },
    {
     "cell_type": "code",
     "collapsed": false,
     "input": [
      "cols = ['time', 'city', 'polarity']\n",
      "\n",
      "tweets[cols].to_csv('sentimentoutput.csv')"
     ],
     "language": "python",
     "metadata": {},
     "outputs": [],
     "prompt_number": 21
    },
    {
     "cell_type": "code",
     "collapsed": false,
     "input": [],
     "language": "python",
     "metadata": {},
     "outputs": []
    },
    {
     "cell_type": "code",
     "collapsed": false,
     "input": [],
     "language": "python",
     "metadata": {},
     "outputs": []
    }
   ],
   "metadata": {}
  }
 ]
}