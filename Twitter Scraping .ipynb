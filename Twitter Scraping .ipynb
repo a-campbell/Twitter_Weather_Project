{
 "metadata": {
  "name": "",
  "signature": "sha256:7c03a3b9cbb8879cc39a864d1d3c2c5eea563b7c3eae4dac47804fd50e0dc520"
 },
 "nbformat": 3,
 "nbformat_minor": 0,
 "worksheets": [
  {
   "cells": [
    {
     "cell_type": "code",
     "collapsed": false,
     "input": [
      "from tweepy.streaming import StreamListener\n",
      "from tweepy import OAuthHandler\n",
      "from tweepy import Stream\n",
      "from tweepy import API\n",
      "import json\n",
      "access_token = \"20283926-IIH9J0azYI93f3VZ3zHbiOFqABXTQ3aivMA3Mjw1c\"\n",
      "access_token_secret = \"9590z227cf1s9qPKDRfkGSahfOAO9ge8rj6NTyIi97WmN\"\n",
      "consumer_key = \"Hi7w67EqoiyOSjPbCFeq1mmkl\"\n",
      "consumer_secret = \"Rac1HDteRdGD6Hblbn2mg2y9al5IWqZGfVTY8chWi8UliDSJOo\"\n"
     ],
     "language": "python",
     "metadata": {},
     "outputs": [],
     "prompt_number": 7
    },
    {
     "cell_type": "code",
     "collapsed": false,
     "input": [
      "london = (-0.530, 51.322, 0.231, 51.707)\n",
      "new_york = (-74.255, 40.2557, -73.689, 40.9176)\n",
      "chicago = (-87.968, 41.625, -87.397, 42.074)\n",
      "los_angeles = (-118.9448, 32.8007, -117.646, 34.823)\n",
      "seattle = (-122.472, 47.4224, -122.176, 47.7451)\n",
      "boston = (-71.898, 42.156, -71.020, 42.736)\n",
      "miami = (-80.87, 25.137, -80.118, 25.979)\n",
      "\n",
      "weather_words = [\"weather\", \"rain\", \"sun\", \"raining\", \"sunshine\", \"storm\", \"clouds\", \"cloud\" \"cloudy\", \"sky\", \"thunder\", \"hot\", \"cold\", \"freezing\", \"warm\", \"stormy\"]"
     ],
     "language": "python",
     "metadata": {},
     "outputs": [],
     "prompt_number": 11
    },
    {
     "cell_type": "code",
     "collapsed": false,
     "input": [
      "#adapted from tweepy docs\n",
      "class StdOutListener(StreamListener):\n",
      "\n",
      "#This function gets called every time a new tweet is received on the stream\n",
      "    def on_data(self, data):\n",
      "        #Just write data to one line in the file\n",
      "        fhOut.write(data)\n",
      "\n",
      "#Convert the data to a json object (shouldn't do this in production; might slow down and miss tweets)\n",
      "        j=json.loads(data)\n",
      "\n",
      "    #See Twitter reference for what fields are included -- https://dev.twitter.com/docs/platform-objects/tweets\n",
      "        text=j[\"text\"] \n",
      "        #print(text) \n",
      "        time = j[\"created_at\"]\n",
      "        coord = j[\"coordinates\"]\n",
      "        #print(time) \n",
      "        #print(coord)\n",
      "\n",
      "    def on_error(self, status):\n",
      "        print(\"ERROR\")\n",
      "        print(status)\n",
      "\n",
      "if __name__ == '__main__':\n",
      "    try:\n",
      "    #Create a file to store output. \"a\" means append (add on to previous file)\n",
      "        fhOut = open(\"output.json\",\"a\")\n",
      "\n",
      "        #Create the listener\n",
      "        l = StdOutListener()\n",
      "        auth = OAuthHandler(consumer_key, consumer_secret)\n",
      "        auth.set_access_token(access_token, access_token_secret)\n",
      "\n",
      "        #Connect to the Twitter stream\n",
      "        stream = Stream(auth, l)\n",
      "\n",
      "\n",
      "        stream.filter(track = weather_words, locations=[london, boston, new_york, seattle, los_angeles, miami])\n",
      "        \n",
      "        #stream.filter(locations=[london, boston, new_york, seattle, los_angeles, miami])\n",
      "\n",
      "    except KeyboardInterrupt:\n",
      "        #User pressed ctrl+c -- get ready to exit the program\n",
      "        pass\n",
      "\n",
      "    #Close the \n",
      "    fhOut.close()\n",
      "\n",
      "\n"
     ],
     "language": "python",
     "metadata": {},
     "outputs": [
      {
       "output_type": "stream",
       "stream": "stdout",
       "text": [
        "Hot Girls With Hot Curves That Will Drop Your Jaw (12 pics) http://t.co/DfZXMYUEXJ\n",
        "Wed Nov 12 21:10:25 +0000 2014\n",
        "None\n",
        "RT @callanderj: my fave song ever https://t.co/3m9ziVjIEA guns n roses november rain"
       ]
      },
      {
       "output_type": "stream",
       "stream": "stdout",
       "text": [
        "\n",
        "Wed Nov 12 21:10:25 +0000 2014\n",
        "None\n",
        "\"I fucking hate life right now\"\n",
        "-my brother after he spilt his hot chocolate\n",
        "Wed Nov 12 21:10:25 +0000 2014\n",
        "None\n",
        "RT @_mfgx: this cold weather has got me like https://t.co/4uuyhP2u0V\n",
        "Wed Nov 12 21:10:25 +0000 2014\n",
        "None\n",
        "#WomanCrushWednesday There are girls, and then there are really hot women!  Who's your favorite?  @FrancescaLeXXX http://t.co/HFwEEy4OAp\n",
        "Wed Nov 12 21:10:25 +0000 2014\n",
        "None\n",
        "RT @smitharyy: 'All of a sudden he jumped me': Sheila Copps on fellow MPP's sexual assault http://t.co/kZJoaizDrn #HOT Sheila Copps  #Sheil\u2026\n",
        "Wed Nov 12 21:10:25 +0000 2014\n",
        "None\n",
        "We couldn\u2019t agree more with @theGAVoice, the weather for #AWA5K 2014 was perfect: http://t.co/XiOpBAGLIp\n",
        "Wed Nov 12 21:10:25 +0000 2014\n",
        "None\n",
        "@jimmykimmel \n",
        "http://t.co/Qf5L8S7oQg\n",
        "A vision of the future painted in cold tuna. http://t.co/rBrz4612ah\n",
        "Wed Nov 12 21:10:25 +0000 2014\n",
        "None\n",
        "StormTeam2 BEACH 7 Day Forecast....Prepared PM Wednesday, November 12th. More info http://t.co/3MlLJIo2CZ http://t.co/gTRZUVTG20"
       ]
      },
      {
       "output_type": "stream",
       "stream": "stdout",
       "text": [
        "\n",
        "Wed Nov 12 21:10:25 +0000 2014\n",
        "None\n",
        "RT @LukeAdams95: a cold room is everything when it comes to sleep\n",
        "Wed Nov 12 21:10:25 +0000 2014\n",
        "None\n",
        "Currently freezing because I thought it wasn't this cold \ud83d\ude10\n",
        "Wed Nov 12 21:10:25 +0000 2014\n",
        "None\n",
        "@coast2coastmag check out my camp New video TBM - Hot Nigga FreeStyle [Official Video] Shot B\u2026: http://t.co/U3mzGHzAGU Thanks\n",
        "Wed Nov 12 21:10:25 +0000 2014\n",
        "None\n",
        "@Real_Liam_Payne hello sunshine. Hope you're fine. Can you please follow me? It will take you 5 seconds. Ilysfm. Always smile :) x10,945\n",
        "Wed Nov 12 21:10:25 +0000 2014\n",
        "None\n",
        "Come along with me and we'll both watch the sun kiss the sea\n",
        "Wed Nov 12 21:10:25 +0000 2014\n",
        "None\n",
        "#WomanCrushWednesday There are girls, and then there are really hot women!  Who's your favorite?  @FrancescaLeXXX http://t.co/CixUgrIGya\n",
        "Wed Nov 12 21:10:25 +0000 2014\n",
        "None\n",
        "Hot game in Amsterdam btw Mexico and Netherlands 3-2\n",
        "Wed Nov 12 21:10:25 +0000 2014\n",
        "None\n",
        "RT @itszackwtf: Im so over guys just being \"hot\" if you're an asshole im completely turned off by you no matter how attractive you are"
       ]
      },
      {
       "output_type": "stream",
       "stream": "stdout",
       "text": [
        "\n",
        "Wed Nov 12 21:10:25 +0000 2014\n",
        "None\n",
        "COME HOME LATE! ITS SEEMS YOU BARELY BEAT THE SUN!! TAPPING MY SHOULDERRRR, THINKING YOU GON' GET YOU SOMEEEEE! \ud83c\udfb6\n",
        "Wed Nov 12 21:10:25 +0000 2014\n",
        "None\n",
        "\u2741Hey Niall\u2741\n",
        "You're my sunshine\u2600 and my whole\ud83c\udf0d\ud83d\udc93\n",
        "Please take a few secs to follow me\ud83c\udf40\u2728 it would mean a lot\u2661\n",
        "\n",
        "Ilysm\ud83d\udc98 @NiallOfficial\n",
        "267\n",
        "Wed Nov 12 21:10:25 +0000 2014\n",
        "None\n",
        "RT @chartnews: Billboard Hot 100: #1(=) Shake It Off, @taylorswift13 [12 weeks]. *4 weeks at #1*"
       ]
      },
      {
       "output_type": "stream",
       "stream": "stdout",
       "text": [
        "\n",
        "Wed Nov 12 21:10:25 +0000 2014\n",
        "None\n",
        "RT @JRJM__: it's so damn cold! \ud83d\ude29\ud83d\ude29\n",
        "Wed Nov 12 21:10:25 +0000 2014\n",
        "None\n",
        "Kate got me a glass of lemonade and a hot water bottle, LUV her so much\ud83d\udc95\ud83d\udc95\n",
        "Wed Nov 12 21:10:25 +0000 2014\n",
        "None\n",
        "#WomanCrushWednesday There are girls, and then there are really hot women!  Who's your favorite?  @FrancescaLeXXX http://t.co/lz6rFEYBCz\n",
        "Wed Nov 12 21:10:25 +0000 2014\n",
        "None\n",
        "RT @smitharyy: Remembrance Day draws huge crowds as National War Memorial rededicated http://t.co/bxiBsshTs6 #HOT Remembrance Day  #Remembr\u2026"
       ]
      },
      {
       "output_type": "stream",
       "stream": "stdout",
       "text": [
        "\n",
        "Wed Nov 12 21:10:25 +0000 2014\n",
        "None\n",
        "RT @Portsmouth_gal: Currently enjoying a bit of sun watching #Gibraltar #Britaininthesun on @channel5_tv + 1\n",
        "Wed Nov 12 21:10:25 +0000 2014\n",
        "None\n",
        "RT @ArianaGrande: #LoveMeHarder entered the top 10 on @billboard hot 100 this week!! thank u so much luvs!!!!! https://t.co/NIYYO8CY4t http\u2026\n",
        "Wed Nov 12 21:10:25 +0000 2014\n",
        "None\n",
        "@crraazzzzymofos: @NiallOfficial \n",
        " \u2601\ufe0fhi niall\n",
        "\n",
        "\ud83c\udf00 i love you sunshine\n",
        "\ud83c\ude02 thank u for everything\n",
        "\ud83c\udf90 i'm so proud of you\n",
        "\ud83d\udd39 please follow me?55"
       ]
      },
      {
       "output_type": "stream",
       "stream": "stdout",
       "text": [
        "\n",
        "Wed Nov 12 21:10:25 +0000 2014\n",
        "None\n",
        "RT @TwopTwips: SIMULATE guiding a probe 300 million miles and landing it on a comet by getting a straw in a Capri Sun on the first attempt.\u2026\n",
        "Wed Nov 12 21:10:25 +0000 2014\n",
        "None\n",
        "Babe please follow me, \n",
        "It would mean so much\n",
        "I love you sunshine \ud83d\udc9c\ud83d\udc96\ud83d\ude4a\n",
        "\n",
        "@Nashgrier 423\n",
        "Wed Nov 12 21:10:25 +0000 2014\n",
        "None\n",
        "RT @LukeAdams95: a cold room is everything when it comes to sleep"
       ]
      },
      {
       "output_type": "stream",
       "stream": "stdout",
       "text": [
        "\n",
        "Wed Nov 12 21:10:25 +0000 2014\n",
        "None\n",
        "\u21161 @MTV.com artist Rain Man - Hardcore Vibes on @DJMarkOne s Pitch Kontrol Show #94 ft Todd Terry \n",
        " http://t.co/pN8mCQ0DQ5 \n",
        "@AtticusIndepand\n",
        "Wed Nov 12 21:10:25 +0000 2014\n",
        "None\n",
        ".\u201c@SkyNewsBreak:Sky Sources: a FIFA report to be released tomorrow will give no recommendation to strip #Qatar of 2022 #WorldCup\u201d #Football\n",
        "Wed Nov 12 21:10:25 +0000 2014\n",
        "None\n",
        "RT @smitharyy: 'All of a sudden he jumped me': Sheila Copps on fellow MPP's sexual assault http://t.co/kZJoaizDrn #HOT Sheila Copps  #Sheil\u2026\n",
        "Wed Nov 12 21:10:25 +0000 2014\n",
        "None\n",
        "I literally got chai for the sole purpose of keeping my hands warm on my trek home after class."
       ]
      },
      {
       "output_type": "stream",
       "stream": "stdout",
       "text": [
        "\n",
        "Wed Nov 12 21:10:26 +0000 2014\n",
        "None\n",
        "RT @ArianaGrande: #LoveMeHarder entered the top 10 on @billboard hot 100 this week!! thank u so much luvs!!!!! https://t.co/NIYYO8CY4t http\u2026\n",
        "Wed Nov 12 21:10:26 +0000 2014\n",
        "None\n",
        "21:10 GMT: Temperature: 9.7\u00b0C, Wind: S, 0 mph (ave), 0 mph (gust), Humidity: 85%, Rain (hourly) 0.0 mm, Pressure: 1005 hPa, rising\n",
        "Wed Nov 12 21:10:26 +0000 2014\n",
        "{u'type': u'Point', u'coordinates': [-3.542993, 51.676323]}\n",
        "http://t.co/9dwgkEC0b6 #porn #nude #porno #hot #garter #deep-throat #lingerie #blowjob #blowjob #double-penetration #swallow #\n",
        "Wed Nov 12 21:10:26 +0000 2014\n",
        "None\n",
        ". @theheraldsun you know the Cold War is over yeah? http://t.co/yMPJFDatcd"
       ]
      },
      {
       "output_type": "stream",
       "stream": "stdout",
       "text": [
        "\n",
        "Wed Nov 12 21:10:25 +0000 2014\n",
        "None\n",
        "guys!! I know what hell is like!!! getting gas in this 29 degree weather :)\n",
        "Wed Nov 12 21:10:25 +0000 2014\n",
        "None\n",
        "@IrvinePatriot no big deal\n",
        "Got the Right car \n",
        "The right clothes\n",
        "We're used to this weather. \n",
        "Red meat state Wyoming. \n",
        "Second Home.\n",
        "Wed Nov 12 21:10:26 +0000 2014\n",
        "None\n",
        "http://t.co/smcrKg1nV3 RAIN Atlanta Escorts is available now!\n",
        "Wed Nov 12 21:10:26 +0000 2014\n",
        "None\n",
        "RT @mishacollins: \"Subtext\" is really getting it's day in the sun here isn't it. #Supernatural200thEpisode\n",
        "Wed Nov 12 21:10:26 +0000 2014\n",
        "None\n",
        "\u2727:\u263c  Hi @CherLloyd  \u2727:\u263c \n",
        " i love you so fucking much sunshine \n",
        " so could you pls make me happy and follow me?\n",
        " it mean the world to me \u263c309"
       ]
      },
      {
       "output_type": "stream",
       "stream": "stdout",
       "text": [
        "\n",
        "Wed Nov 12 21:10:26 +0000 2014\n",
        "None\n",
        "RT @L0L0X0X0: come on ppl if u don't like winter what is wrong with u i love scarfs and warm drinks and christmas lights and snow and holid\u2026\n",
        "Wed Nov 12 21:10:26 +0000 2014\n",
        "None\n",
        "@IwoJima_Blake @De_Qi_Heals @MedrinaKamaar @6SidedSerpent COLD.\n",
        "Wed Nov 12 21:10:26 +0000 2014\n",
        "None\n",
        "@lewisconnors1 got a hot dog costume that's always a great laugh"
       ]
      },
      {
       "output_type": "stream",
       "stream": "stdout",
       "text": [
        "\n",
        "Wed Nov 12 21:10:26 +0000 2014\n",
        "{u'type': u'Point', u'coordinates': [-2.296688, 51.825019]}\n",
        "@TawnaWhitfordNZ no but they are pretty hot together \u2764\ufe0f\ud83d\udc96\n",
        "Wed Nov 12 21:10:26 +0000 2014\n",
        "None\n",
        "I LOVE THE WEATHER TODAY BYE\n",
        "Wed Nov 12 21:10:26 +0000 2014\n",
        "None\n",
        "Time 3:10 PM Date 12/11/14 Temp 37.9F Humid 47 Wind N  9 mph Baro 30.413 inches Rain 0.00 in. Light 29 % Sunshine 03:16hr Currently Dry\n",
        "Wed Nov 12 21:10:26 +0000 2014\n",
        "None\n",
        "11/12 @ 3:10 PM|25F|62H|Wind: 6 WNW|Max Gust Today: 18WNW @ 2:22PM|Rain: 0.00 in. |UV: 0|#iawx|#wdisplay|http://t.co/LI2Et48oJz"
       ]
      },
      {
       "output_type": "stream",
       "stream": "stdout",
       "text": [
        "\n",
        "Wed Nov 12 21:10:26 +0000 2014\n",
        "None\n",
        "Very very bored very very cold http://t.co/NhcGCO2JDl\n",
        "Wed Nov 12 21:10:26 +0000 2014\n",
        "None\n",
        "I'm pissed at how cold it is bruh \ud83d\ude24 I don't think anyone understands how badly I dislike coldness\n",
        "Wed Nov 12 21:10:26 +0000 2014\n",
        "None\n",
        "http://t.co/v10e3AXXPy #celebrities good #twitterafterdark #nsfw #adult #porn #Brunette hot celebrities sex scenes http://t.co/kMfNS8Yncz"
       ]
      },
      {
       "output_type": "stream",
       "stream": "stdout",
       "text": [
        "\n",
        "Wed Nov 12 21:10:26 +0000 2014\n",
        "None\n",
        "RT @courtsjadekelly: @hayleyjaeee OMG IM DYING! YOUR SO HOT! http://t.co/8iHOjQlg"
       ]
      },
      {
       "output_type": "stream",
       "stream": "stdout",
       "text": [
        "\n",
        "Wed Nov 12 21:10:26 +0000 2014\n",
        "None\n",
        "RT @smitharyy: 'All of a sudden he jumped me': Sheila Copps on fellow MPP's sexual assault http://t.co/kZJoaizDrn #HOT Sheila Copps  #Sheil\u2026\n",
        "Wed Nov 12 21:10:26 +0000 2014\n",
        "None\n",
        "This weather makes me just wana cuddle up.\n",
        "Wed Nov 12 21:10:26 +0000 2014\n",
        "None\n",
        "@acl163 you is hot asf k"
       ]
      },
      {
       "output_type": "stream",
       "stream": "stdout",
       "text": [
        "\n",
        "Wed Nov 12 21:10:26 +0000 2014\n",
        "None\n",
        "@_Mellers Eh, any port in a storm...\n",
        "Wed Nov 12 21:10:26 +0000 2014\n",
        "None\n",
        "RT @NiallOfficial: @ralpharry it's on sky arts now\n",
        "Wed Nov 12 21:10:26 +0000 2014\n",
        "None\n",
        "RT @zaynsaviors: Hello my sunshine @zaynmalik \ud83d\udc98 can you please read my text? Thank you, i love you so so so so muuuch \ud83d\udc98\ud83d\udc51 http://t.co/koQ552\u2026\n",
        "Wed Nov 12 21:10:26 +0000 2014\n",
        "None\n",
        "RT @ArianaGrande: \ud83d\ude38\ud83d\ude38\ud83d\ude38\u201c@Savan_Kotecha: \"LMH\" in the top 10 on the hot 100! Thank you everyone who's requested &amp; bought the song! @ArianaGran\u2026"
       ]
      },
      {
       "output_type": "stream",
       "stream": "stdout",
       "text": [
        "\n",
        "Wed Nov 12 21:10:26 +0000 2014\n",
        "None\n",
        "Goodbye Minneapolis, MN! #travel #winter2014 #minivacay #longdayoftraveling #airports #airplanes #sky\u2026 http://t.co/66OWmOuo6h\n",
        "Wed Nov 12 21:10:26 +0000 2014\n",
        "None\n",
        "RT @just1fool: *Spoons wife\n",
        "\n",
        "W:\"You're not very warm.\"\n",
        "\n",
        "Me:\"I know. I'm thin and cold.\"\n",
        "\n",
        "W:\"I wish you were 800 lbs. so I could make a tent\u2026\n",
        "Wed Nov 12 21:10:26 +0000 2014\n",
        "None\n",
        "RT @smitharyy: 'All of a sudden he jumped me': Sheila Copps on fellow MPP's sexual assault http://t.co/kZJoaizDrn #HOT Sheila Copps  #Sheil\u2026"
       ]
      },
      {
       "output_type": "stream",
       "stream": "stdout",
       "text": [
        "\n",
        "Wed Nov 12 21:10:26 +0000 2014\n",
        "None\n",
        "@h0tsauuc3 it was snowing yesterday \ud83d\ude13 it's so cold I hate it\n",
        "Wed Nov 12 21:10:26 +0000 2014\n",
        "None\n",
        "Man charged with altering Oxycontin\u00a0prescription http://t.co/IOAJAqxbfP\n",
        "Wed Nov 12 21:10:26 +0000 2014\n",
        "None\n",
        "RT @smitharyy: Remembrance Day draws huge crowds as National War Memorial rededicated http://t.co/bxiBsshTs6 #HOT Remembrance Day  #Remembr\u2026"
       ]
      },
      {
       "output_type": "stream",
       "stream": "stdout",
       "text": [
        "\n",
        "Wed Nov 12 21:10:26 +0000 2014\n",
        "None\n",
        "#nsfw,#fuck,#videos,#sexy,#anal,#porn,#sex,#hot,#teen Lesbea Mature Woman With Teen 6(? http://t.co/7SgkHg6mkj ??)\n",
        "Wed Nov 12 21:10:26 +0000 2014\n",
        "None\n",
        "Hot Rylie sexy blonde amazing tits sweet lovely sex shots #sex #movie #hot #iPhone http://t.co/CLBQKK7J6A\n",
        "Wed Nov 12 21:10:26 +0000 2014\n",
        "None\n",
        "My room is like 717382739200102873829262828228372892732883923882 degrees rn, making the sun feel like the artic\n",
        "Wed Nov 12 21:10:26 +0000 2014\n",
        "None\n",
        "RT @ArianaGrande: #LoveMeHarder entered the top 10 on @billboard hot 100 this week!! thank u so much luvs!!!!! https://t.co/NIYYO8CY4t http\u2026"
       ]
      },
      {
       "output_type": "stream",
       "stream": "stdout",
       "text": [
        "\n",
        "Wed Nov 12 21:10:26 +0000 2014\n",
        "None\n",
        "@TimGander I do love the hot wings though!\n",
        "Wed Nov 12 21:10:26 +0000 2014\n",
        "{u'type': u'Point', u'coordinates': [-2.334166, 51.218254]}\n",
        "LIAM\n",
        "YOU ARE MY:\n",
        "SUNSHINE \ud83c\udf1e\n",
        "LOVE \ud83d\udc95\n",
        "WORLD \ud83c\udf0e\n",
        "EVERYTHING \ud83d\ude48\n",
        "PLEASE FOLLOW ME \ud83d\ude0a\n",
        "#MurrayFTW\n",
        "@Real_Liam_Payne x532"
       ]
      },
      {
       "output_type": "stream",
       "stream": "stdout",
       "text": [
        "\n",
        "Wed Nov 12 21:10:26 +0000 2014\n",
        "None\n",
        "3. bruno mars - it will rain #20moichulubionychpiosenek\n",
        "Wed Nov 12 21:10:26 +0000 2014\n",
        "None\n",
        "How hot are these #furniture pieces? Love you @WickerWorldca !! Thanks for the #sneakpeek @MarciaBergen1 you would like too!"
       ]
      },
      {
       "output_type": "stream",
       "stream": "stdout",
       "text": [
        "\n",
        "Wed Nov 12 21:10:26 +0000 2014\n",
        "None\n",
        "Being sick when it's this cold makes me feel VERY sorry for myself :) http://t.co/7ahSXeGCZU\n",
        "Wed Nov 12 21:10:26 +0000 2014\n",
        "None\n",
        "@Real_Liam_Payne \ud83d\udc95\ud83d\udc95\n",
        "I don't exist if I don't have you, the sun doesn't shine, the world doesn't turn. Lots of love from Italy.\ud83d\udc98 \n",
        "\ud83d\udc9d\ud83d\udc9da\n",
        "Wed Nov 12 21:10:26 +0000 2014\n",
        "None\n",
        "I'm so cold"
       ]
      },
      {
       "output_type": "stream",
       "stream": "stdout",
       "text": [
        "\n",
        "Wed Nov 12 21:10:26 +0000 2014\n",
        "None\n",
        "that was toooooo cold\n",
        "Wed Nov 12 21:10:26 +0000 2014\n",
        "None\n",
        "Since when did @MeloA4LU become the hot brother \ud83d\ude2d\ud83d\ude2d\n",
        "Wed Nov 12 21:10:26 +0000 2014\n",
        "None\n",
        "RT @_dom4: yo i was sleeping so good in my warm ass comfy bed and this bitch ass alarm goes off loud as shit in my ear man fuck school"
       ]
      },
      {
       "output_type": "stream",
       "stream": "stdout",
       "text": [
        "\n",
        "Wed Nov 12 21:10:27 +0000 2014\n",
        "None\n",
        "RT @strcngers: @Sckmyass a hot square smirks"
       ]
      },
      {
       "output_type": "stream",
       "stream": "stdout",
       "text": [
        "\n",
        "Wed Nov 12 21:10:27 +0000 2014\n",
        "None\n",
        "@Michael5SOS\n",
        "\n",
        "\u2605\u266cMichael Clifford from 5sos\u266c\u2605\n",
        "\n",
        " \u2661I love you, sunshine\u2661\n",
        "\n",
        "\u263eit would mean so much to me\u263d\n",
        "\n",
        "\u2716To get your follow. Please?\u2716\n",
        "\n",
        "\u266c19.243\n",
        "Wed Nov 12 21:10:27 +0000 2014\n",
        "None\n",
        "Back in the saddle today trying to finish wheat planting before the next rain. #plant15 #wheat #gluten http://t.co/6Vl5vLVFmS"
       ]
      },
      {
       "output_type": "stream",
       "stream": "stdout",
       "text": [
        "\n",
        "Wed Nov 12 21:10:27 +0000 2014\n",
        "None\n",
        "@Crystal_Lungs a hot mess. Damn boy\n",
        "Wed Nov 12 21:10:27 +0000 2014\n",
        "None\n",
        "@Nashgrier Hello sunshine would you please make me the happiest girl on planet with your follow? i love you so much nash xx175\n",
        "Wed Nov 12 21:10:27 +0000 2014\n",
        "None\n",
        "Hot chocolate is \ud83d\ude0d\ud83d\ude4c\n",
        "Wed Nov 12 21:10:27 +0000 2014\n",
        "None\n",
        "Ya mad that ya girl always says that I'm hot.\n",
        "Shes buyin my t-shirt but shes spending your guap.\n",
        "Wed Nov 12 21:10:27 +0000 2014\n",
        "None\n",
        "As the weather gets colder and days darker, a spa day becomes more and more appealing. Get out of the rain and into \u2026 http://t.co/VmRIg5Ieor"
       ]
      },
      {
       "output_type": "stream",
       "stream": "stdout",
       "text": [
        "\n",
        "Wed Nov 12 21:10:27 +0000 2014\n",
        "None\n",
        "Baby Oleg + IT Crowd + Hot water bottle \ud83d\udc95 http://t.co/MF6FLE2kAG\n",
        "Wed Nov 12 21:10:27 +0000 2014\n",
        "None\n",
        "#sex,#hot,#teen,#nsfw,#porn,#milf,: Kerri has new baby doll for ass-to-mouth http://t.co/EbyWLodaB7 #Italian\n",
        "Wed Nov 12 21:10:27 +0000 2014\n",
        "None\n",
        "Eternal sunshine of a spotless mind. http://t.co/U8ozomA7Zr\n",
        "Wed Nov 12 21:10:27 +0000 2014\n",
        "None\n",
        "@Nashgrier HEY,SUNSHINE ,CAN YOU FOLLOW ME? I REALLY LOVE YOU *-*\n",
        "Wed Nov 12 21:10:27 +0000 2014\n",
        "None\n",
        "RT @PlanetShakira: I just voted for @shakira in @Vevo's Hot This Year: http://t.co/cTfPB8VOBO  #VevoHTYLatin"
       ]
      },
      {
       "output_type": "stream",
       "stream": "stdout",
       "text": [
        "\n",
        "Wed Nov 12 21:10:27 +0000 2014\n",
        "None\n",
        "Freezing cold math class and I left my jacket in my car. Definitely leaving halfway through class today...\n",
        "Wed Nov 12 21:10:27 +0000 2014\n",
        "None\n",
        "RT @NiallOfficial: @ralpharry it's on sky arts now"
       ]
      },
      {
       "output_type": "stream",
       "stream": "stdout",
       "text": [
        "\n",
        "Wed Nov 12 21:10:27 +0000 2014\n",
        "None\n",
        "RT @Yahoo_weather: \u3010\u6771\u4eac\u306f\u660e\u65e5\u306e\u671d\u3055\u3089\u306b\u51b7\u3048\u8fbc\u3080\u3011\u660e\u65e5\u306e\u671d\u306f\u6771\u4eac\u3067\u308210\u5ea6\u4ee5\u4e0b\u306b\u306a\u308b\u898b\u8fbc\u307f\u3067\u3001\u65e5\u4e2d\u306e\u6c17\u6e29\u30825\u5ea6\u524d\u5f8c\u4f4e\u304f\u306a\u308a\u305d\u3046\u3067\u3059\u3002\n",
        "\u98a8\u90aa\u3092\u3072\u304b\u306a\u3044\u3088\u3046\u6c17\u3092\u3064\u3051\u3066\u304f\u3060\u3055\u3044\u306d\u3002\n",
        "http://t.co/TesWegrU8o"
       ]
      },
      {
       "output_type": "stream",
       "stream": "stdout",
       "text": [
        "\n",
        "Wed Nov 12 21:10:27 +0000 2014\n",
        "None\n",
        "RT @UrFavritAsshole: 20. U CAN\u2019T JUS ERASE AN EX FROM UR MEMORY LIKE DA MOVIE ETERNAL SUNSHINE OF DA SPOTLESS MIND, BUT DATS WAT ALCOHOL AN\u2026\n",
        "Wed Nov 12 21:10:27 +0000 2014\n",
        "None\n",
        "With the weather changing, what's your favorite Fall recipe??\n",
        "Hearty soups, casserole's and delicious desserts... http://t.co/2j3Prj4Q3M\n",
        "Wed Nov 12 21:10:27 +0000 2014\n",
        "None\n",
        "Kepler-185 b is transiting now in Lyra. It's 1.1x larger than Earth and orbits its star 14.3x closer than Mercury orbits the Sun.\n",
        "Wed Nov 12 21:10:27 +0000 2014\n",
        "None\n",
        "\u2018Ali Baba and his Merry Men\u2019 Storm Lagos this Friday http://t.co/ppEEME0jO0 | via http://t.co/ymtuwGipjq"
       ]
      },
      {
       "output_type": "stream",
       "stream": "stdout",
       "text": [
        "\n",
        "Wed Nov 12 21:10:27 +0000 2014\n",
        "None\n",
        "http://t.co/QRJ6Ae9yZH #bbw comfy #asswednesday #nsfw #adult #porn #Hot bbw tgp video http://t.co/SgBwMUGbKP"
       ]
      },
      {
       "output_type": "stream",
       "stream": "stdout",
       "text": [
        "\n",
        "Wed Nov 12 21:10:27 +0000 2014\n",
        "None\n",
        "#Swim done..now for @mtvgeordieshore &amp; hot choc with added #protein but..craving a night out #geordie style!"
       ]
      },
      {
       "output_type": "stream",
       "stream": "stdout",
       "text": [
        "\n",
        "Wed Nov 12 21:10:27 +0000 2014\n",
        "None\n",
        "I don't want to leave my room for work because my room is toasty and warm and my work is not toasty and warm\n",
        "Wed Nov 12 21:10:27 +0000 2014\n",
        "None\n",
        "SUN @SamBrown42069 @joshfadem I host @brendonsmall @jondaly @CaliseHawkins @midnightshowla +MORE 8PM FREE @ElCidLA"
       ]
      },
      {
       "output_type": "stream",
       "stream": "stdout",
       "text": [
        "\n",
        "Wed Nov 12 21:10:27 +0000 2014\n",
        "None\n",
        "RT @MeninistTweet: Tell me I'm beautiful, not hot. I'm not a temperature.\n",
        "Wed Nov 12 21:10:27 +0000 2014\n",
        "None\n",
        "\u541b\u3068\u904e\u3054\u3059\u65e5\u3005 \u82b1\u306e\u3088\u3046\u306b\u8272\u3065\u3044\u3066\u308b The sky is blue \u5168\u90e8\u3084\u3055\u3057\u304f\u6b4c\u3063\u3066\u308b \u306d\u3048\u541b\u306f\u3044\u3064\u304b\u3089 \u611b\u3092\u63cf\u3044\u3066\u3044\u308b\u306e You're so beautiful \u541b\u3089\u3057\u304f\u8f1d\u3044\u3066\u3044\u3066\u300eInto You\u300f\n",
        "Wed Nov 12 21:10:27 +0000 2014\n",
        "None\n",
        "RT @SORRYNOTSOORRY: WEDNESDAY IS THE BEST DAY OF THE WEEK BC ITS AHS DAY AND WHAT ELSE COULD YOU NEED ON A COLD FALL DAY THE ANSWER IS NOTH\u2026"
       ]
      },
      {
       "output_type": "stream",
       "stream": "stdout",
       "text": [
        "\n",
        "Wed Nov 12 21:10:28 +0000 2014\n",
        "None\n",
        "\ud83c\udf3f\ud83c\udf38\ud83c\udf3f\ud83c\udf38\ud83c\udf3f\ud83c\udf38\n",
        "Hi sunshine @ArianaGrande\n",
        "You mean the world to me so you'll make my life if you just follow me.\n",
        "Je t'aime. MERCI. x958\n",
        "\ud83c\udf3f\ud83c\udf38\ud83c\udf3f\ud83c\udf38\ud83c\udf3f\ud83c\udf38\n",
        "Wed Nov 12 21:10:27 +0000 2014\n",
        "None\n",
        "RT @LFelshh: Never set fire to yourself to keep others warm\n",
        "Wed Nov 12 21:10:28 +0000 2014\n",
        "None\n",
        "my jerk chicken not hot enough \ud83d\ude12"
       ]
      },
      {
       "output_type": "stream",
       "stream": "stdout",
       "text": [
        "\n",
        "Wed Nov 12 21:10:28 +0000 2014\n",
        "None\n",
        "RT @BEAUTIFULPlCS: Noctilucent clouds over Stockholm, #Sweden. http://t.co/TQjFMzkVvv"
       ]
      },
      {
       "output_type": "stream",
       "stream": "stdout",
       "text": [
        "\n",
        "Wed Nov 12 21:10:28 +0000 2014\n",
        "None\n",
        "RT @LukeAdams95: a cold room is everything when it comes to sleep"
       ]
      },
      {
       "output_type": "stream",
       "stream": "stdout",
       "text": [
        "\n",
        "Wed Nov 12 21:10:28 +0000 2014\n",
        "None\n",
        "That new Kim K picture makes me want some hot rolls from Golden Chick.\n",
        "Wed Nov 12 21:10:28 +0000 2014\n",
        "None\n",
        "HOLY \ud83d\udca9 YOU GOT HOT.\n",
        "Wed Nov 12 21:10:28 +0000 2014\n",
        "None\n",
        "If you're a girl called Lacey, chances are you're pretty hot.\n",
        "\n",
        "...and a real slut!!!\n",
        "\n",
        "#TheLaw"
       ]
      },
      {
       "output_type": "stream",
       "stream": "stdout",
       "text": [
        "\n",
        "Wed Nov 12 21:10:28 +0000 2014\n",
        "None\n",
        "RT @LukeAdams95: a cold room is everything when it comes to sleep\n",
        "Wed Nov 12 21:10:28 +0000 2014\n",
        "None\n",
        "Try out one of our hot new programs at the Winter Preview Event Nov 30: ViPR Athletic, Indo Flow &amp; Strength Wave http://t.co/LKYsd7KBkK"
       ]
      },
      {
       "output_type": "stream",
       "stream": "stdout",
       "text": [
        "\n",
        "Wed Nov 12 21:10:28 +0000 2014\n",
        "None\n",
        "Life isn\ufffdt always sunshine and butterflies. Sometimes you got to learn to smile through the pain. #OTGQuotes\n",
        "Wed Nov 12 21:10:28 +0000 2014\n",
        "None\n",
        "RT @Cobratate: #WeCanLandOnACometButWeCant Appreciate the difficulty of landing on a comet without a sarcastic moron fueled hashtag storm"
       ]
      },
      {
       "output_type": "stream",
       "stream": "stdout",
       "text": [
        "\n",
        "Wed Nov 12 21:10:28 +0000 2014\n",
        "None\n",
        "@AllyBrooke \ud83d\udc98\ud83d\udc98\n",
        "PLEASE FOLLOW ME SUNSHINE \u2600\ufe0f\n",
        "I missed your last follow spree :( \n",
        "FOLLOW ME ILY \ud83d\udc98\ud83d\udc9825\n",
        "Wed Nov 12 21:10:28 +0000 2014\n",
        "None\n",
        "RT @WildSpeed_jp: \u652f\u3048\u3066\u304f\u308c\u305f\u3001\u3059\u3079\u3066\u306e\u4eba\u306b\u611f\u8b1d\u3068\u611b\u3092\u3053\u3081\u3066\u3002\n",
        " \n",
        "\u300e\u30ef\u30a4\u30eb\u30c9\u30fb\u30b9\u30d4\u30fc\u30c9 SKY MISSION\u300f\n",
        "\u30a4\u30f3\u30bf\u30fc\u30ca\u30b7\u30e7\u30ca\u30eb\u30fb\u30c8\u30ec\u30fc\u30e9\u30fc\u89e3\u7981\u3002\n",
        " \n",
        "\u4eca\u5ea6\u306e\u30df\u30c3\u30b7\u30e7\u30f3\u306f\u3001\u7a7a\u3078\u3002\n",
        "http://t.co/TQXsnvqZsB #\u30ef\u30a4\u30eb\u30c9\u30b9\u30d4\u30fc\u30c9\n",
        "http\u2026\n",
        "Wed Nov 12 21:10:28 +0000 2014\n",
        "None\n",
        "@NiallOfficial \n",
        "Hi Sunshine !\ud83d\udc95\n",
        "How are you ?\n",
        "I'm so proud of you \ud83d\udc96\n",
        "Can you follow me please ?\ud83d\udc95\n",
        "I love you more than everything \ud83d\udc96\n",
        "X3932"
       ]
      },
      {
       "output_type": "stream",
       "stream": "stdout",
       "text": [
        "\n",
        "Wed Nov 12 21:10:28 +0000 2014\n",
        "None\n",
        "20% OFF Disney\u00ae Frozen Toddler Girls' Rain Poncho w/ #FREE Shipping http://t.co/z8WhPIrf8D\n",
        "Wed Nov 12 21:10:28 +0000 2014\n",
        "None\n",
        "Hot slots online http://t.co/ckUavl33Ga"
       ]
      },
      {
       "output_type": "stream",
       "stream": "stdout",
       "text": [
        "\n",
        "Wed Nov 12 21:10:28 +0000 2014\n",
        "None\n",
        "RT @calthekiwian: @suckmypayneus is really hot\n",
        "Wed Nov 12 21:10:28 +0000 2014\n",
        "None\n",
        "RT @5SOS_Imagining: #imagine \"You're so hot, even my zipper is falling for you\" Michael smirks while you shake your head, laughing at the b\u2026\n",
        "Wed Nov 12 21:10:28 +0000 2014\n",
        "None\n",
        "RT @cbcgareth: The @BoyleStreet storage is filling up and as you can see some kind #yeg ers actually knitted warm clothes #cbc http://t.co/\u2026"
       ]
      },
      {
       "output_type": "stream",
       "stream": "stdout",
       "text": [
        "\n",
        "Wed Nov 12 21:10:28 +0000 2014\n",
        "None\n",
        "#porn,#sex,#hot,#love,#erotic,#anal,#BigTits,#GrannyPorn\n",
        "Wed Nov 12 21:10:28 +0000 2014\n",
        "None\n",
        "RT @smitharyy: 'All of a sudden he jumped me': Sheila Copps on fellow MPP's sexual assault http://t.co/kZJoaizDrn #HOT Sheila Copps  #Sheil\u2026\n",
        "Wed Nov 12 21:10:28 +0000 2014\n",
        "None\n",
        "sexy vids: Rika Hayama In Hot Sultry Threesome #xxx #anal #milf #iPad #usa http://t.co/20Yg11Wjkc"
       ]
      },
      {
       "output_type": "stream",
       "stream": "stdout",
       "text": [
        "\n",
        "Wed Nov 12 21:10:28 +0000 2014\n",
        "None\n",
        "\u201c@SoDamnTrue: the most annoying struggle girls go through with sun glasses http://t.co/PWYTcGEKuu\u201d me on spring break @MartinaDontReed\n",
        "Wed Nov 12 21:10:28 +0000 2014\n",
        "None\n",
        "I like the cold but could live without this rain\ud83d\ude12\n",
        "Wed Nov 12 21:10:28 +0000 2014\n",
        "None\n",
        "#porn,#sex,#hot,#love,#erotic\n",
        "Wed Nov 12 21:10:28 +0000 2014\n",
        "None\n",
        "RT @smitharyy: 'All of a sudden he jumped me': Sheila Copps on fellow MPP's sexual assault http://t.co/kZJoaizDrn #HOT Sheila Copps  #Sheil\u2026\n",
        "Wed Nov 12 21:10:28 +0000 2014\n",
        "None\n",
        "RT @SoDamnTrue: the most annoying struggle girls go through with sun glasses http://t.co/66GWkafi08"
       ]
      },
      {
       "output_type": "stream",
       "stream": "stdout",
       "text": [
        "\n",
        "Wed Nov 12 21:10:28 +0000 2014\n",
        "None\n",
        "This weather reminds me of stockshow\ud83d\ude0d\ud83d\udc37\n",
        "Wed Nov 12 21:10:28 +0000 2014\n",
        "None\n",
        "#favmattpic\n",
        "@TheMattEspinosa \n",
        "Please follow me ily. \n",
        "My sunshine on a rainy day.\n",
        "\n",
        "x14 http://t.co/4bxuHrUEen"
       ]
      },
      {
       "output_type": "stream",
       "stream": "stdout",
       "text": [
        "\n",
        "Wed Nov 12 21:10:28 +0000 2014\n",
        "None\n",
        "Got water in my boot and my socks are freezing now! \ud83d\ude31 #socold\n",
        "Wed Nov 12 21:10:28 +0000 2014\n",
        "None\n",
        "RT @LukeAdams95: a cold room is everything when it comes to sleep"
       ]
      },
      {
       "output_type": "stream",
       "stream": "stdout",
       "text": [
        "\n",
        "Wed Nov 12 21:10:28 +0000 2014\n",
        "None\n",
        "Cold Outside, Hot Prices. Expires 11/17/14. https://t.co/xNeXNqhaPY\n",
        "Wed Nov 12 21:10:28 +0000 2014\n",
        "None\n",
        "@johnas7 couldn't hardly walk on it! I'm gan back up tomorrow, should've stayed over. Was lush jumping in the hot tub after riding!"
       ]
      },
      {
       "output_type": "stream",
       "stream": "stdout",
       "text": [
        "\n",
        "Wed Nov 12 21:10:29 +0000 2014\n",
        "None\n",
        "http://t.co/ZSqzx3ueF3 #celebrities we #FollowFriday #nsfw #adult #porn #Brunette hot celebrities sex scenes http://t.co/6eaVsv9168\n",
        "Wed Nov 12 21:10:28 +0000 2014\n",
        "None\n",
        "@zaynmalik \u2741no matter where,no matter when I'll be there for you till the end.follow me my sunshine it would mean the world to me\u2741x41.686\n",
        "Wed Nov 12 21:10:29 +0000 2014\n",
        "None\n",
        "RT @WildSpeed_jp: \u652f\u3048\u3066\u304f\u308c\u305f\u3001\u3059\u3079\u3066\u306e\u4eba\u306b\u611f\u8b1d\u3068\u611b\u3092\u3053\u3081\u3066\u3002\n",
        " \n",
        "\u300e\u30ef\u30a4\u30eb\u30c9\u30fb\u30b9\u30d4\u30fc\u30c9 SKY MISSION\u300f\n",
        "\u30a4\u30f3\u30bf\u30fc\u30ca\u30b7\u30e7\u30ca\u30eb\u30fb\u30c8\u30ec\u30fc\u30e9\u30fc\u89e3\u7981\u3002\n",
        " \n",
        "\u4eca\u5ea6\u306e\u30df\u30c3\u30b7\u30e7\u30f3\u306f\u3001\u7a7a\u3078\u3002\n",
        "http://t.co/TQXsnvqZsB #\u30ef\u30a4\u30eb\u30c9\u30b9\u30d4\u30fc\u30c9\n",
        "http\u2026\n",
        "Wed Nov 12 21:10:29 +0000 2014\n",
        "None\n",
        "@TheDanaChanel #np The Weeknd Tears in the rain"
       ]
      },
      {
       "output_type": "stream",
       "stream": "stdout",
       "text": [
        "\n",
        "Wed Nov 12 21:10:29 +0000 2014\n",
        "None\n",
        "20% OFF Disney\u00ae Frozen Toddler Girls' Rain Poncho w/ #FREE Shipping http://t.co/ppNdX46apJ\n",
        "Wed Nov 12 21:10:29 +0000 2014\n",
        "None\n",
        "@Caolan1987 unfortunately I'm busy through the week and they will be cold enough don't worry #relax\n",
        "Wed Nov 12 21:10:29 +0000 2014\n",
        "None\n",
        "http://t.co/Q0iFUbtIsY #babes 8picsdaily #tittytuesday #nsfw #adult #porn #Hot babe clips http://t.co/6T18EOKesv"
       ]
      },
      {
       "output_type": "stream",
       "stream": "stdout",
       "text": [
        "\n",
        "Wed Nov 12 21:10:29 +0000 2014\n",
        "None\n",
        "#sex,#hot,#teen,#nsfw,#porn,#milf,: awesome shemale cum shots two scenes http://t.co/dNCSfY5Z8l #Shemale\n",
        "Wed Nov 12 21:10:29 +0000 2014\n",
        "None\n",
        "Let me just sit directly across from these hot girls at Starbucks\n",
        "Wed Nov 12 21:10:29 +0000 2014\n",
        "None\n",
        "RT @CaeKudos: \u201c@BurgerKing: 99 problems and fries solve every one.\u201d Except when my fries are cold, bitch"
       ]
      },
      {
       "output_type": "stream",
       "stream": "stdout",
       "text": [
        "\n",
        "Wed Nov 12 21:10:29 +0000 2014\n",
        "None\n",
        "A beautiful rain in my last flight with @adrianagazzo to #betocarreroworld ! http://t.co/SPCjb2W3yM\n",
        "Wed Nov 12 21:10:29 +0000 2014\n",
        "None\n",
        "Jessie J is hot af tho \ud83d\ude0d\n",
        "Wed Nov 12 21:10:29 +0000 2014\n",
        "None\n",
        "RT @ArianaGrande: #LoveMeHarder entered the top 10 on @billboard hot 100 this week!! thank u so much luvs!!!!! https://t.co/NIYYO8CY4t http\u2026\n",
        "Wed Nov 12 21:10:29 +0000 2014\n",
        "None\n",
        "RT @Neymarred: Messi has scored on a cold, Wednesday night at Upton Park. Lifetime mission complete."
       ]
      },
      {
       "output_type": "stream",
       "stream": "stdout",
       "text": [
        "\n",
        "Wed Nov 12 21:10:29 +0000 2014\n",
        "None\n",
        "@Real_Liam_Payne \ud83d\udc95\ud83d\udc95\n",
        "I don't exist if I don't have you, the sun doesn't shine, the world doesn't turn. Lots of love from Italy.\ud83d\udc98 \n",
        "\ud83d\udc9d\ud83d\udc9daa\n",
        "Wed Nov 12 21:10:29 +0000 2014\n",
        "None\n",
        "Dont no weather to go town this weekend! Trying to savveeee"
       ]
      },
      {
       "output_type": "stream",
       "stream": "stdout",
       "text": [
        "\n",
        "Wed Nov 12 21:10:29 +0000 2014\n",
        "{u'type': u'Point', u'coordinates': [-1.200142, 52.46336]}\n",
        "RT @StatsBritain: The most popular Halloween costumes in Britain:\n",
        "1 Dolores Umbridge\n",
        "2 Steven Moffat\n",
        "3 Voldemort \n",
        "4 Storm in a Tea Cup\n",
        "5 3 \u2026\n",
        "Wed Nov 12 21:10:29 +0000 2014\n",
        "None\n",
        "RT @Troyonne_XOXO: These girls rather be cute than warm . smh\n",
        "Wed Nov 12 21:10:29 +0000 2014\n",
        "None\n",
        "I am freezing they should turn off the A/C in class!"
       ]
      },
      {
       "output_type": "stream",
       "stream": "stdout",
       "text": [
        "\n",
        "Wed Nov 12 21:10:29 +0000 2014\n",
        "None\n",
        "So not ready for baseball in 30 degree weather\n",
        "Wed Nov 12 21:10:29 +0000 2014\n",
        "None\n",
        "Bring on the cold and snow. I can handle it LIKE A BOSS.\n",
        "Wed Nov 12 21:10:29 +0000 2014\n",
        "None\n",
        "RT @CMAFestVIP: RT &amp; follow @blakeshelton &amp; @CMAFestVIP for chance to WIN SIGNED \"Bringing Back The Sunshine\" CD! #CMAawards http://t.co/K1\u2026\n",
        "Wed Nov 12 21:10:29 +0000 2014\n",
        "None\n",
        "RT @History_Pics: Red Hot Chili Peppers http://t.co/WBZbNRuvLJ"
       ]
      },
      {
       "output_type": "stream",
       "stream": "stdout",
       "text": [
        "\n",
        "Wed Nov 12 21:10:29 +0000 2014\n",
        "None\n",
        "Its cold outside"
       ]
      },
      {
       "output_type": "stream",
       "stream": "stdout",
       "text": [
        "\n",
        "Wed Nov 12 21:10:29 +0000 2014\n",
        "None\n",
        "Aint You Done With Your Exams? \"@Mpho_Ma4di: This weather though...I cud study the whole night!\"\n",
        "Wed Nov 12 21:10:29 +0000 2014\n",
        "None\n",
        "My Joe onesie is actually perfect for these cold nights\n",
        "Wed Nov 12 21:10:29 +0000 2014\n",
        "None\n",
        "RT @samantha_moussa: @jamazingcr7 @rama_eskander omg Joanne you look so hot in your avi \ud83d\ude0d\ud83d\ude2d\ud83d\ude2b\n",
        "Wed Nov 12 21:10:29 +0000 2014\n",
        "None\n",
        "Hey my sunshine!!! \n",
        "\ud83d\ude48Not be sad please\ud83d\ude48 \n",
        "~~be happy for me~~\n",
        "you mean everything to me!\n",
        "please follow me\u2753\n",
        "ILYSM @zaynmalik 9.239"
       ]
      },
      {
       "output_type": "stream",
       "stream": "stdout",
       "text": [
        "\n",
        "Wed Nov 12 21:10:29 +0000 2014\n",
        "None\n",
        "@kres92137897 OK man. Lets see some HOT OF U! He he @omaha_pal\n",
        "Wed Nov 12 21:10:29 +0000 2014\n",
        "None\n",
        "My hands cold.\n",
        "Wed Nov 12 21:10:29 +0000 2014\n",
        "None\n",
        ".@sprout_sarah Thanks Sarah! Bring back some sunshine! #SproutChat http://t.co/dshOJZIchz\n",
        "Wed Nov 12 21:10:29 +0000 2014\n",
        "None\n",
        "In the past month, 77.4% of Jewelry Shoppers checked the weather on the Internet, via http://t.co/l9KArIwhG8 #audienceresearch\n",
        "Wed Nov 12 21:10:29 +0000 2014\n",
        "None\n",
        "For some reason I had it in my mind that the sun had already set.\n",
        "\n",
        "It's 3pm."
       ]
      },
      {
       "output_type": "stream",
       "stream": "stdout",
       "text": [
        "\n",
        "Wed Nov 12 21:10:29 +0000 2014\n",
        "None\n",
        "RT @RiversideCarol: 1967 slum cleared from tenement in Glasgow meant inside toilet, hot water and a stable tenancy for our family for 1st t\u2026\n",
        "Wed Nov 12 21:10:29 +0000 2014\n",
        "None\n",
        "@crraazzzzymofos: @NiallOfficial \n",
        " \u2601\ufe0fhi niall\n",
        "\n",
        "\ud83c\udf00 i love you sunshine\n",
        "\ud83c\ude02 thank u for everything\n",
        "\ud83c\udf90 i'm so proud of you\n",
        "\ud83d\udd39 please follow me?56\n",
        "Wed Nov 12 21:10:29 +0000 2014\n",
        "None\n",
        "Hi @Harry_Styles you are the sun shine of my life, I think I'm addicted to your light. Please can you follow me ? You will make my life \ud83d\udc9e231"
       ]
      },
      {
       "output_type": "stream",
       "stream": "stdout",
       "text": [
        "\n",
        "Wed Nov 12 21:10:29 +0000 2014\n",
        "None\n",
        "Amile Water and Melrose Foxx share hot fun | xxx vids #hardcore #fuck #cum #hot #free http://t.co/0gHc6VNsYO\n",
        "Wed Nov 12 21:10:29 +0000 2014\n",
        "None\n",
        "Sleeping to the sound of rain....fantastic.\n",
        "Wed Nov 12 21:10:29 +0000 2014\n",
        "None\n",
        "@Aaroosa_M hey sunshine \u2600 , do you want to follow me, please?\ud83d\udc8b \u2665"
       ]
      },
      {
       "output_type": "stream",
       "stream": "stdout",
       "text": [
        "\n",
        "Wed Nov 12 21:10:29 +0000 2014\n",
        "None\n",
        "+ HOT + \n",
        "#CFTC: multa banche USA per MANIPOLAZIONE mercato. \n",
        "TOT 1.4 mld $ \n",
        "Citi $ 310M \n",
        "JPM $ 310M \n",
        "RBS $ 290M \n",
        "UBS $ 290M \n",
        "HSBC $ 275M\n",
        "Wed Nov 12 21:10:30 +0000 2014\n",
        "None\n",
        "HI SUNSHINE.PLS FOLLOW ME,I REALLY LOVE U SO SO MUCH.\n",
        "DON'T IGNORE.I EXIST.@NiallOfficial @Ashton5SOS \u2728MAKE ME HAPPY,AND BE MY 1/9\u2728 587"
       ]
      },
      {
       "output_type": "stream",
       "stream": "stdout",
       "text": [
        "\n",
        "Wed Nov 12 21:10:30 +0000 2014\n",
        "None\n",
        "@zaynmalik\n",
        "Hi sunshine! Hope you're well\n",
        "So zayn, its my 18th bday. Plz make it my best one and follow meh!\n",
        "It'd mean the world to meh .xx\n",
        "Wed Nov 12 21:10:30 +0000 2014\n",
        "None\n",
        "free xnxx: Double blowjob by hot blonde  #pics #news #pussy #youtube http://t.co/FzZi3zd05Q"
       ]
      },
      {
       "output_type": "stream",
       "stream": "stdout",
       "text": [
        "\n",
        "Wed Nov 12 21:10:30 +0000 2014\n",
        "None\n",
        "hi sunshine @Louis_Tomlinson \ud83d\udc9e\n",
        "\n",
        "you mean the world to me, thank you for everything, i love you so much, can you follow me pls? \ud83c\udf1d\n",
        "\n",
        "X1,941\n",
        "Wed Nov 12 21:10:30 +0000 2014\n",
        "None\n",
        "RT @wifeysworld: From our latest update- a little public flashing got me so hot we had to run back to our room to fuck our brains out! http\u2026"
       ]
      },
      {
       "output_type": "stream",
       "stream": "stdout",
       "text": [
        "\n",
        "Wed Nov 12 21:10:30 +0000 2014\n",
        "None\n",
        "RT @bchartsbr: Ariana Grande \u00e9 a \u00fanica artista a conseguir aparecer 4 vezes no Top 10 do Hot 100 em 2014 http://t.co/RF1qIaadNt http://t.co\u2026"
       ]
      },
      {
       "output_type": "stream",
       "stream": "stdout",
       "text": [
        "\n",
        "Wed Nov 12 21:10:30 +0000 2014\n",
        "None\n",
        "Hot job openings in Texas! https://t.co/32xSR2xoei #jobs #texas #houston #sanantonio #dallas #austin #fortworth #cowboys #tweetmyjobs\n",
        "Wed Nov 12 21:10:30 +0000 2014\n",
        "None\n",
        "kou sim is like a fool sims vamps cant be out in the sun for long but hes like *stands there*\n",
        "Wed Nov 12 21:10:30 +0000 2014\n",
        "None\n",
        "@the_blueprint I SURE THE FUCK DID, IN 70+ WEATHER WITH SHORTS ON"
       ]
      },
      {
       "output_type": "stream",
       "stream": "stdout",
       "text": [
        "\n",
        "Wed Nov 12 21:10:30 +0000 2014\n",
        "None\n",
        "Por qu\u00e9 me salen cada dos por tres fotos de t\u00edas en bolas en twiter? Que hot est\u00e1n mis seguidores... :/\n",
        "Wed Nov 12 21:10:30 +0000 2014\n",
        "None\n",
        "Los Thunder han perdido los 5 partidos que han jugado fuera de casa en lo que llevamos de temporada."
       ]
      },
      {
       "output_type": "stream",
       "stream": "stdout",
       "text": [
        "\n",
        "Wed Nov 12 21:10:30 +0000 2014\n",
        "None\n",
        "RT @NiallOfficial: @ralpharry it's on sky arts now\n",
        "Wed Nov 12 21:10:30 +0000 2014\n",
        "None\n",
        "RT @Vol_Baseball: Tennessee extends a warm welcome to new @Vol_Baseball family member, Sean Skelly (@seanjskelly44)! #Vols #SigningDay http\u2026\n",
        "Wed Nov 12 21:10:30 +0000 2014\n",
        "None\n",
        "@paaijj @Zooomoo utmost jealousy you're catching normal weather, did you get the 50?"
       ]
      },
      {
       "output_type": "stream",
       "stream": "stdout",
       "text": [
        "\n",
        "Wed Nov 12 21:10:30 +0000 2014\n",
        "None\n",
        "RT @RedNinetyFour: Rockets are off to their best start in almost 20 years but hot story in HOU sports is mediocre QB taking over mediocre f\u2026\n",
        "Wed Nov 12 21:10:30 +0000 2014\n",
        "None\n",
        "RT @TheSkyeTrilogy: Half-asleep, entwined\n",
        "Under cool sheets\n",
        "We watch a mimosa sky\n",
        "Break over our quiet sea\n",
        "Sweet perfection\n",
        "To drift in lov\u2026\n",
        "Wed Nov 12 21:10:30 +0000 2014\n",
        "None\n",
        "Hello Fall, meet your perfect match. http://t.co/SXe2Ii2v2h @fabtasticeats @GetOutKids@TOPOdistillery http://t.co/N1oVJ79V5W@outdoorlux\n",
        "Wed Nov 12 21:10:30 +0000 2014\n",
        "None\n",
        "@FCliekGrunn ach gossie das vroeg :O nou ja hij was iig lekker warm hihi\n",
        "Wed Nov 12 21:10:30 +0000 2014\n",
        "None\n",
        "Takin me a hot shower first"
       ]
      },
      {
       "output_type": "stream",
       "stream": "stdout",
       "text": [
        "\n",
        "Wed Nov 12 21:10:30 +0000 2014\n",
        "None\n",
        "@Oprah Storm is a powerful black character from Marvel Comics starring in her own series. Please help promote. #Ororo http://t.co/OvlHznF9xr\n",
        "Wed Nov 12 21:10:30 +0000 2014\n",
        "None\n",
        "RT @mb_msp: Winter break? Not for race drivers! :) MT \"@robertwickens: Used yesterday's great weather for one day in the kart. http://t.co/\u2026"
       ]
      },
      {
       "output_type": "stream",
       "stream": "stdout",
       "text": [
        "\n",
        "Wed Nov 12 21:10:30 +0000 2014\n",
        "None\n",
        "@chadisnotrad he wears a uniform every day therefore warm clothes are provided u stoop\n",
        "Wed Nov 12 21:10:30 +0000 2014\n",
        "None\n",
        "RT @ArianaGrande: \ud83d\ude38\ud83d\ude38\ud83d\ude38\u201c@Savan_Kotecha: \"LMH\" in the top 10 on the hot 100! Thank you everyone who's requested &amp; bought the song! @ArianaGran\u2026\n",
        "Wed Nov 12 21:10:30 +0000 2014\n",
        "None\n",
        "RT @LukeAdams95: a cold room is everything when it comes to sleep\n",
        "Wed Nov 12 21:10:30 +0000 2014\n",
        "None\n",
        "@ccover99 Awe Carli that's what you get for being a troublemaker lol i'm jk stay warm girl :)\n",
        "Wed Nov 12 21:10:30 +0000 2014\n",
        "None\n",
        "Hot And Wild Orgy Party  http://t.co/KfGl0rQsEP"
       ]
      },
      {
       "output_type": "stream",
       "stream": "stdout",
       "text": [
        "\n",
        "Wed Nov 12 21:10:30 +0000 2014\n",
        "None\n",
        "RT @ArianaGrande: \ud83d\ude38\ud83d\ude38\ud83d\ude38\u201c@Savan_Kotecha: \"LMH\" in the top 10 on the hot 100! Thank you everyone who's requested &amp; bought the song! @ArianaGran\u2026\n",
        "Wed Nov 12 21:10:30 +0000 2014\n",
        "None\n",
        "I feel ill and I need a hot choc, a hug and sympathy \ud83d\ude37\n",
        "Wed Nov 12 21:10:30 +0000 2014\n",
        "None\n",
        "RT @myavonheart: why does my body keep producing acne why can\u2019t you focus on more important things like making me hot?"
       ]
      },
      {
       "output_type": "stream",
       "stream": "stdout",
       "text": [
        "\n",
        "Wed Nov 12 21:10:30 +0000 2014\n",
        "None\n",
        "RT @chartnews: Billboard Hot 100: #7(+17) Love Me Harder, @ArianaGrande &amp; @theweeknd [5 weeks]. *new peak*\n",
        "Wed Nov 12 21:10:30 +0000 2014\n",
        "None\n",
        "i WANT TO BE VIXX BURRITO RIGHT NOW . *SO COLD*"
       ]
      },
      {
       "output_type": "stream",
       "stream": "stdout",
       "text": [
        "\n",
        "Wed Nov 12 21:10:30 +0000 2014\n",
        "None\n",
        "It don't make no sense that it's this cold \ud83d\ude29\ud83d\ude24\n",
        "Wed Nov 12 21:10:30 +0000 2014\n",
        "None\n",
        "RT @ArianaGrande: #LoveMeHarder entered the top 10 on @billboard hot 100 this week!! thank u so much luvs!!!!! https://t.co/NIYYO8CY4t http\u2026\n",
        "Wed Nov 12 21:10:30 +0000 2014\n",
        "None\n",
        "Two boats in a storm with a minister. Those with Paul will be saved. Those with Jonah are drowning. Which minister are you? ~ Steven Furtick\n",
        "Wed Nov 12 21:10:30 +0000 2014\n",
        "None\n",
        "RT @nsfwhemmo: It's so cold I'm moving to Hawaii\n",
        "Wed Nov 12 21:10:30 +0000 2014\n",
        "None\n",
        "Mature mama gets it from behind | awesome xxx #hardcore #fuck #cum #hot #free http://t.co/d73ky3mnni"
       ]
      },
      {
       "output_type": "stream",
       "stream": "stdout",
       "text": [
        "\n",
        "Wed Nov 12 21:10:30 +0000 2014\n",
        "None\n",
        "CARTERS TODDLER GIRLS PJS WITH ADORABLE MOUSE DESIGN ON FRONT. SIZE 18 MONTHS. WARM &amp; COMFY WITH COVERED FEET. http://t.co/iO2VfJ6PUX\n",
        "Wed Nov 12 21:10:30 +0000 2014\n",
        "None\n",
        "\u3010LINE Toss (\u30e9\u30a4\u30f3 \u30c8\u30b9) - \u5199\u771f\u30b7\u30a7\u30a2\u3011\u304d\u308c\u3044\u3067\u4fbf\u5229\u306b\u5199\u771f\u3084\u52d5\u753b\u30fb\u30fb\u30fbURL\u2192[https://t.co/yXOd9V5LJO] http://t.co/VlEG14wi0c\n",
        "Wed Nov 12 21:10:30 +0000 2014\n",
        "None\n",
        "RT @ArianaGrande: \ud83d\ude38\ud83d\ude38\ud83d\ude38\u201c@Savan_Kotecha: \"LMH\" in the top 10 on the hot 100! Thank you everyone who's requested &amp; bought the song! @ArianaGran\u2026\n",
        "Wed Nov 12 21:10:30 +0000 2014\n",
        "None\n",
        "RT @MeninistTweet: Tell me I'm beautiful, not hot. I'm not a temperature."
       ]
      },
      {
       "output_type": "stream",
       "stream": "stdout",
       "text": [
        "\n",
        "Wed Nov 12 21:10:30 +0000 2014\n",
        "None\n",
        "@SissyBitchFag @Sissysluthole2 that's hot\n",
        "Wed Nov 12 21:10:30 +0000 2014\n",
        "None\n",
        "When you run outside and your bagel gets cold\ud83d\ude2a\ud83d\ude14\n",
        "Wed Nov 12 21:10:30 +0000 2014\n",
        "None\n",
        "\"I wish they had a warm tunnel system at Ball State.\" @anastasiamerkel"
       ]
      },
      {
       "output_type": "stream",
       "stream": "stdout",
       "text": [
        "\n",
        "Wed Nov 12 21:10:30 +0000 2014\n",
        "None\n",
        "@harry_styles hi sunshine\u2600, could you please follow me and @stylesdrxams? We're so excited for #FOUR \u2665 love you, thanks! x3,822\n",
        "Wed Nov 12 21:10:31 +0000 2014\n",
        "None\n",
        "That cold walk from Parker to OK hall \ud83d\ude28\ud83d\ude33 if someone were to slap me I probably wouldn't feel a thing \ud83d\ude02\n",
        "Wed Nov 12 21:10:31 +0000 2014\n",
        "{u'type': u'Point', u'coordinates': [-95.233397, 38.939642]}\n",
        "RT @QuoteHive: \"A woman is like a tea bag; you never know how strong it is until it's in hot water.\" -Eleanor Roosevelt"
       ]
      },
      {
       "output_type": "stream",
       "stream": "stdout",
       "text": [
        "\n",
        "Wed Nov 12 21:10:31 +0000 2014\n",
        "None\n",
        "@Real_Liam_Payne \n",
        "\n",
        "HI SUNSHINE \ud83d\udc9c\n",
        "\n",
        "HOW ARE YOU?\n",
        "\n",
        " CAN YOU FOLLOW ME PLS? \ud83d\udc9c\n",
        "\n",
        "I LOVE YOU SO MUCH\ud83d\udc9c\n",
        "\n",
        "\ud83c\udf40\ud83d\ude4f\ud83c\udf40\ud83d\ude4f\ud83c\udf40\ud83d\ude4f\ud83c\udf40\ud83d\ude4f\ud83c\udf40\ud83d\ude4f\ud83c\udf40\ud83d\ude4f\ud83c\udf40\n",
        "\n",
        "x298\n",
        "Wed Nov 12 21:10:31 +0000 2014\n",
        "None\n",
        "\ud83c\udf34\n",
        "\n",
        "@Nashgrier \n",
        "\n",
        "follow me please sunshine\n",
        "\n",
        "\ud83c\udf34x31 http://t.co/8ssTnQpg9q\n",
        "Wed Nov 12 21:10:31 +0000 2014\n",
        "None\n",
        "Yes those FALSE ALARM tornado watches from the computer hack are why you use the ORIGINAL mobile news and weather APP: RADIO no bogus info\n",
        "Wed Nov 12 21:10:31 +0000 2014\n",
        "None\n",
        "With all the talk about cold &amp; #snow in NYC it's a good for energy efficiency tips from our Weatherization Director http://t.co/wQEDTB0xiP"
       ]
      },
      {
       "output_type": "stream",
       "stream": "stdout",
       "text": [
        "\n",
        "Wed Nov 12 21:10:31 +0000 2014\n",
        "None\n",
        "CARTERS TODDLER GIRLS PJS WITH ADORABLE MOUSE DESIGN ON FRONT. SIZE 18 MONTHS. WARM &amp; COMFY WITH COVERED FEET. http://t.co/uqx7SFCLyg\n",
        "Wed Nov 12 21:10:31 +0000 2014\n",
        "None\n",
        "RT @softgrungesam23: #WeCanLandOnACometButWeCant accept that jet fuel doesn't burn hot enough to melt steel beams. Investigate 9/11"
       ]
      },
      {
       "output_type": "stream",
       "stream": "stdout",
       "text": [
        "\n",
        "Wed Nov 12 21:10:31 +0000 2014\n",
        "None\n",
        "RT @ArianaGrande: \ud83d\ude38\ud83d\ude38\ud83d\ude38\u201c@Savan_Kotecha: \"LMH\" in the top 10 on the hot 100! Thank you everyone who's requested &amp; bought the song! @ArianaGran\u2026\n",
        "Wed Nov 12 21:10:31 +0000 2014\n",
        "None\n",
        "@Michael5SOS\n",
        "\n",
        "\u2605\u266cMichael Clifford from 5sos\u266c\u2605\n",
        "\n",
        " \u2661I love you, sunshine\u2661\n",
        "\n",
        "\u263eit would mean so much to me\u263d\n",
        "\n",
        "\u2716To get your follow. Please?\u2716\n",
        "\n",
        "\u266c19.244\n",
        "Wed Nov 12 21:10:31 +0000 2014\n",
        "None\n",
        "@SouthernCpl That is hot as fuck! \ud83d\udd25\ud83d\udd25\ud83d\udd25Me next!!!! LOL"
       ]
      },
      {
       "output_type": "stream",
       "stream": "stdout",
       "text": [
        "\n",
        "Wed Nov 12 21:10:31 +0000 2014\n",
        "None\n",
        "#bbw power #Sexy #nsfw #adult #porn #Hot bbw tgp video http://t.co/wEKbp2pGw3\n",
        "Wed Nov 12 21:10:31 +0000 2014\n",
        "None\n",
        "RT @m_templet: I love this weather but my body just wasn't ready for it today #frozen\n",
        "Wed Nov 12 21:10:31 +0000 2014\n",
        "None\n",
        "s\u00ed, hab\u00e9is le\u00eddo bien. HOT-MAIL. Casi se me hab\u00eda olvidado la contrase\u00f1a y me da verg\u00fcenza el nombre but xdd\n",
        "Wed Nov 12 21:10:31 +0000 2014\n",
        "None\n",
        "RT @yoshiiiiii_: rt si tu veux trop prendre ton sunshine dans tes bras"
       ]
      },
      {
       "output_type": "stream",
       "stream": "stdout",
       "text": [
        "\n",
        "Wed Nov 12 21:10:31 +0000 2014\n",
        "None\n",
        "RT @thatzcalum: \u2727:\u263c  Hi @CherLloyd  \u2727:\u263c \n",
        " i love you so fucking much sunshine \n",
        " so could you pls make me happy and follow me?\n",
        " it mean the \u2026\n",
        "Wed Nov 12 21:10:31 +0000 2014\n",
        "None\n",
        "@SEBTSB UR HOT\n",
        "Wed Nov 12 21:10:31 +0000 2014\n",
        "None\n",
        "Wind 1.6 mph N. Barometer 30.76 in, Falling slowly. Temperature 27.7 . Rain today 0.00 in.\n",
        "Wed Nov 12 21:10:31 +0000 2014\n",
        "None\n",
        "Hiiiiii @zaynmalik \u265b\n",
        "You're my sunshine \u2600\n",
        "You make me happy when I'm sad \u10da\n",
        "Thank you for coming into my life \u271e\n",
        "Do u mind follow me? \u2718\n",
        "x48"
       ]
      },
      {
       "output_type": "stream",
       "stream": "stdout",
       "text": [
        "\n",
        "Wed Nov 12 21:10:31 +0000 2014\n",
        "None\n",
        "Thanks 4 keepin me warm while I tinkle http://t.co/hTHPw2Npc0\n",
        "Wed Nov 12 21:10:31 +0000 2014\n",
        "{u'type': u'Point', u'coordinates': [-95.052869, 29.815773]}\n",
        "RT @LukeAdams95: a cold room is everything when it comes to sleep\n",
        "Wed Nov 12 21:10:31 +0000 2014\n",
        "None\n",
        "Hii sunshine\ud83d\udc96\n",
        "How are you?\n",
        "Your voice make me strong.\n",
        "Thank you for make me smile, I love you.\n",
        "Can you follow me? @Real_Liam_Payne x543\n",
        "Wed Nov 12 21:10:31 +0000 2014\n",
        "None\n",
        "RT @LukeAdams95: a cold room is everything when it comes to sleep\n",
        "Wed Nov 12 21:10:31 +0000 2014\n",
        "None\n",
        "RT @LaceyCotter: Need to stop buying going out clothes when I have nothing for this cold weather\ud83d\ude29"
       ]
      },
      {
       "output_type": "stream",
       "stream": "stdout",
       "text": [
        "\n",
        "Wed Nov 12 21:10:31 +0000 2014\n",
        "None\n",
        "http://t.co/yQTaog4Gpc #celebrities love #mirrormonday #nsfw #adult #porn #Brunette hot celebrities sex scenes http://t.co/q5myvyyiDJ\n",
        "Wed Nov 12 21:10:31 +0000 2014\n",
        "None\n",
        "@Real_Liam_Payne \ud83d\udc95\ud83d\udc95\n",
        "I don't exist if I don't have you, the sun doesn't shine, the world doesn't turn. Lots of love from Italy.\ud83d\udc98 \n",
        "\ud83d\udc9d\ud83d\udc9ds"
       ]
      },
      {
       "output_type": "stream",
       "stream": "stdout",
       "text": [
        "\n",
        "Wed Nov 12 21:10:31 +0000 2014\n",
        "None\n",
        "#nsfw,#fuck,#videos,#sexy,#anal,#porn,#sex,#hot,#teen | #Public | Public Sex 4  http://t.co/bthbA2aAjY\n",
        "Wed Nov 12 21:10:31 +0000 2014\n",
        "None\n",
        "RT @CauseWereClassy: If we could not have all four seasons of weather in one week, that'd be great."
       ]
      },
      {
       "output_type": "stream",
       "stream": "stdout",
       "text": [
        "\n",
        "Wed Nov 12 21:10:31 +0000 2014\n",
        "None\n",
        "So cold..\n",
        "Wed Nov 12 21:10:31 +0000 2014\n",
        "None\n",
        "\uc989\uc11d\ub9cc\ub0a8..\n",
        "\uc18c\ub77c\ub137 \ubc24\ud0b9 \uc139\ud30c \uc77c\ubc18\uc778\ub9cc\ub0a8100%~\n",
        "\u2665\u2500http://t.co/yVh6WbwTGk\u2500\u2665\n",
        "   http://t.co/w1OLLCRD0u\n",
        "\ub9cc\ub0a8 \uc0ac\uc774\ud2b8\n",
        "\ubb34\ub8cc\ucc44\ud305\uc0ac\uc774\ud2b8\n",
        "\uc1a1\ud61c\uad50\n",
        "hot\uc790\ub8cc\n",
        "Wed Nov 12 21:10:31 +0000 2014\n",
        "None\n",
        "Hit me like a ray of sun, burning through my darkest night. You're the only one that I want, and I'm addicted to your light.\n",
        "Wed Nov 12 21:10:31 +0000 2014\n",
        "None\n",
        "RT @g_petan: This weather is my kinda weather \u2744\ufe0f\u2601\ufe0f LET IT SNOW."
       ]
      },
      {
       "output_type": "stream",
       "stream": "stdout",
       "text": [
        "\n",
        "Wed Nov 12 21:10:31 +0000 2014\n",
        "None\n",
        "@TheyCallMeAMO Actually, I need to finish this memo tonight but Latham location has hot flexibility flow 5:45-7:00 tomorrow\ud83d\ude2c\n",
        "Wed Nov 12 21:10:31 +0000 2014\n",
        "None\n",
        "RT @ArianaGrande: #LoveMeHarder entered the top 10 on @billboard hot 100 this week!! thank u so much luvs!!!!! https://t.co/NIYYO8CY4t http\u2026\n",
        "Wed Nov 12 21:10:31 +0000 2014\n",
        "None\n",
        "RT @SoDamnTrue: the most annoying struggle girls go through with sun glasses http://t.co/66GWkafi08"
       ]
      },
      {
       "output_type": "stream",
       "stream": "stdout",
       "text": [
        "\n",
        "Wed Nov 12 21:10:31 +0000 2014\n",
        "None\n",
        "My house is always freezing\n",
        "Wed Nov 12 21:10:31 +0000 2014\n",
        "None\n",
        "@Nashgrier Hello sunshine would you please make me the happiest girl on planet with your follow? i love you so much nash xx176"
       ]
      },
      {
       "output_type": "stream",
       "stream": "stdout",
       "text": [
        "\n",
        "Wed Nov 12 21:10:31 +0000 2014\n",
        "None\n",
        "@SuggsMagic you're picture is hot \ud83d\ude0d haha joe looking pretty fine ;)"
       ]
      },
      {
       "output_type": "stream",
       "stream": "stdout",
       "text": [
        "\n",
        "Wed Nov 12 21:10:31 +0000 2014\n",
        "None\n",
        "it's a confirmed scientific fact that white boys will wear basketball shorts no matter the weather\n",
        "Wed Nov 12 21:10:31 +0000 2014\n",
        "None\n",
        "RT @LukeAdams95: a cold room is everything when it comes to sleep"
       ]
      },
      {
       "output_type": "stream",
       "stream": "stdout",
       "text": [
        "\n",
        "Wed Nov 12 21:10:32 +0000 2014\n",
        "None\n",
        "\ud83d\udc95\ud83c\udf38\ud83d\udc95\ud83c\udf38\ud83d\udc95\n",
        "Luke Hemmings from 5SOS\n",
        "please follow me sunshine\n",
        "it would mean the absolute \ud83c\udf0d\n",
        "i love you more than anything\n",
        "@Luke5SOS \n",
        "\ud83d\udc95\ud83c\udf38\ud83d\udc95\ud83c\udf38\ud83d\udc95\n",
        "20,357\n",
        "Wed Nov 12 21:10:32 +0000 2014\n",
        "None\n",
        "Cold assel in this nail salon \ud83d\ude29"
       ]
      },
      {
       "output_type": "stream",
       "stream": "stdout",
       "text": [
        "\n",
        "Wed Nov 12 21:10:32 +0000 2014\n",
        "None\n",
        "RT @_mfgx: this cold weather has got me like https://t.co/4uuyhP2u0V\n",
        "Wed Nov 12 21:10:32 +0000 2014\n",
        "None\n",
        "I'm so hot again \ud83d\udd25\n",
        "Wed Nov 12 21:10:32 +0000 2014\n",
        "None\n",
        "@DonCardenasArt @MichaelMoreci shh, quite time Don. Get back to those pages and make sure to draw Mulder's hot sister http://t.co/kNfw2MpFSn\n",
        "Wed Nov 12 21:10:32 +0000 2014\n",
        "None\n",
        "@zaynmalik Hi sunshine.\ud83d\udc96\n",
        "April 10th is my bday,can you follow me please?\ud83d\udc9e\ud83d\udc9e\n",
        "I love you so much\ud83d\udc9d\ud83d\udc96\ud83d\udc9e   x160"
       ]
      },
      {
       "output_type": "stream",
       "stream": "stdout",
       "text": [
        "\n",
        "Wed Nov 12 21:10:32 +0000 2014\n",
        "None\n",
        "RT @abkalkaled: U're on a 0-1-0 meal setting per day, &amp; U are here claiming 300K is too small.....na thunder go fire you....\n",
        "Wed Nov 12 21:10:32 +0000 2014\n",
        "None\n",
        "RT @PlanetShakira: I voted for @shakira in @Vevo's Hot This Year: http://t.co/NrBbAgBYT6  #VevoHTYCertified"
       ]
      },
      {
       "output_type": "stream",
       "stream": "stdout",
       "text": [
        "\n",
        "Wed Nov 12 21:10:32 +0000 2014\n",
        "None\n",
        "Hey my sunshine!!! \n",
        "\ud83d\ude48Not be sad please\ud83d\ude48 \n",
        "~~be happy for me~~\n",
        "you mean everything to me!\n",
        "please follow me\u2753\n",
        "ILYSM @zaynmalik 9.240\n",
        "Wed Nov 12 21:10:32 +0000 2014\n",
        "None\n",
        "Flower Necklace and Earring Set Hot Pink by ARubyInTheRough http://t.co/hGtyElwUSO via @Etsy\n",
        "Wed Nov 12 21:10:32 +0000 2014\n",
        "None\n",
        "\u201c@eyedvlis: I need a hot lesbian bestfriend\u201d or gay friend"
       ]
      },
      {
       "output_type": "stream",
       "stream": "stdout",
       "text": [
        "\n",
        "Wed Nov 12 21:10:32 +0000 2014\n",
        "None\n",
        "SportsMed says warm up body, 20 minutes of stretching, then practice, stretch again after. Let's get to work team!"
       ]
      },
      {
       "output_type": "stream",
       "stream": "stdout",
       "text": [
        "\n",
        "Wed Nov 12 21:10:32 +0000 2014\n",
        "None\n",
        "RT @tbhlaurmani: @anthonyladao youre so hot\n",
        "Wed Nov 12 21:10:32 +0000 2014\n",
        "None\n",
        "Record Cold Temperatures Hit Denver: Bundle up, Denver.\n",
        "And don't plan on getting anywhere in a hurry. Ice- an... http://t.co/r8GTRT6fim"
       ]
      },
      {
       "output_type": "stream",
       "stream": "stdout",
       "text": [
        "\n",
        "Wed Nov 12 21:10:32 +0000 2014\n",
        "None\n",
        "So my sunshine never followed me...\ud83d\ude12\ud83d\ude1e @James_Yammouni\n",
        "Wed Nov 12 21:10:32 +0000 2014\n",
        "None\n",
        "RT @arist_brain: Mt. Sneffels, #Colorado (by Brad McDowell) #travel #landscape #nature #mountains #usa #lake #forest #autumn #clouds http:/\u2026\n",
        "Wed Nov 12 21:10:32 +0000 2014\n",
        "None\n",
        "\u201c@5HFollowUpdates: quote this picture of your sunshine and if you need their follow and I will dm you to them\ud83d\ude0a -R\u201d http://t.co/lqfqqHHyx9"
       ]
      },
      {
       "output_type": "stream",
       "stream": "stdout",
       "text": [
        "\n",
        "Wed Nov 12 21:10:32 +0000 2014\n",
        "None\n",
        "Wind 1.0 mph SSE. Barometer 998.89 hPa, Rising Rapidly. Temperature 7.8\u00b0C. Rain today 1.8 mm. Humidity 95%. http://t.co/AzWg2XiCvY\n",
        "Wed Nov 12 21:10:32 +0000 2014\n",
        "None\n",
        "he hot tho\n",
        "Wed Nov 12 21:10:32 +0000 2014\n",
        "None\n",
        "RT @600Agency_: @lovefromcloud9 dont be cold hearted ..."
       ]
      },
      {
       "output_type": "stream",
       "stream": "stdout",
       "text": [
        "\n",
        "Wed Nov 12 21:10:32 +0000 2014\n",
        "None\n",
        "RT @ArianaGrande: #LoveMeHarder entered the top 10 on @billboard hot 100 this week!! thank u so much luvs!!!!! https://t.co/NIYYO8CY4t http\u2026\n",
        "Wed Nov 12 21:10:32 +0000 2014\n",
        "None\n",
        "RT @ArianaGrande: #LoveMeHarder entered the top 10 on @billboard hot 100 this week!! thank u so much luvs!!!!! https://t.co/NIYYO8CY4t http\u2026\n",
        "Wed Nov 12 21:10:32 +0000 2014\n",
        "None\n",
        "@Real_Liam_Payne \n",
        "Hi sunshine\n",
        "Ilysm\n",
        "Can you please follow me and make me the happiest girl in the world?\n",
        "Thank you      x2824\n",
        "Wed Nov 12 21:10:32 +0000 2014\n",
        "None\n",
        "RT @_Unyenyekevu: Really manly guys are hot."
       ]
      },
      {
       "output_type": "stream",
       "stream": "stdout",
       "text": [
        "\n",
        "Wed Nov 12 21:10:32 +0000 2014\n",
        "None\n",
        "RT @Luv_forbeyonce: Standing On The Sun @Beyonce Artist Of The Year #AMAs\n",
        "Wed Nov 12 21:10:32 +0000 2014\n",
        "None\n",
        "Sweet carrots are drizzled in a warm buttery sauce flavored with bourbon: http://t.co/1Vc2zizNg3 http://t.co/qq4deDNS4u\n",
        "Wed Nov 12 21:10:32 +0000 2014\n",
        "None\n",
        "@AllyBrooke \ud83d\udc98\ud83d\udc98\n",
        "PLEASE FOLLOW ME SUNSHINE \u2600\ufe0f\n",
        "I missed your last follow spree :( \n",
        "FOLLOW ME ILY \ud83d\udc98\ud83d\udc9826\n",
        "Wed Nov 12 21:10:32 +0000 2014\n",
        "None\n",
        "\u263e\u263c \u263d \u263c \u263e\u263c\u263d \n",
        "\n",
        "Calum hood from 5sos\n",
        "You are my sunshine\u2600\ufe0f\n",
        "Please follow me\ud83d\ude4f\ud83d\udc95\n",
        "And be my 2/4?! \u25e1\u0308\n",
        "@Calum5SOS \n",
        "x15,651\n",
        "\u263e\u263c \u263d \u263c \u263e\u263c\u263d\n",
        "Wed Nov 12 21:10:32 +0000 2014\n",
        "None\n",
        "Against the Sun - Trailer http://t.co/1XaVzaXQSI"
       ]
      },
      {
       "output_type": "stream",
       "stream": "stdout",
       "text": [
        "\n",
        "Wed Nov 12 21:10:32 +0000 2014\n",
        "None\n",
        "@Real_Liam_Payne hello sunshine. Hope you're fine. Can you please follow me? It will take you 5 seconds. Ilysfm. Always smile :) x10,946\n",
        "Wed Nov 12 21:10:32 +0000 2014\n",
        "None\n",
        "Good to Great: Creating a Tropical Storm of Customer Satisfaction http://t.co/bUzbjnCkyz via @Forbes\n",
        "Wed Nov 12 21:10:32 +0000 2014\n",
        "None\n",
        "RT @yoshiiiiii_: rt si tu veux une photo avec ton sunshine"
       ]
      },
      {
       "output_type": "stream",
       "stream": "stdout",
       "text": [
        "\n",
        "Wed Nov 12 21:10:33 +0000 2014\n",
        "None\n",
        "Lovin this weather\n",
        "Wed Nov 12 21:10:33 +0000 2014\n",
        "None\n",
        "It's hot as crap outside and people are wearing jackets \ud83d\ude12 why?\n",
        "Wed Nov 12 21:10:33 +0000 2014\n",
        "None\n",
        "RT @MNproblems: 25 degrees? Doesn't even feel cold.\n",
        "Wed Nov 12 21:10:33 +0000 2014\n",
        "None\n",
        "RT @tatsskellington: Lucy in the sky with diamonds is not the Beatles only song."
       ]
      },
      {
       "output_type": "stream",
       "stream": "stdout",
       "text": [
        "\n",
        "Wed Nov 12 21:10:33 +0000 2014\n",
        "None\n",
        "Too damn cold \ud83d\ude2d\n",
        "Wed Nov 12 21:10:33 +0000 2014\n",
        "None\n",
        "RT @ArianaGrande: #LoveMeHarder entered the top 10 on @billboard hot 100 this week!! thank u so much luvs!!!!! https://t.co/NIYYO8CY4t http\u2026\n",
        "Wed Nov 12 21:10:33 +0000 2014\n",
        "None\n",
        "Join the conversation about flu and cold season with Dr. Aliza vidaysalud on Twitter. #latinabloggers\u2026 http://t.co/anvo2wAvGX"
       ]
      },
      {
       "output_type": "stream",
       "stream": "stdout",
       "text": [
        "\n",
        "Wed Nov 12 21:10:33 +0000 2014\n",
        "None\n",
        "RT @chartnews: Billboard Hot 100: #5(=) Bang Bang, @JessieJ, @ArianaGrande &amp; @NICKIMINAJ [15 weeks].\n",
        "Wed Nov 12 21:10:33 +0000 2014\n",
        "None\n",
        "RT @photo98765: The Champagne Pool:(Waiotapu Geothermal area of New Zealand) A  hot spring with a surface temp. of 74 degrees celsius http:\u2026"
       ]
      },
      {
       "output_type": "stream",
       "stream": "stdout",
       "text": [
        "\n",
        "Wed Nov 12 21:10:33 +0000 2014\n",
        "None\n",
        "Japanese Amateur Ladies HOT movies http://t.co/TUiyT3ZzMJ\n",
        "Wed Nov 12 21:10:33 +0000 2014\n",
        "None\n",
        "Hot Damn, baby's got a new set of tires\ud83d\ude04\ud83c\udf88\ud83c\udf89"
       ]
      },
      {
       "output_type": "stream",
       "stream": "stdout",
       "text": [
        "\n",
        "Wed Nov 12 21:10:33 +0000 2014\n",
        "{u'type': u'Point', u'coordinates': [-90.956702, 30.467961]}\n",
        "\u2018Ali Baba and his Merry Men\u2019 Storm Lagos this Friday http://t.co/XF2V2TT79s | via http://t.co/Ony2mCmQdK\n",
        "Wed Nov 12 21:10:33 +0000 2014\n",
        "None\n",
        "RT @Savan_Kotecha: \"Love me harder\" in the top 10 on the hot 100!!! Thank you everyone who's requested and bought the song! @ArianaGrande @\u2026\n",
        "Wed Nov 12 21:10:33 +0000 2014\n",
        "None\n",
        "it's a PT kinda day! #pt #metro #thegreatunwashed (@ Sunshine Station - @metrotrains) https://t.co/YuL1p7y0w1 http://t.co/7tLCOxvrvD\n",
        "Wed Nov 12 21:10:33 +0000 2014\n",
        "None\n",
        "RT @QuiteFastIndeed: Sand storm http://t.co/ikVpdEes0N"
       ]
      },
      {
       "output_type": "stream",
       "stream": "stdout",
       "text": [
        "\n",
        "Wed Nov 12 21:10:33 +0000 2014\n",
        "None\n",
        "@crraazzzzymofos: @NiallOfficial \n",
        " \u2601\ufe0fhi niall\n",
        "\n",
        "\ud83c\udf00 i love you sunshine\n",
        "\ud83c\ude02 thank u for everything\n",
        "\ud83c\udf90 i'm so proud of you\n",
        "\ud83d\udd39 please follow me?57\n",
        "Wed Nov 12 21:10:33 +0000 2014\n",
        "None\n",
        "2014 Ice Challenge Junior Men SP Group 2 Warm-up (Se Jong BYUN)\n",
        "http://t.co/QlUFFC7rRL @youtube \ub2d8\uc774 \uacf5\uc720\n",
        "Wed Nov 12 21:10:33 +0000 2014\n",
        "None\n",
        "if it rain like that you know how many times ima have to wash my car ..my leave out will curl up , slow ass drivers ..hate rain ."
       ]
      },
      {
       "output_type": "stream",
       "stream": "stdout",
       "text": [
        "\n",
        "Wed Nov 12 21:10:33 +0000 2014\n",
        "None\n",
        "I probably have bronchitis because I wore a fucking tshirt and tights in the rain on Halloween and stood outside. Damn I am dumb.\n",
        "Wed Nov 12 21:10:33 +0000 2014\n",
        "None\n",
        "Melt Your Mans Heart: How to become irresistible again to your cold, distant and unintersted man. http://t.co/D6G43pAhy2\n",
        "Wed Nov 12 21:10:33 +0000 2014\n",
        "None\n",
        "RT @KathySabine9: Sun and snow in Fort Collins! Forecast for bitter cold night today 4pm #9news #9wx #cowx http://t.co/GLC1FDVTsA\n",
        "Wed Nov 12 21:10:33 +0000 2014\n",
        "None\n",
        "Only 2 issues left! Make sure you send us your story requests &amp; letters to the editor to collegian@utb.edu by Monday. Stay warm! #UTB"
       ]
      },
      {
       "output_type": "stream",
       "stream": "stdout",
       "text": [
        "\n",
        "Wed Nov 12 21:10:33 +0000 2014\n",
        "None\n",
        "It's seriously freezing outside I can't deal"
       ]
      },
      {
       "output_type": "stream",
       "stream": "stdout",
       "text": [
        "\n",
        "Wed Nov 12 21:10:33 +0000 2014\n",
        "None\n",
        "@TimHortons PLEASE tell me your white hot chocolate is coming back?? #WHITEHOTCHOCOLATE #TIMHORTONS #CANADA\n",
        "Wed Nov 12 21:10:33 +0000 2014\n",
        "None\n",
        "RT @KimberlyDawn24: I hate being cold, I'm not ready for winter \ud83d\ude2d\ud83d\ude2d\ud83d\ude29"
       ]
      },
      {
       "output_type": "stream",
       "stream": "stdout",
       "text": [
        "\n",
        "Wed Nov 12 21:10:33 +0000 2014\n",
        "None\n",
        "THIS WEATHER IS INHUMANE\n",
        "Wed Nov 12 21:10:33 +0000 2014\n",
        "{u'type': u'Point', u'coordinates': [-84.665322, 37.864829]}\n",
        "RT @sexy__celebs: Emma Watson #hot #HarryPotter http://t.co/Orq4xnLfOL"
       ]
      },
      {
       "output_type": "stream",
       "stream": "stdout",
       "text": [
        "\n",
        "Wed Nov 12 21:10:33 +0000 2014\n",
        "None\n",
        "RT @jack_noyesx: Nothing worse than cold toes"
       ]
      },
      {
       "output_type": "stream",
       "stream": "stdout",
       "text": [
        "\n",
        "Wed Nov 12 21:10:33 +0000 2014\n",
        "None\n",
        "\"@fynderfantastic: In the #peakdistrict on Sun 23 Nov? Come to our #Vintage #xmas fair at Baslow Village Hall 10-4 http://t.co/QXoW0JM0pY\"\n",
        "Wed Nov 12 21:10:33 +0000 2014\n",
        "None\n",
        "@chantipuss ye just start rain\n",
        "Wed Nov 12 21:10:33 +0000 2014\n",
        "None\n",
        "@summerdaze2 Have you seen our teeth whitening sun bed kit? It allows you to whiten your teeth whilst you tan \ud83d\ude04\n",
        "Wed Nov 12 21:10:33 +0000 2014\n",
        "None\n",
        "@zaynmalik \u2741no matter where,no matter when I'll be there for you till the end.follow me my sunshine it would mean the world to me\u2741x41.687"
       ]
      },
      {
       "output_type": "stream",
       "stream": "stdout",
       "text": [
        "\n",
        "Wed Nov 12 21:10:33 +0000 2014\n",
        "None\n",
        "RT @KristinDSantos: You Won't Believe Everything The 100 Boss Told Us About Mount Weather, Reapers, Grounders and More! http://t.co/xdVdelU\u2026"
       ]
      },
      {
       "output_type": "stream",
       "stream": "stdout",
       "text": [
        "\n",
        "Wed Nov 12 21:10:34 +0000 2014\n",
        "None\n",
        "weather data 22:10 - 11.5C - 79 pct 0.0 km/h - 4.3 km/h - 1004.0 hpa -   0 mm - 3.5 CSO20\n",
        "Wed Nov 12 21:10:33 +0000 2014\n",
        "None\n",
        "#np Ben Cocks - So Cold\n",
        "Wed Nov 12 21:10:34 +0000 2014\n",
        "None\n",
        "DW0841 08:10 AM Temp 9.9\u00b0C Min 5.3C Max 9.9C Rain  0.0 mm Rel H 91% Baro 1013.0 hPa Wind 0.0 km/h SSE #wdisplay"
       ]
      },
      {
       "output_type": "stream",
       "stream": "stdout",
       "text": [
        "\n",
        "Wed Nov 12 21:10:34 +0000 2014\n",
        "None\n",
        "RT @OfficialLuxLex: The weather is matching my mood today."
       ]
      },
      {
       "output_type": "stream",
       "stream": "stdout",
       "text": [
        "\n",
        "Wed Nov 12 21:10:34 +0000 2014\n",
        "None\n",
        "Cold weather = cold weather avi \u2744\ufe0f\ud83c\udf38"
       ]
      },
      {
       "output_type": "stream",
       "stream": "stdout",
       "text": [
        "\n",
        "Wed Nov 12 21:10:34 +0000 2014\n",
        "None\n",
        "Costa brownie hot chocolate is incredible\ud83d\ude0d"
       ]
      },
      {
       "output_type": "stream",
       "stream": "stdout",
       "text": [
        "\n",
        "Wed Nov 12 21:10:34 +0000 2014\n",
        "None\n",
        "Temp 17.1 Deg.C. Humidity 89%. Wind 1.4 km/h W, 1014.2 hPa, Rising slowly. Rain today 0.0 mm. Forecast: Fine weather"
       ]
      },
      {
       "output_type": "stream",
       "stream": "stdout",
       "text": [
        "\n",
        "Wed Nov 12 21:10:34 +0000 2014\n",
        "None\n",
        "I love the cold\n",
        "Wed Nov 12 21:10:34 +0000 2014\n",
        "None\n",
        "Hot babe Serena Adam getting slammed  #pics #news #pussy #youtube http://t.co/YLSgZkvJZw\n",
        "Wed Nov 12 21:10:34 +0000 2014\n",
        "None\n",
        "@RB_Cheerio I'm fine. Just freezing my tits off."
       ]
      },
      {
       "output_type": "stream",
       "stream": "stdout",
       "text": [
        "\n",
        "Wed Nov 12 21:10:34 +0000 2014\n",
        "None\n",
        "Haha, cold for that\n",
        "Wed Nov 12 21:10:34 +0000 2014\n",
        "None\n",
        "RT @LukeAdams95: a cold room is everything when it comes to sleep"
       ]
      },
      {
       "output_type": "stream",
       "stream": "stdout",
       "text": [
        "\n",
        "Wed Nov 12 21:10:34 +0000 2014\n",
        "None\n",
        "\u2741Hey Niall\u2741\n",
        "You're my sunshine\u2600 and my whole\ud83c\udf0d\ud83d\udc93\n",
        "Please take a few secs to follow me\ud83c\udf40\u2728 it would mean a lot\u2661\n",
        "\n",
        "Ilysm\ud83d\udc98 @NiallOfficial\n",
        "268\n",
        "Wed Nov 12 21:10:34 +0000 2014\n",
        "None\n",
        "RT @KPimpinn_: Locked out the house \ud83d\ude29\ud83d\ude29\ud83d\ude14\ud83d\ude14\ud83d\ude14\ud83d\ude14 &amp; its cold as \ud83d\udca9\n",
        "Wed Nov 12 21:10:34 +0000 2014\n",
        "None\n",
        "@Real_Liam_Payne \ud83d\udc95\ud83d\udc95\n",
        "I don't exist if I don't have you, the sun doesn't shine, the world doesn't turn. Lots of love from Italy.\ud83d\udc98 \n",
        "\ud83d\udc9d\ud83d\udc9dss\n",
        "Wed Nov 12 21:10:34 +0000 2014\n",
        "None\n",
        "#sex,#hot,#teen,#nsfw,#porn,#milf, | #GangBang | OLD SCHOOL GANGBANG  http://t.co/JbiqAAZ40S"
       ]
      },
      {
       "output_type": "stream",
       "stream": "stdout",
       "text": [
        "\n",
        "Wed Nov 12 21:10:34 +0000 2014\n",
        "None\n",
        "#celebrities where #flashfriday #nsfw #adult #porn #Brunette hot celebrities sex scenes http://t.co/mkebOGHC9r http://t.co/J72SVj6eAS\n",
        "Wed Nov 12 21:10:34 +0000 2014\n",
        "None\n",
        "RT @ArianaGrande: \ud83d\ude38\ud83d\ude38\ud83d\ude38\u201c@Savan_Kotecha: \"LMH\" in the top 10 on the hot 100! Thank you everyone who's requested &amp; bought the song! @ArianaGran\u2026"
       ]
      },
      {
       "output_type": "stream",
       "stream": "stdout",
       "text": [
        "\n",
        "Wed Nov 12 21:10:34 +0000 2014\n",
        "None\n",
        "RT @ArianaGrande: #LoveMeHarder entered the top 10 on @billboard hot 100 this week!! thank u so much luvs!!!!! https://t.co/NIYYO8CY4t http\u2026"
       ]
      },
      {
       "output_type": "stream",
       "stream": "stdout",
       "text": [
        "\n",
        "Wed Nov 12 21:10:34 +0000 2014\n",
        "None\n",
        "RT @Spacettf: Eight Billion Asteroids in the Oort Cloud? | Sky &amp; Telescope http://t.co/rPypjfJrc9\n",
        "Wed Nov 12 21:10:34 +0000 2014\n",
        "None\n",
        "RT @Cosmopolitan: WARNING: this new \"Fifty Shades\" poster is so hot, your ovaries might melt! http://t.co/tfeNZsRmm8 http://t.co/I5w0iYxl7Y\n",
        "Wed Nov 12 21:10:34 +0000 2014\n",
        "None\n",
        "http://t.co/6tTCfoIrDY #bbw your #Sexy #nsfw #adult #porn #Hot bbw tgp video http://t.co/R17jvGHM2C\n",
        "Wed Nov 12 21:10:34 +0000 2014\n",
        "None\n",
        "It's So Cold Outside\n",
        "Wed Nov 12 21:10:34 +0000 2014\n",
        "None\n",
        "Favorite sweat shirt weather http://t.co/VbjodCaviI\n",
        "Wed Nov 12 21:10:34 +0000 2014\n",
        "None\n",
        "\ud83c\udf3f\ud83c\udf38\ud83c\udf3f\ud83c\udf38\ud83c\udf3f\ud83c\udf38\n",
        "Hi sunshine @ArianaGrande\n",
        "You mean the world to me so you'll make my life if you just follow me.\n",
        "Je t'aime. MERCI. x959\n",
        "\ud83c\udf3f\ud83c\udf38\ud83c\udf3f\ud83c\udf38\ud83c\udf3f\ud83c\udf38"
       ]
      },
      {
       "output_type": "stream",
       "stream": "stdout",
       "text": [
        "\n",
        "Wed Nov 12 21:10:34 +0000 2014\n",
        "None\n",
        "hi sunshine @Louis_Tomlinson \ud83d\udc9e\n",
        "\n",
        "you mean the world to me, thank you for everything, i love you so much, can you follow me pls? \ud83c\udf1d\n",
        "\n",
        "X1,942\n",
        "Wed Nov 12 21:10:34 +0000 2014\n",
        "None\n",
        "Is it just me or is Vi hot?\n",
        "Wed Nov 12 21:10:34 +0000 2014\n",
        "None\n",
        "Its finally ACCESSORY WEATHER here in #Nashville!!!\n",
        "Wed Nov 12 21:10:34 +0000 2014\n",
        "None\n",
        "@Nashgrier FOLLOW ME PLS, I LOVE YOU SUNSHINE, YOU'RE MY WORLD!!!  PLEASE FOLLLOW ME?\u263a\u2665\u263a\u2666\u263a\u263a\u2665\u263a\u2665\u2665\u2665\u263a\u263a\u263b\u263a\u2665"
       ]
      },
      {
       "output_type": "stream",
       "stream": "stdout",
       "text": [
        "\n",
        "Wed Nov 12 21:10:34 +0000 2014\n",
        "None\n",
        "@SLMGcorporation https://t.co/saJHM564TF CHECKOUT THIS HOT NEW TALENT 10 YR OLD RAPPER WILL HAVE YOUR IMPRESSED\n",
        "Wed Nov 12 21:10:34 +0000 2014\n",
        "None\n",
        "\"@LukeAdams95: a cold room is everything when it comes to sleep\"\n",
        "Wed Nov 12 21:10:34 +0000 2014\n",
        "None\n",
        "RT @ViewHipHopMusic: Hot New Music: Chris Brown, T.I. &amp; Mr. Probz - Waves (Remix) | http://t.co/QgLmiNpinr"
       ]
      },
      {
       "output_type": "stream",
       "stream": "stdout",
       "text": [
        "\n",
        "Wed Nov 12 21:10:34 +0000 2014\n",
        "None\n",
        "RT @hobisognodical: \ud83d\udc7d HI @LaurenJauregui  \ud83d\udc7d\n",
        "\n",
        "\u2600 YOU ARE MY SUNSHINE \u2600\n",
        "\n",
        "\ud83c\udf38 IF THIS TWEET GETS 250+ RTs COULD YOU PLEASE FOLLOW ME? \ud83c\udf38\n",
        "\n",
        "\ud83d\udc4b LOVE Y\u2026\n",
        "Wed Nov 12 21:10:34 +0000 2014\n",
        "None\n",
        "TWWIW est\u00e1 na 25 posi\u00e7\u00e2o na Hot 100 da Bilboard.\n",
        "Wed Nov 12 21:10:34 +0000 2014\n",
        "None\n",
        "RT @SkyTG24: VIDEO: Piazza Affari sprofonda (-2,8%) sotto il peso delle banche http://t.co/2dS26GiHsB"
       ]
      },
      {
       "output_type": "stream",
       "stream": "stdout",
       "text": [
        "\n",
        "Wed Nov 12 21:10:34 +0000 2014\n",
        "None\n",
        "@Izzy_Harriet when bae looks hot http://t.co/N6iCt0SbJV\n",
        "Wed Nov 12 21:10:34 +0000 2014\n",
        "None\n",
        "storm on youtube!\n",
        "Wed Nov 12 21:10:34 +0000 2014\n",
        "None\n",
        "RT @AdultOnlyUp18: \u25a0 Amateur Skinny Slut Does Anal\n",
        "\n",
        "\u25ba http://t.co/WCizGkuAsX\n",
        "\n",
        "#porn #sex #teen #xxx #nsfw #pussy #ass #hot #adult #video #s\u2026"
       ]
      },
      {
       "output_type": "stream",
       "stream": "stdout",
       "text": [
        "\n",
        "Wed Nov 12 21:10:34 +0000 2014\n",
        "None\n",
        "RT @joangrande: Congrats! @ArianaGrande @Savan_Kotecha  You're the first artist to have 4 songs on Billboard Hot 100 Top Ten since 2012, al\u2026\n",
        "Wed Nov 12 21:10:35 +0000 2014\n",
        "None\n",
        "@PS4Germany Time to take Africa, Germany is cold.  Germanica.  Come on, don't bull shit me.\n",
        "Wed Nov 12 21:10:34 +0000 2014\n",
        "None\n",
        "\u201c@LukeAdams95: a cold room is everything when it comes to sleep\u201d nah that shit better be hotter than the sun"
       ]
      },
      {
       "output_type": "stream",
       "stream": "stdout",
       "text": [
        "\n",
        "Wed Nov 12 21:10:35 +0000 2014\n",
        "None\n",
        "@hollycrowterx well their family would if you post it on Twitter? From paying respects to theatre attendance within hours? Very cold to me?\n",
        "Wed Nov 12 21:10:35 +0000 2014\n",
        "None\n",
        "RT @treasureee2: it is too fucking cold \ud83d\ude12\n",
        "Wed Nov 12 21:10:35 +0000 2014\n",
        "None\n",
        "RT @greatrap_lyrics: \"The chosen one, from the land of the frozen sun where drunk nights get remembered more than sober ones.\" -Talib Kweli\n",
        "Wed Nov 12 21:10:35 +0000 2014\n",
        "None\n",
        "@Nashgrier Hello sunshine would you please make me the happiest girl on planet with your follow? i love you so much nash xx177\n",
        "Wed Nov 12 21:10:35 +0000 2014\n",
        "None\n",
        "RT @SkyTG24: VIDEO: Setola, boss gioca a fare pentito ma magistrati non credono http://t.co/SvFWEOqaSK"
       ]
      },
      {
       "output_type": "stream",
       "stream": "stdout",
       "text": [
        "\n",
        "Wed Nov 12 21:10:35 +0000 2014\n",
        "None\n",
        "The streets are empty; the streets are cold. Won't you come on home? Won't you come on home? http://t.co/1X9meKurbN"
       ]
      },
      {
       "output_type": "stream",
       "stream": "stdout",
       "text": [
        "\n",
        "Wed Nov 12 21:10:35 +0000 2014\n",
        "None\n",
        "Obs Wed - 20:00 GMT: Clear Sky, 8\u00b0C (46\u00b0F): Wind: Southerly 15mph, Hum: 93%, Pr: 1000mb(+), Vis: VG\n",
        "Wed Nov 12 21:10:35 +0000 2014\n",
        "None\n",
        "RT @AquariusUnite: #Aquarius are hot-hearted people who like doing things their OWN way."
       ]
      },
      {
       "output_type": "stream",
       "stream": "stdout",
       "text": [
        "\n",
        "Wed Nov 12 21:10:35 +0000 2014\n",
        "None\n",
        "Our #wellies are handmade &amp; can withstand even the most torrential downpour. Made specifically to deal with heavy rain &amp; wind.\n",
        "Wed Nov 12 21:10:35 +0000 2014\n",
        "None\n",
        "RT @Zayn_MyHero: 3 months until our sunshine's birthday \u263a\ufe0f\ud83d\udc9e http://t.co/E8PW8jjAG7\n",
        "Wed Nov 12 21:10:35 +0000 2014\n",
        "None\n",
        "\u201c@lovethediosa: sometimes god can't send any warmth your way until you're willing to admit that you're freezing.\u201d\n",
        "Wed Nov 12 21:10:35 +0000 2014\n",
        "None\n",
        "@imashton_5sos he hot af right http://t.co/GxC5HyFnlF"
       ]
      },
      {
       "output_type": "stream",
       "stream": "stdout",
       "text": [
        "\n",
        "Wed Nov 12 21:10:35 +0000 2014\n",
        "None\n",
        "#porn,#sex,#hot,#teen,#xxx, | #Italian | Italian beauty stuns in stockings and bdsm play  http://t.co/FiGmBWEmV7\n",
        "Wed Nov 12 21:10:35 +0000 2014\n",
        "None\n",
        "Are you a board-shorts kinda guy? If you're heading somewhere warm, get 25% off Frank's! &gt; http://t.co/8O8v0XDgsq http://t.co/KF15sZSlLL\n",
        "Wed Nov 12 21:10:35 +0000 2014\n",
        "None\n",
        "Global artist flying in the sky art  #DoaaOurDiva DoaaElSebaii\n",
        "Wed Nov 12 21:10:35 +0000 2014\n",
        "None\n",
        "RT @ArianaGrande: #LoveMeHarder entered the top 10 on @billboard hot 100 this week!! thank u so much luvs!!!!! https://t.co/NIYYO8CY4t http\u2026"
       ]
      },
      {
       "output_type": "stream",
       "stream": "stdout",
       "text": [
        "\n",
        "Wed Nov 12 21:10:35 +0000 2014\n",
        "None\n",
        "Always a warm welcome at #thedocutandcolor! Call us at (214) 346-3495 to make an appointment. #dallas\n",
        "Wed Nov 12 21:10:35 +0000 2014\n",
        "None\n",
        "RT @ArianaGrande: \ud83d\ude38\ud83d\ude38\ud83d\ude38\u201c@Savan_Kotecha: \"LMH\" in the top 10 on the hot 100! Thank you everyone who's requested &amp; bought the song! @ArianaGran\u2026\n",
        "Wed Nov 12 21:10:35 +0000 2014\n",
        "None\n",
        "RT @SoDamnTrue: my fashion sense is called i am cold and pissed off"
       ]
      },
      {
       "output_type": "stream",
       "stream": "stdout",
       "text": [
        "\n",
        "Wed Nov 12 21:10:35 +0000 2014\n",
        "None\n",
        "RT @CauseWereClassy: If we could not have all four seasons of weather in one week, that'd be great."
       ]
      },
      {
       "output_type": "stream",
       "stream": "stdout",
       "text": [
        "\n",
        "Wed Nov 12 21:10:35 +0000 2014\n",
        "None\n",
        "RT @Zayn_MyHero: 3 months until our sunshine's birthday \u263a\ufe0f\ud83d\udc9e http://t.co/E8PW8jjAG7\n",
        "Wed Nov 12 21:10:35 +0000 2014\n",
        "None\n",
        "@Allanahyatess story of my life I take her home I drive all night to keep her warm\n",
        "Wed Nov 12 21:10:35 +0000 2014\n",
        "None\n",
        "Goals are not dreamy, pie-in-the-sky ideals. They have every day practical applications and they should be practical. -Les Brown\n",
        "Wed Nov 12 21:10:35 +0000 2014\n",
        "None\n",
        "RT @RioMartinez98: im such a pussy to cold weather"
       ]
      },
      {
       "output_type": "stream",
       "stream": "stdout",
       "text": [
        "\n",
        "Wed Nov 12 21:10:35 +0000 2014\n",
        "None\n",
        "RT @xxTommaxx: @Real_Liam_Payne \ud83d\udc95\ud83d\udc95\n",
        "I don't exist if I don't have you, the sun doesn't shine, the world doesn't turn. Lots of love from Ital\u2026\n",
        "Wed Nov 12 21:10:35 +0000 2014\n",
        "None\n",
        "it's too cold to be walking\n",
        "Wed Nov 12 21:10:35 +0000 2014\n",
        "None\n",
        "The Irish girl in the apprentice is so hot ngl\n",
        "Wed Nov 12 21:10:35 +0000 2014\n",
        "None\n",
        "#joemacintosh Day of the Viking: Tap on waves of marauding vikings, commanding your archers to rain\u2026 http://t.co/n6xhp5Piw1 #JoeLikesiOS"
       ]
      },
      {
       "output_type": "stream",
       "stream": "stdout",
       "text": [
        "\n",
        "Wed Nov 12 21:10:35 +0000 2014\n",
        "None\n",
        "Some girls just can't be called hot, fit or whatever they have to be called beautiful \ud83d\udc4d\n",
        "Wed Nov 12 21:10:35 +0000 2014\n",
        "None\n",
        "Cold weather got you down? Don't be bitter, have a fritter! &gt;&gt; http://t.co/MfQXyzinPJ http://t.co/ALAFdvTwkO\n",
        "Wed Nov 12 21:10:35 +0000 2014\n",
        "None\n",
        "http://t.co/mE7tp4npyU... http://t.co/6z7IeegO4O\n",
        "Wed Nov 12 21:10:35 +0000 2014\n",
        "None\n",
        "RT @ArianaGrande: #LoveMeHarder entered the top 10 on @billboard hot 100 this week!! thank u so much luvs!!!!! https://t.co/NIYYO8CY4t http\u2026"
       ]
      },
      {
       "output_type": "stream",
       "stream": "stdout",
       "text": [
        "\n",
        "Wed Nov 12 21:10:35 +0000 2014\n",
        "None\n",
        "Pop it, lock it\u00a0\n",
        "Poke a dot it\u00a0\n",
        "Country fly\u00a0\n",
        "And hip-hop's in\u00a0\n",
        "Put your arms to the sky\u00a0\n",
        "Move side to\u2026 http://t.co/jgzGtIrxQ6"
       ]
      },
      {
       "output_type": "stream",
       "stream": "stdout",
       "text": [
        "\n",
        "Wed Nov 12 21:10:35 +0000 2014\n",
        "None\n",
        "Nash you need Jesus in your face \ud83d\ude02\ud83d\ude02\n",
        "by: Sky\n",
        "@Nashgrier\n",
        "Wed Nov 12 21:10:35 +0000 2014\n",
        "None\n",
        "Mientras est\u00e9 este control de cambio, the sky is the limit. #110"
       ]
      },
      {
       "output_type": "stream",
       "stream": "stdout",
       "text": [
        "\n",
        "Wed Nov 12 21:10:36 +0000 2014\n",
        "None\n",
        ".@cls_presents poet Genaro K\u1ef3 L\u00fd Smith reading: The Land Baron's Sun: The Story of L\u00fd Loc and His Seven Wives    http://t.co/ZDfCAr1c4y\n",
        "Wed Nov 12 21:10:36 +0000 2014\n",
        "None\n",
        "First cold snap of the season arrives in #Vancouver http://t.co/kM14DqpagH\n",
        "Wed Nov 12 21:10:36 +0000 2014\n",
        "None\n",
        "RT @SabrinaSabrok: Hot and uncensored photos and videos only on http://t.co/fRSYT7o6Ik #nude #playboy #fetish #bondage #sadomasochism http:\u2026"
       ]
      },
      {
       "output_type": "stream",
       "stream": "stdout",
       "text": [
        "\n",
        "Wed Nov 12 21:10:36 +0000 2014\n",
        "None\n",
        "RT @joangrande: Congrats! @ArianaGrande @Savan_Kotecha  You're the first artist to have 4 songs on Billboard Hot 100 Top Ten since 2012, al\u2026\n",
        "Wed Nov 12 21:10:36 +0000 2014\n",
        "None\n",
        "RT @therealstylesp: I get high as the clouds but stay down to earth..\n",
        "Wed Nov 12 21:10:36 +0000 2014\n",
        "None\n",
        "Cause it's cold outside and I'm ready to go back home .."
       ]
      },
      {
       "output_type": "stream",
       "stream": "stdout",
       "text": [
        "\n",
        "Wed Nov 12 21:10:36 +0000 2014\n",
        "None\n",
        "This cold weather hurts my back #old #dying #sendmasseuse\n",
        "Wed Nov 12 21:10:36 +0000 2014\n",
        "None\n",
        "RT @QueerFruits: You got to follow these guys @rondoxxx @RealTylerHirst @zr8g fucking hot guys please RT http://t.co/PDOV3AScj5"
       ]
      },
      {
       "output_type": "stream",
       "stream": "stdout",
       "text": [
        "\n",
        "Wed Nov 12 21:10:36 +0000 2014\n",
        "None\n",
        "#sunshine and #heat all out here in #jamaica!! It's a hard life! I'm so jealous of my friends @Patriciaberez @Alexis_08  in #regina\n",
        "Wed Nov 12 21:10:36 +0000 2014\n",
        "None\n",
        "@channelari @Theezy She not used to this Michigan weather \ud83d\ude02\ud83d\ude02\n",
        "Wed Nov 12 21:10:36 +0000 2014\n",
        "None\n",
        "RT @WildSpeed_jp: \u652f\u3048\u3066\u304f\u308c\u305f\u3001\u3059\u3079\u3066\u306e\u4eba\u306b\u611f\u8b1d\u3068\u611b\u3092\u3053\u3081\u3066\u3002\n",
        " \n",
        "\u300e\u30ef\u30a4\u30eb\u30c9\u30fb\u30b9\u30d4\u30fc\u30c9 SKY MISSION\u300f\n",
        "\u30a4\u30f3\u30bf\u30fc\u30ca\u30b7\u30e7\u30ca\u30eb\u30fb\u30c8\u30ec\u30fc\u30e9\u30fc\u89e3\u7981\u3002\n",
        " \n",
        "\u4eca\u5ea6\u306e\u30df\u30c3\u30b7\u30e7\u30f3\u306f\u3001\u7a7a\u3078\u3002\n",
        "http://t.co/TQXsnvqZsB #\u30ef\u30a4\u30eb\u30c9\u30b9\u30d4\u30fc\u30c9\n",
        "http\u2026\n",
        "Wed Nov 12 21:10:36 +0000 2014\n",
        "None\n",
        "This weather is so depressing! Can't wait to be back in Cali!!!!"
       ]
      },
      {
       "output_type": "stream",
       "stream": "stdout",
       "text": [
        "\n",
        "Wed Nov 12 21:10:36 +0000 2014\n",
        "None\n",
        "So annoying when you're enjoying the classic Sky menu tunes and then it cock blocks you and sends you to Sky Intro\n",
        "Wed Nov 12 21:10:36 +0000 2014\n",
        "None\n",
        "@CNN Storm of the xmen (the first African American female superhero) has her first ever book series! Please promote it like you did Thor!"
       ]
      },
      {
       "output_type": "stream",
       "stream": "stdout",
       "text": [
        "\n",
        "Wed Nov 12 21:10:36 +0000 2014\n",
        "None\n",
        "RT @yoshiiiiii_: rt si tu veux une photo avec ton sunshine\n",
        "Wed Nov 12 21:10:36 +0000 2014\n",
        "None\n",
        "I really don't want to run in this weather. #ccmeet\n",
        "Wed Nov 12 21:10:36 +0000 2014\n",
        "{u'type': u'Point', u'coordinates': [-92.040404, 29.967419]}\n",
        "https://t.co/uGoyvgTuDh\n",
        "Wed Nov 12 21:10:36 +0000 2014\n",
        "None\n",
        "(\uff89&gt; \u25c7 &lt;)\uff89\u266a \u300e Hand's up in the sky we came to get down \u300f #\ud2f4\ud0d1 #\uc7a5\ub09c\uc544\ub0d0 \u2606\u5f61\n",
        "Wed Nov 12 21:10:36 +0000 2014\n",
        "None\n",
        "RT @taymrooo: I want to hear Christmas songs, and feel cold weather, and watch Christmas movies, and do Christmas things... Ahhhh\ud83d\ude0d"
       ]
      },
      {
       "output_type": "stream",
       "stream": "stdout",
       "text": [
        "\n",
        "Wed Nov 12 21:10:36 +0000 2014\n",
        "None\n",
        "http://t.co/MFgCQibt5W: Hot Sizzling Shemale http://t.co/b7FVXreJkX #adult #free #Porn #shemale #video #XXX"
       ]
      },
      {
       "output_type": "stream",
       "stream": "stdout",
       "text": [
        "\n",
        "Wed Nov 12 21:10:36 +0000 2014\n",
        "None\n",
        "http://t.co/gtA6fSjHk9 #celebrities picks #tittytuesday #nsfw #adult #porn #Brunette hot celebrities sex scenes http://t.co/MQlJudsp52\n",
        "Wed Nov 12 21:10:36 +0000 2014\n",
        "None\n",
        "its soooo cold .\n",
        "Wed Nov 12 21:10:36 +0000 2014\n",
        "None\n",
        "@rondrick_95 I'm sorry , but its cold AF &amp; I'm not moving out of this bed!!"
       ]
      },
      {
       "output_type": "stream",
       "stream": "stdout",
       "text": [
        "\n",
        "Wed Nov 12 21:10:36 +0000 2014\n",
        "None\n",
        "@_jackcurtisx @Badham_7 @RyanWestSwim supa hot fire\ud83d\udd25\ud83d\ude80\n",
        "Wed Nov 12 21:10:36 +0000 2014\n",
        "None\n",
        "RT @dixie_lee_peas: Don't mess women. We pay money to have hot wax spread on the most delicate part of our body &amp; rip the hair out By. The.\u2026"
       ]
      },
      {
       "output_type": "stream",
       "stream": "stdout",
       "text": [
        "\n",
        "Wed Nov 12 21:10:36 +0000 2014\n",
        "None\n",
        "Peppermint mocha w/ a snowman cookie in this weather is fucking EVERYTHING.\n",
        "Wed Nov 12 21:10:36 +0000 2014\n",
        "{u'type': u'Point', u'coordinates': [-82.02541, 26.608148]}\n",
        "RT @sex_sexvideos: \u25a0 Nice real tits ! on beach \n",
        "\n",
        "\u25ba http://t.co/GI3A4zbo2V\n",
        "\n",
        "#porn #sex #teen #xxx #nsfw #pussy #ass #hot #adult #video #sexy\u2026\n",
        "Wed Nov 12 21:10:36 +0000 2014\n",
        "None\n",
        "RT @AdultOnlyUp18: \u25a0 Amateur Skinny Slut Does Anal\n",
        "\n",
        "\u25ba http://t.co/WCizGkuAsX\n",
        "\n",
        "#porn #sex #teen #xxx #nsfw #pussy #ass #hot #adult #video #s\u2026"
       ]
      },
      {
       "output_type": "stream",
       "stream": "stdout",
       "text": [
        "\n",
        "Wed Nov 12 21:10:36 +0000 2014\n",
        "None\n",
        "#Hot #Celebrity James Franco Shares Another Pic Of Bloody Megan Fox! Only THIS One She's Stripped\u2026 #Celebs http://t.co/4wbCbw5HYo\n",
        "Wed Nov 12 21:10:36 +0000 2014\n",
        "None\n",
        "then it's cold \ud83d\ude2d\n",
        "Wed Nov 12 21:10:36 +0000 2014\n",
        "None\n",
        "RT @dreadematteo: being surrounded by hot dirty dudes all day doesn't suck #AskSOA #FinalRide"
       ]
      },
      {
       "output_type": "stream",
       "stream": "stdout",
       "text": [
        "\n",
        "Wed Nov 12 21:10:36 +0000 2014\n",
        "None\n",
        "Hey my sunshine!!! \n",
        "\ud83d\ude48Not be sad please\ud83d\ude48 \n",
        "~~be happy for me~~\n",
        "you mean everything to me!\n",
        "please follow me\u2753\n",
        "ILYSM @zaynmalik 9.241\n",
        "Wed Nov 12 21:10:36 +0000 2014\n",
        "None\n",
        "Their bed is a lesbian playground | hot xxx #movie #music #ass #lol #video http://t.co/NqEwPdOYE7\n",
        "Wed Nov 12 21:10:36 +0000 2014\n",
        "None\n",
        "Latest Weather Data 07:40 AM 26.6C 20 percent 6.2 km/h\n",
        "Wed Nov 12 21:10:36 +0000 2014\n",
        "None\n",
        "Daisy staying snug on a cold and blustery day in #PDX. #cat #cowcat http://t.co/B8M60AEjmX\n",
        "Wed Nov 12 21:10:36 +0000 2014\n",
        "None\n",
        "RT @chartnews: Billboard Hot 100: #7(+17) Love Me Harder, @ArianaGrande &amp; @theweeknd [5 weeks]. *new peak*"
       ]
      },
      {
       "output_type": "stream",
       "stream": "stdout",
       "text": [
        "\n",
        "Wed Nov 12 21:10:36 +0000 2014\n",
        "None\n",
        "Photo: starfucked: Uuh sick again after the weekend \ud83d\ude1d stupid cold! \u2615\ufe0f Picture taken at @dominatrixparty... http://t.co/4FbduzsSHi\n",
        "Wed Nov 12 21:10:36 +0000 2014\n",
        "None\n",
        "RT @PlanetShakira: I voted for @shakira in @Vevo's Hot This Year: http://t.co/NrBbAgBYT6  #VevoHTYSexy\n",
        "Wed Nov 12 21:10:37 +0000 2014\n",
        "None\n",
        "@Real_Liam_Payne \ud83d\udc95\ud83d\udc95\n",
        "I don't exist if I don't have you, the sun doesn't shine, the world doesn't turn. Lots of love from Italy.\ud83d\udc98 \n",
        "\ud83d\udc9d\ud83d\udc9dd"
       ]
      },
      {
       "output_type": "stream",
       "stream": "stdout",
       "text": [
        "\n",
        "Wed Nov 12 21:10:37 +0000 2014\n",
        "None\n",
        "RT @ArianaGrande: #LoveMeHarder entered the top 10 on @billboard hot 100 this week!! thank u so much luvs!!!!! https://t.co/NIYYO8CY4t http\u2026\n",
        "Wed Nov 12 21:10:37 +0000 2014\n",
        "None\n",
        "@ifvkswithbatman rain in byo finally!...let it be known even hell now rains lol\n",
        "Wed Nov 12 21:10:37 +0000 2014\n",
        "None\n",
        "Evening Drive: Don't be like the clouds. Determine who you are and don't let your surroundings do it\u2026 http://t.co/iIWn45JRET\n",
        "Wed Nov 12 21:10:37 +0000 2014\n",
        "None\n",
        "Hi @Harry_Styles you are the sun shine of my life, I think I'm addicted to your light. Please can you follow me ? You will make my life \ud83d\udc9e232"
       ]
      },
      {
       "output_type": "stream",
       "stream": "stdout",
       "text": [
        "\n",
        "Wed Nov 12 21:10:37 +0000 2014\n",
        "None\n",
        "RT @emaleexosborn: @Crystal_Lungs a hot mess. Damn boy\n",
        "Wed Nov 12 21:10:37 +0000 2014\n",
        "None\n",
        "#favmattpic\n",
        "@TheMattEspinosa \n",
        "Please follow me ily. \n",
        "My sunshine on a rainy day.\n",
        "\n",
        "x15 http://t.co/zL4A0R16jP\n",
        "Wed Nov 12 21:10:36 +0000 2014\n",
        "None\n",
        "RT @apelsinkaX: We have nice weather. #Florida. \ud83d\ude0a http://t.co/TkPLIvFMUw"
       ]
      },
      {
       "output_type": "stream",
       "stream": "stdout",
       "text": [
        "\n",
        "Wed Nov 12 21:10:37 +0000 2014\n",
        "None\n",
        "These winds killing me but the sun shining makes it bearable.\n",
        "Wed Nov 12 21:10:37 +0000 2014\n",
        "None\n",
        "RT @Ameza_4: Rain\ud83d\ude4f\n",
        "Wed Nov 12 21:10:37 +0000 2014\n",
        "None\n",
        "In need of an early night cuddling my hot water bottle\ud83d\ude37\ud83d\ude13\u2728\n",
        "Wed Nov 12 21:10:37 +0000 2014\n",
        "None\n",
        "@Fergie the #LALOVEVIDEO is hot as hell! Your partybus, dance, crying baby, LALOVEcard, dancers, rapping and bikini scene are all amazing! \ud83d\udc9b"
       ]
      },
      {
       "output_type": "stream",
       "stream": "stdout",
       "text": [
        "\n",
        "Wed Nov 12 21:10:37 +0000 2014\n",
        "None\n",
        "Don\u2019t forget to disconnect your hose before freezing temperatures hit. Water can freeze in the hose and damage the spigot. #arwx\n",
        "Wed Nov 12 21:10:37 +0000 2014\n",
        "None\n",
        "@HutchenceD sucks,  cause Ireland seems like such a pretty place. And is full of hot guys"
       ]
      },
      {
       "output_type": "stream",
       "stream": "stdout",
       "text": [
        "\n",
        "Wed Nov 12 21:10:37 +0000 2014\n",
        "None\n",
        "It's to cold to be out with no car\n",
        "Wed Nov 12 21:10:37 +0000 2014\n",
        "None\n",
        "RT @GoNintendoTweet: Rodea the Sky Soldier - more screens, info http://t.co/OuDCSYiaJv\n",
        "Wed Nov 12 21:10:37 +0000 2014\n",
        "None\n",
        "#me,#boobs,#ass,#pics,#photo,#selfie,#free,#dating, | #Russian | Hot Russian Girl nude sli http://t.co/kPG04XwbnP\n",
        "Wed Nov 12 21:10:37 +0000 2014\n",
        "None\n",
        "\ud83c\udf34\n",
        "\n",
        "@Nashgrier \n",
        "\n",
        "follow me please sunshine\n",
        "\n",
        "\ud83c\udf34x32 http://t.co/E2BVL07691"
       ]
      },
      {
       "output_type": "stream",
       "stream": "stdout",
       "text": [
        "\n",
        "Wed Nov 12 21:10:37 +0000 2014\n",
        "None\n",
        "@Hurricane_AT3 oh that's warm bro\n",
        "Wed Nov 12 21:10:37 +0000 2014\n",
        "None\n",
        "RT @rnrbabe1: And if I have to come and get if from you then it would be a cold day in hell \ud83d\ude97 \u2744\ufe0f\u26c4\ufe0f\ud83d\udd25 #followuptweet\n",
        "Wed Nov 12 21:10:37 +0000 2014\n",
        "None\n",
        "RT @WildSpeed_jp: \u652f\u3048\u3066\u304f\u308c\u305f\u3001\u3059\u3079\u3066\u306e\u4eba\u306b\u611f\u8b1d\u3068\u611b\u3092\u3053\u3081\u3066\u3002\n",
        " \n",
        "\u300e\u30ef\u30a4\u30eb\u30c9\u30fb\u30b9\u30d4\u30fc\u30c9 SKY MISSION\u300f\n",
        "\u30a4\u30f3\u30bf\u30fc\u30ca\u30b7\u30e7\u30ca\u30eb\u30fb\u30c8\u30ec\u30fc\u30e9\u30fc\u89e3\u7981\u3002\n",
        " \n",
        "\u4eca\u5ea6\u306e\u30df\u30c3\u30b7\u30e7\u30f3\u306f\u3001\u7a7a\u3078\u3002\n",
        "http://t.co/TQXsnvqZsB #\u30ef\u30a4\u30eb\u30c9\u30b9\u30d4\u30fc\u30c9\n",
        "http\u2026\n",
        "Wed Nov 12 21:10:37 +0000 2014\n",
        "None\n",
        "@crraazzzzymofos: @NiallOfficial \n",
        " \u2601\ufe0fhi niall\n",
        "\n",
        "\ud83c\udf00 i love you sunshine\n",
        "\ud83c\ude02 thank u for everything\n",
        "\ud83c\udf90 i'm so proud of you\n",
        "\ud83d\udd39 please follow me?58\n",
        "Wed Nov 12 21:10:37 +0000 2014\n",
        "None\n",
        "LIAM\n",
        "YOU ARE MY:\n",
        "SUNSHINE \ud83c\udf1e\n",
        "LOVE \ud83d\udc95\n",
        "WORLD \ud83c\udf0e\n",
        "EVERYTHING \ud83d\ude48\n",
        "PLEASE FOLLOW ME \ud83d\ude0a\n",
        "#MurrayFTW\n",
        "@Real_Liam_Payne x533\n",
        "Wed Nov 12 21:10:37 +0000 2014\n",
        "None\n",
        "Galveston is gorg, definitely need to come back when it's actually warm...and sunny... :'(\n",
        "Wed Nov 12 21:10:37 +0000 2014\n",
        "None\n",
        "@NiallOfficial \n",
        "Hi Sunshine !\ud83d\udc95\n",
        "How are you ?\n",
        "I'm so proud of you \ud83d\udc96\n",
        "Can you follow me please ?\ud83d\udc95\n",
        "I love you more than everything \ud83d\udc96\n",
        "X3933"
       ]
      },
      {
       "output_type": "stream",
       "stream": "stdout",
       "text": [
        "\n",
        "Wed Nov 12 21:10:37 +0000 2014\n",
        "None\n",
        "Pues he estado 3 dias a base de sopa, frenadol hot-lemon y pelis, asi que ahi voy...\n",
        "Wed Nov 12 21:10:37 +0000 2014\n",
        "None\n",
        "YouTube launching subscription music service in US - Toronto Sun http://t.co/PunonMhkmd\n",
        "Wed Nov 12 21:10:37 +0000 2014\n",
        "None\n",
        "RT @sexy__celebs: Billie Faires #hot #tits http://t.co/hl9SVbDqCx\n",
        "Wed Nov 12 21:10:37 +0000 2014\n",
        "None\n",
        "http://t.co/eiq9bOju1T #bbw in #MILFMonday #nsfw #adult #porn #Hot bbw tgp video http://t.co/gWzcSssygB"
       ]
      },
      {
       "output_type": "stream",
       "stream": "stdout",
       "text": [
        "\n",
        "Wed Nov 12 21:10:37 +0000 2014\n",
        "None\n",
        "@AllyBrooke \ud83d\udc98\ud83d\udc98\n",
        "PLEASE FOLLOW ME SUNSHINE \u2600\ufe0f\n",
        "I missed your last follow spree :( \n",
        "FOLLOW ME ILY \ud83d\udc98\ud83d\udc9827\n",
        "Wed Nov 12 21:10:37 +0000 2014\n",
        "None\n",
        "@MafaldaGuedes \"/that is actually being filled with warm water and puts you down, sitting behind you/ j-just rest on me for a while okay~?\"\n",
        "Wed Nov 12 21:10:37 +0000 2014\n",
        "None\n",
        "Teen hottie Nataly hot blowjob and fucking | XsexX #xxx #nsfw #nude #leaked http://t.co/WVteaOoqOR"
       ]
      },
      {
       "output_type": "stream",
       "stream": "stdout",
       "text": [
        "\n",
        "Wed Nov 12 21:10:37 +0000 2014\n",
        "None\n",
        "Soooo @zaynmalik @Real_Liam_Payne and @Louis_Tomlinson wrote a song together!!!! I'm so happy #clouds\n",
        "Wed Nov 12 21:10:37 +0000 2014\n",
        "None\n",
        "RT @selfieadult: Get hot girls in an instant!\n",
        "https://t.co/8ghwrUQhZF http://t.co/BSR0ylTR0c\n",
        "Wed Nov 12 21:10:37 +0000 2014\n",
        "None\n",
        "@Real_Liam_Payne \n",
        "\n",
        "HI SUNSHINE \ud83d\udc9c\n",
        "\n",
        "HOW ARE YOU?\n",
        "\n",
        " CAN YOU FOLLOW ME PLS? \ud83d\udc9c\n",
        "\n",
        "I LOVE YOU SO MUCH\ud83d\udc9c\n",
        "\n",
        "\ud83c\udf40\ud83d\ude4f\ud83c\udf40\ud83d\ude4f\ud83c\udf40\ud83d\ude4f\ud83c\udf40\ud83d\ude4f\ud83c\udf40\ud83d\ude4f\ud83c\udf40\ud83d\ude4f\ud83c\udf40\n",
        "\n",
        "x299\n",
        "Wed Nov 12 21:10:37 +0000 2014\n",
        "None\n",
        "Hi @NiallOfficial. I love you. Can you follow me please. It's my dream. You're my sunshine. x2.972"
       ]
      },
      {
       "output_type": "stream",
       "stream": "stdout",
       "text": [
        "\n",
        "Wed Nov 12 21:10:37 +0000 2014\n",
        "None\n",
        "RT @jacksonowensnz: Lay over in Denver,it's freezing here!\u2744\ufe0f\u2744\ufe0f\u2744\ufe0f\u2708\ufe0f http://t.co/nOySXTWRLU\n",
        "Wed Nov 12 21:10:37 +0000 2014\n",
        "None\n",
        "It is a cold day \ud83d\udca8\ud83d\udca8\ud83d\udca8\ud83d\udca8\n",
        "Wed Nov 12 21:10:37 +0000 2014\n",
        "None\n",
        "I thought of five ways Beyonc\u00e9 could steal Solange's thunder at her wedding this weekend: https://t.co/0cZQ3Ej1gy"
       ]
      },
      {
       "output_type": "stream",
       "stream": "stdout",
       "text": [
        "\n",
        "Wed Nov 12 21:10:37 +0000 2014\n",
        "None\n",
        "RT @LukeAdams95: a cold room is everything when it comes to sleep\n",
        "Wed Nov 12 21:10:37 +0000 2014\n",
        "None\n",
        "RT @joangrande: Congrats! @ArianaGrande @Savan_Kotecha  You're the first artist to have 4 songs on Billboard Hot 100 Top Ten since 2012, al\u2026\n",
        "Wed Nov 12 21:10:37 +0000 2014\n",
        "None\n",
        "Haven't had a good mug of hot chocolate in a long while. Its getting  colder by the day too. :)"
       ]
      },
      {
       "output_type": "stream",
       "stream": "stdout",
       "text": [
        "\n",
        "Wed Nov 12 21:10:37 +0000 2014\n",
        "None\n",
        "@Michael5SOS\n",
        "\n",
        "\u2605\u266cMichael Clifford from 5sos\u266c\u2605\n",
        "\n",
        " \u2661I love you, sunshine\u2661\n",
        "\n",
        "\u263eit would mean so much to me\u263d\n",
        "\n",
        "\u2716To get your follow. Please?\u2716\n",
        "\n",
        "\u266c19.245\n",
        "Wed Nov 12 21:10:37 +0000 2014\n",
        "None\n",
        "RT @therealstylesp: I get high as the clouds but stay down to earth..\n",
        "Wed Nov 12 21:10:37 +0000 2014\n",
        "None\n",
        "This weather got me like http://t.co/SkDWsOKKq0\n",
        "Wed Nov 12 21:10:37 +0000 2014\n",
        "None\n",
        "Hot Tools Professional 1\" Gold Marcel Hair Curling Iron # 1108 Salon Beauty Pro http://t.co/WCO5KAJE2r #7743 http://t.co/hzyF3RSZtA"
       ]
      },
      {
       "output_type": "stream",
       "stream": "stdout",
       "text": [
        "\n",
        "Wed Nov 12 21:10:38 +0000 2014\n",
        "None\n",
        "RT @TaxidermyLove: *when you see a hot guy in the distance http://t.co/Nn3WctUBxg\n",
        "Wed Nov 12 21:10:38 +0000 2014\n",
        "None\n",
        "@ElSilvatazo @ocielhernandez no mms comprese unas truzas thunder\n",
        "Wed Nov 12 21:10:38 +0000 2014\n",
        "None\n",
        "Millennials driving hot rental market: Report http://t.co/Hq4Y54UILT\n",
        "Wed Nov 12 21:10:38 +0000 2014\n",
        "None\n",
        "#tobago #pigeonpoint #beach #jetty #boat #clouds #condor #aircraft #mondayflight #memories http://t.co/iVdshO6FrT"
       ]
      },
      {
       "output_type": "stream",
       "stream": "stdout",
       "text": [
        "\n",
        "Wed Nov 12 21:10:38 +0000 2014\n",
        "None\n",
        "RT @justbcoolfool: I really don't like the cold weather\n",
        "Wed Nov 12 21:10:38 +0000 2014\n",
        "None\n",
        "I'm not mentally prepared for how cold its gonna get in Kirksville... #notreadyforwinter\n",
        "Wed Nov 12 21:10:38 +0000 2014\n",
        "None\n",
        "RT @LukeAdams95: a cold room is everything when it comes to sleep"
       ]
      },
      {
       "output_type": "stream",
       "stream": "stdout",
       "text": [
        "\n",
        "Wed Nov 12 21:10:38 +0000 2014\n",
        "None\n",
        "Ezpaycheck software provides better controls afresh sunna escalator plan warm-up: bPbotO http://t.co/0EwreXov47\n",
        "Wed Nov 12 21:10:38 +0000 2014\n",
        "None\n",
        "Hiiiiii @zaynmalik \u265b\n",
        "You're my sunshine \u2600\n",
        "You make me happy when I'm sad \u10da\n",
        "Thank you for coming into my life \u271e\n",
        "Do u mind follow me? \u2718\n",
        "x49\n",
        "Wed Nov 12 21:10:38 +0000 2014\n",
        "None\n",
        "Fun but cold day on the golf course for the Pearland Chamber of Commerce http://t.co/Vq8uJAaIoM\n",
        "Wed Nov 12 21:10:38 +0000 2014\n",
        "None\n",
        "#Actress #Model Blake Lively's Fall #Fashion Inspiration Is Slaveowners - Gawker #Hot http://t.co/UVqxRzyux7\n",
        "Wed Nov 12 21:10:38 +0000 2014\n",
        "None\n",
        "\u263e\u263c \u263d \u263c \u263e\u263c\u263d \n",
        "\n",
        "Calum hood from 5sos\n",
        "You are my sunshine\u2600\ufe0f\n",
        "Please follow me\ud83d\ude4f\ud83d\udc95\n",
        "And be my 2/4?! \u25e1\u0308\n",
        "@Calum5SOS \n",
        "x15,652\n",
        "\n",
        "\u263e\u263c \u263d \u263c \u263e\u263c\u263d"
       ]
      },
      {
       "output_type": "stream",
       "stream": "stdout",
       "text": [
        "\n",
        "Wed Nov 12 21:10:38 +0000 2014\n",
        "None\n",
        "Sweater weather\u2744\ufe0f\u26c4\ufe0f&gt;&gt;&gt;\n",
        "Wed Nov 12 21:10:38 +0000 2014\n",
        "None\n",
        "@Aaroosa_M hey sunshine \u2600 , do you want to follow me, please? x\u2665"
       ]
      },
      {
       "output_type": "stream",
       "stream": "stdout",
       "text": [
        "\n",
        "Wed Nov 12 21:10:38 +0000 2014\n",
        "None\n",
        "RT @sex_sexvideos: \u25a0 Nice real tits ! on beach \n",
        "\n",
        "\u25ba http://t.co/GI3A4zbo2V\n",
        "\n",
        "#porn #sex #teen #xxx #nsfw #pussy #ass #hot #adult #video #sexy\u2026\n",
        "Wed Nov 12 21:10:38 +0000 2014\n",
        "None\n",
        "RT @forrestmaxson1: Day 2. Body has not yet adapted to the bitter cold weather \ud83d\ude01\u2744\ufe0f\u2744\ufe0f\u2744\ufe0f"
       ]
      },
      {
       "output_type": "stream",
       "stream": "stdout",
       "text": [
        "\n",
        "Wed Nov 12 21:10:38 +0000 2014\n",
        "None\n",
        "RT @PoemsPorn: \"There is nothing prettier than a city at 5am with its empty streets and cold wind.\"\n",
        "Wed Nov 12 21:10:38 +0000 2014\n",
        "None\n",
        "\ud83d\udc95\ud83c\udf38\ud83d\udc95\ud83c\udf38\ud83d\udc95\n",
        "Luke Hemmings from 5SOS\n",
        "please follow me sunshine\n",
        "it would mean the absolute \ud83c\udf0d\n",
        "i love you more than anything\n",
        "@Luke5SOS \n",
        "\ud83d\udc95\ud83c\udf38\ud83d\udc95\ud83c\udf38\ud83d\udc95\n",
        "20,358"
       ]
      },
      {
       "output_type": "stream",
       "stream": "stdout",
       "text": [
        "\n",
        "Wed Nov 12 21:10:38 +0000 2014\n",
        "None\n",
        "@zaynmalik \u2741no matter where,no matter when I'll be there for you till the end.follow me my sunshine it would mean the world to me\u2741x41.688\n",
        "Wed Nov 12 21:10:38 +0000 2014\n",
        "None\n",
        "@SunderlandNow not on mine. I'm on sky\n",
        "Wed Nov 12 21:10:38 +0000 2014\n",
        "None\n",
        "RT @LukeAdams95: a cold room is everything when it comes to sleep\n",
        "Wed Nov 12 21:10:38 +0000 2014\n",
        "None\n",
        "Popular on 500px : Cold Fusion by cresendephotography http://t.co/3zhAuFZQo2"
       ]
      },
      {
       "output_type": "stream",
       "stream": "stdout",
       "text": [
        "\n",
        "Wed Nov 12 21:10:38 +0000 2014\n",
        "None\n",
        "@Real_Liam_Payne hello sunshine. Hope you're fine. Can you please follow me? It will take you 5 seconds. Ilysfm. Always smile :) x10,947"
       ]
      },
      {
       "output_type": "stream",
       "stream": "stdout",
       "text": [
        "\n",
        "Wed Nov 12 21:10:38 +0000 2014\n",
        "None\n",
        "RT @loganlogsdon23: I hate this weather with a passion\n",
        "Wed Nov 12 21:10:38 +0000 2014\n",
        "None\n",
        "Body is in shock physical work in the cold and wet has killed me today"
       ]
      },
      {
       "output_type": "stream",
       "stream": "stdout",
       "text": [
        "\n",
        "Wed Nov 12 21:10:38 +0000 2014\n",
        "None\n",
        "it's not even cold as it's going to get \u270b\ud83d\ude29\n",
        "Wed Nov 12 21:10:38 +0000 2014\n",
        "None\n",
        "Cold at the trap"
       ]
      },
      {
       "output_type": "stream",
       "stream": "stdout",
       "text": [
        "\n",
        "Wed Nov 12 21:10:38 +0000 2014\n",
        "None\n",
        "WATCHING SKY HIGH&gt;&gt;&gt;&gt;&gt;school\n",
        "Wed Nov 12 21:10:38 +0000 2014\n",
        "None\n",
        "RT @FamousWomen: Life isn't about waiting for the storm to pass, it's about learning to dance in the rain."
       ]
      },
      {
       "output_type": "stream",
       "stream": "stdout",
       "text": [
        "\n",
        "Wed Nov 12 21:10:39 +0000 2014\n",
        "None\n",
        "@Nashgrier Hello sunshine would you please make me the happiest girl on planet with your follow? i love you so much nash xx178\n",
        "Wed Nov 12 21:10:39 +0000 2014\n",
        "None\n",
        "This weather fits my mood. \ud83d\ude12"
       ]
      },
      {
       "output_type": "stream",
       "stream": "stdout",
       "text": [
        "\n",
        "Wed Nov 12 21:10:39 +0000 2014\n",
        "None\n",
        "@stegglesss Have you seen our teeth whitening sun bed kit? It allows you to whiten your teeth whilst you tan \ud83d\ude04"
       ]
      },
      {
       "output_type": "stream",
       "stream": "stdout",
       "text": [
        "\n",
        "Wed Nov 12 21:10:39 +0000 2014\n",
        "None\n",
        "RT @SkyNews: City Worker's Water Rescue Caught On Camera http://t.co/aAkhzAyoce\n",
        "Wed Nov 12 21:10:39 +0000 2014\n",
        "None\n",
        "RT @DiceRigby: Miren estas mujeres en pantalones de yoga. Creo que no hay nada m\u00e1s hot que esto. \u2193\n",
        "\n",
        "http://t.co/ogO0Hfs5A6 http://t.co/Nyo8\u2026"
       ]
      },
      {
       "output_type": "stream",
       "stream": "stdout",
       "text": [
        "\n",
        "Wed Nov 12 21:10:39 +0000 2014\n",
        "None\n",
        "RT @ChuckNellis: I'll laugh my ass off listening to Liberals blame zero degree temps on #globalwarming. It's just cycles, there's nothing n\u2026"
       ]
      },
      {
       "output_type": "stream",
       "stream": "stdout",
       "text": [
        "\n",
        "Wed Nov 12 21:10:39 +0000 2014\n",
        "None\n",
        "@strcngers THATS SFJSK LMAOO OK UR A HOT TRIANGLE\n",
        "Wed Nov 12 21:10:39 +0000 2014\n",
        "None\n",
        "http://t.co/yNqSpEqW1d #celebrities can #FreeTheNipple #nsfw #adult #porn #Brunette hot celebrities sex scenes http://t.co/bcUOXR4bVl\n",
        "Wed Nov 12 21:10:39 +0000 2014\n",
        "None\n",
        "RT @SoDamnTrue: the most annoying struggle girls go through with sun glasses http://t.co/66GWkafi08"
       ]
      },
      {
       "output_type": "stream",
       "stream": "stdout",
       "text": [
        "\n",
        "Wed Nov 12 21:10:39 +0000 2014\n",
        "None\n",
        "RT @JensenAckles: Classic song, classic car and classic dean covered in grease and drinking warm coffee. I love it. #ClassicSupernatural #S\u2026\n",
        "Wed Nov 12 21:10:39 +0000 2014\n",
        "None\n",
        "HOT NEW JOB - Games Developer #dundee #C# Immediate interview for suitable candidates  http://t.co/ZAAOiYZpLk\n",
        "Wed Nov 12 21:10:39 +0000 2014\n",
        "None\n",
        "hi sunshine @Louis_Tomlinson \ud83d\udc9e\n",
        "\n",
        "you mean the world to me, thank you for everything, i love you so much, can you follow me pls? \ud83c\udf1d\n",
        "\n",
        "X1,943\n",
        "Wed Nov 12 21:10:39 +0000 2014\n",
        "None\n",
        "RT @UrFavritAsshole: 20. U CAN\u2019T JUS ERASE AN EX FROM UR MEMORY LIKE DA MOVIE ETERNAL SUNSHINE OF DA SPOTLESS MIND, BUT DATS WAT ALCOHOL AN\u2026"
       ]
      },
      {
       "output_type": "stream",
       "stream": "stdout",
       "text": [
        "\n",
        "Wed Nov 12 21:10:39 +0000 2014\n",
        "None\n",
        "@Solrevelo @Nashgrier no need to thank me sunshine! it is my pleasure to help you! you deserve to get his follow !\n",
        "Wed Nov 12 21:10:39 +0000 2014\n",
        "None\n",
        "It's cold af and I love it\n",
        "Wed Nov 12 21:10:39 +0000 2014\n",
        "None\n",
        "RT @LukeAdams95: a cold room is everything when it comes to sleep\n",
        "Wed Nov 12 21:10:39 +0000 2014\n",
        "None\n",
        "RT @kosso: Today headlines:\n",
        "Comet.\n",
        "Buttocks.\n",
        "\n",
        "(One of these is actual news)\n",
        "\n",
        ".. and now over to Bob with the weather."
       ]
      },
      {
       "output_type": "stream",
       "stream": "stdout",
       "text": [
        "\n",
        "Wed Nov 12 21:10:39 +0000 2014\n",
        "None\n",
        "This hot pocket thooo"
       ]
      },
      {
       "output_type": "stream",
       "stream": "stdout",
       "text": [
        "\n",
        "Wed Nov 12 21:10:39 +0000 2014\n",
        "None\n",
        "RT @haleyavery: It's officially \"cut through every building on campus\" weather \ud83d\ude29"
       ]
      },
      {
       "output_type": "stream",
       "stream": "stdout",
       "text": [
        "\n",
        "Wed Nov 12 21:10:39 +0000 2014\n",
        "None\n",
        "RT @SoDamnTrue: the most annoying struggle girls go through with sun glasses http://t.co/66GWkafi08\n",
        "Wed Nov 12 21:10:39 +0000 2014\n",
        "None\n",
        "@MollySniffs Hi Molly gr8 fanks road trip c hoosises today, 4 nites can't wait cited. Hope u is good &amp; u hab gr8 evening. Warm 2day tho\ud83d\udc96\ud83d\udc96\ud83d\udc96\n",
        "Wed Nov 12 21:10:39 +0000 2014\n",
        "None\n",
        "RT @OriginalQueenB_: And I wonder does it stop your heart to know, you're not my sunshine anymore\n",
        "Wed Nov 12 21:10:39 +0000 2014\n",
        "None\n",
        "\u2727:\u263c  Hi @CherLloyd  \u2727:\u263c \n",
        " i love you so fucking much sunshine \n",
        " so could you pls make me happy and follow me?\n",
        " it mean the world to me \u263c310"
       ]
      },
      {
       "output_type": "stream",
       "stream": "stdout",
       "text": [
        "\n",
        "Wed Nov 12 21:10:39 +0000 2014\n",
        "None\n",
        "Hot slim hairy Asian get hardcore fuck in her pussy after blowjob #sex #movie #hot #iPhone http://t.co/MZygqDDHi2\n",
        "Wed Nov 12 21:10:39 +0000 2014\n",
        "None\n",
        "Netherlands mk hot briefly."
       ]
      },
      {
       "output_type": "stream",
       "stream": "stdout",
       "text": [
        "\n",
        "Wed Nov 12 21:10:39 +0000 2014\n",
        "None\n",
        "Watching World's Weirdest Weather lol\n",
        "Wed Nov 12 21:10:39 +0000 2014\n",
        "None\n",
        "See the smoke when the sun shines, we will forever be faded under gold skies \u2600 http://t.co/dv9oljdmLj\n",
        "Wed Nov 12 21:10:39 +0000 2014\n",
        "None\n",
        "Cute brunette teen fucked in hot position | porn 4free #sex #instagram #amateur #instapic http://t.co/wOKck2DB7x"
       ]
      },
      {
       "output_type": "stream",
       "stream": "stdout",
       "text": [
        "\n",
        "Wed Nov 12 21:10:39 +0000 2014\n",
        "None\n",
        "love it when my blanket is snuggled around my body &amp; my head is rested on my pillow &amp; it's super cold outside but im so warm &amp; comfortable\ud83d\ude0c\n",
        "Wed Nov 12 21:10:39 +0000 2014\n",
        "None\n",
        "Shut up RT @JamTheHawk: It's like a hot summers day in here. I wish I were colder. \ud83d\ude1d\n",
        "Wed Nov 12 21:10:39 +0000 2014\n",
        "None\n",
        "@LisaCanary no it doesn't I still get that nice warm glow from the drink :) x"
       ]
      },
      {
       "output_type": "stream",
       "stream": "stdout",
       "text": [
        "\n",
        "Wed Nov 12 21:10:39 +0000 2014\n",
        "None\n",
        "RT @MadelnCanada: Sweater weather? More like \"three sweaters, a scarf, gloves and a jacket\" weather. #CanadianProblems"
       ]
      },
      {
       "output_type": "stream",
       "stream": "stdout",
       "text": [
        "\n",
        "Wed Nov 12 21:10:39 +0000 2014\n",
        "None\n",
        "Jamming Of Monsters and Men,  enjoying this cold weather \u2744\ufe0f\ud83d\udc98\n",
        "Wed Nov 12 21:10:39 +0000 2014\n",
        "None\n",
        "cold air is refreshing but it's just a tad bit windy \ud83d\ude33 http://t.co/wcZxBLNuDN"
       ]
      },
      {
       "output_type": "stream",
       "stream": "stdout",
       "text": [
        "\n",
        "Wed Nov 12 21:10:39 +0000 2014\n",
        "None\n",
        "@JohnnieGuilbert your thoughts on the song Cemetery Weather by Isles &amp; Glaciers. \n",
        "\n",
        "Go.\n",
        "Wed Nov 12 21:10:40 +0000 2014\n",
        "None\n",
        "@NiallOfficial helloooooo sunshine \u2600"
       ]
      },
      {
       "output_type": "stream",
       "stream": "stdout",
       "text": [
        "\n",
        "Wed Nov 12 21:10:40 +0000 2014\n",
        "None\n",
        "Warm one day...cold the next...NC's bi-polar weather\n",
        "Wed Nov 12 21:10:40 +0000 2014\n",
        "None\n",
        "Meu vizinho ouve red hot, system, legi\u00e3o, detonautas e td mais sintam inveja\n",
        "Wed Nov 12 21:10:40 +0000 2014\n",
        "None\n",
        "IHOP and hot chocolate would be perfect for dinner tonight"
       ]
      },
      {
       "output_type": "stream",
       "stream": "stdout",
       "text": [
        "\n",
        "Wed Nov 12 21:10:40 +0000 2014\n",
        "None\n",
        "@zaynmalik Hi sunshine.\ud83d\udc96\n",
        "April 10th is my bday,can you follow me please?\ud83d\udc9e\ud83d\udc9e\n",
        "I love you so much\ud83d\udc9d\ud83d\udc96\ud83d\udc9e   x161"
       ]
      },
      {
       "output_type": "stream",
       "stream": "stdout",
       "text": [
        "\n",
        "Wed Nov 12 21:10:40 +0000 2014\n",
        "None\n",
        "RT @m_sircyy27: didn't expect it to be this cold..\ud83d\ude33\n",
        "Wed Nov 12 21:10:40 +0000 2014\n",
        "None\n",
        "RT @Meesshell03 RT @monie_ Man oh man am I enjoying this last bit of great weather \ud83d\ude29... Please don't go \ud83d\ude23\n",
        "Wed Nov 12 21:10:40 +0000 2014\n",
        "None\n",
        "RT @SoDamnTrue: the most annoying struggle girls go through with sun glasses http://t.co/66GWkafi08\n",
        "Wed Nov 12 21:10:40 +0000 2014\n",
        "None\n",
        "I read that Russia-US relations are chillier than during Cold War. I'd like to blame that on the Polar Vortex. Perfect diplomatic solution."
       ]
      },
      {
       "output_type": "stream",
       "stream": "stdout",
       "text": [
        "\n",
        "Wed Nov 12 21:10:40 +0000 2014\n",
        "None\n",
        "RT @TheCarlosPena: NYC!! Going To be an epic week! 2 days exploring #QuantumoftheSeas - Saturday #HALOawards - Lastly #hillsong service on \u2026\n",
        "Wed Nov 12 21:10:40 +0000 2014\n",
        "None\n",
        "Lauren is so hot I can't \ud83d\ude2d\ud83d\ude0d\n",
        "Wed Nov 12 21:10:40 +0000 2014\n",
        "None\n",
        "If I'm butter, than he's a hot knife."
       ]
      },
      {
       "output_type": "stream",
       "stream": "stdout",
       "text": [
        "\n",
        "Wed Nov 12 21:10:40 +0000 2014\n",
        "None\n",
        "Why is it so freaking hot in this school?\n",
        "Wed Nov 12 21:10:40 +0000 2014\n",
        "None\n",
        "I was drowning in a sea of email while looking up at a sky full of documentation I need to finish...#JustAnotherDay\n",
        "Wed Nov 12 21:10:40 +0000 2014\n",
        "None\n",
        "Keep your furry friend toasty warm with these adorable jackets at The Dog Park! http://t.co/MfzVwPOQXY\n",
        "Wed Nov 12 21:10:40 +0000 2014\n",
        "None\n",
        "RT @UsCapricorns: #Capricorn Likes: hot, simple food, antiques, history, duties and responsibilities,"
       ]
      },
      {
       "output_type": "stream",
       "stream": "stdout",
       "text": [
        "\n",
        "Wed Nov 12 21:10:40 +0000 2014\n",
        "None\n",
        "RT @Happyinlove25: @IrvinePatriot no big deal\n",
        "Got the Right car \n",
        "The right clothes\n",
        "We're used to this weather. \n",
        "Red meat state Wyoming. \n",
        "Se\u2026\n",
        "Wed Nov 12 21:10:40 +0000 2014\n",
        "None\n",
        "RT @SoDamnTrue: the most annoying struggle girls go through with sun glasses http://t.co/66GWkafi08"
       ]
      },
      {
       "output_type": "stream",
       "stream": "stdout",
       "text": [
        "\n",
        "Wed Nov 12 21:10:40 +0000 2014\n",
        "None\n",
        "RT @ArianaGrande: #LoveMeHarder entered the top 10 on @billboard hot 100 this week!! thank u so much luvs!!!!! https://t.co/NIYYO8CY4t http\u2026"
       ]
      },
      {
       "output_type": "stream",
       "stream": "stdout",
       "text": [
        "\n",
        "Wed Nov 12 21:10:40 +0000 2014\n",
        "None\n",
        "#bbw luck #thongthursday #nsfw #adult #porn #Hot bbw tgp video http://t.co/zg3KUi57wv\n",
        "Wed Nov 12 21:10:40 +0000 2014\n",
        "None\n",
        "RT @chartnews: Billboard Hot 100: #13(+5) Blank Space, @taylorswift13 [2 weeks]. *new peak*"
       ]
      },
      {
       "output_type": "stream",
       "stream": "stdout",
       "text": [
        "\n",
        "Wed Nov 12 21:10:40 +0000 2014\n",
        "None\n",
        "RT @ArianaGrande: \ud83d\ude38\ud83d\ude38\ud83d\ude38\u201c@Savan_Kotecha: \"LMH\" in the top 10 on the hot 100! Thank you everyone who's requested &amp; bought the song! @ArianaGran\u2026\n",
        "Wed Nov 12 21:10:40 +0000 2014\n",
        "None\n",
        "It's just too cold man\ud83d\ude23\n",
        "Wed Nov 12 21:10:40 +0000 2014\n",
        "None\n",
        "RT @ArianaGrande: #LoveMeHarder entered the top 10 on @billboard hot 100 this week!! thank u so much luvs!!!!! https://t.co/NIYYO8CY4t http\u2026"
       ]
      },
      {
       "output_type": "stream",
       "stream": "stdout",
       "text": [
        "\n",
        "Wed Nov 12 21:10:40 +0000 2014\n",
        "None\n",
        "Not sure if I can make it to my online class in this weather"
       ]
      },
      {
       "output_type": "stream",
       "stream": "stdout",
       "text": [
        "\n",
        "Wed Nov 12 21:10:40 +0000 2014\n",
        "None\n",
        "RT @LukeAdams95: a cold room is everything when it comes to sleep"
       ]
      },
      {
       "output_type": "stream",
       "stream": "stdout",
       "text": [
        "\n",
        "Wed Nov 12 21:10:41 +0000 2014\n",
        "None\n",
        "@Real_Liam_Payne \ud83d\udc95\ud83d\udc95\n",
        "I don't exist if I don't have you, the sun doesn't shine, the world doesn't turn. Lots of love from Italy.\ud83d\udc98 \n",
        "\ud83d\udc9d\ud83d\udc9ddd\n",
        "Wed Nov 12 21:10:41 +0000 2014\n",
        "None\n",
        "Leaving on a jet plane (@ Phoenix Sky Harbor International Airport (PHX) - @phxskyharbor in Phoenix, AZ) https://t.co/chm7hZlTsE\n",
        "Wed Nov 12 21:10:41 +0000 2014\n",
        "{u'type': u'Point', u'coordinates': [-112.003066, 33.435624]}\n",
        "Its raining, lawdd its finna get cold fr fr.. Ithink\n",
        "Wed Nov 12 21:10:41 +0000 2014\n",
        "None\n",
        "RT @SoDamnTrue: the most annoying struggle girls go through with sun glasses http://t.co/66GWkafi08\n",
        "Wed Nov 12 21:10:41 +0000 2014\n",
        "None\n",
        "RT @Ladd_SA: I've never been this cold in my life lol"
       ]
      },
      {
       "output_type": "stream",
       "stream": "stdout",
       "text": [
        "\n",
        "Wed Nov 12 21:10:41 +0000 2014\n",
        "None\n",
        "RT @paranoid_void: \u3010\u89e3\u7981\uff01\u6765\u5e74\uff01\u3011\n",
        "\n",
        "\u25b6\ufe0e2015/1/11(sun)@\u5929\u738b\u5bfaFireloop\n",
        "\u300e\u6211\u304c\u9053\u3092\u884c\u304fvol.5\u300f\n",
        "\n",
        "\u305d\u308c\u3067\u3082\u5c1a\u3001\u672a\u6765\u306b\u5a9a\u3073\u308b\n",
        "TOKKIBUTS\n",
        "RED EARTH\n",
        "The Minx and Misanthrope\n",
        "paranoid\u2026\n",
        "Wed Nov 12 21:10:41 +0000 2014\n",
        "None\n",
        "@toddcarey really I miss you like how the desert misses the rain!!"
       ]
      },
      {
       "output_type": "stream",
       "stream": "stdout",
       "text": [
        "\n",
        "Wed Nov 12 21:10:41 +0000 2014\n",
        "{u'type': u'Point', u'coordinates': [-76.820664, 39.286027]}\n",
        "\u3010\u5b9a\u671f\u3011\n",
        "\u597d\u304d\u306a\u4e59\u5973\u30b2\u30fc\u30e0\n",
        "\u3046\u305f\u306e\u2729\u30d7\u30ea\u30f3\u30b9\u3055\u307e\u3063\u266a\n",
        "Starry\u2729sky \n",
        "\u731b\u7363\u4f7f\u3044\u3068\u738b\u5b50\u69d8\n",
        "\u30c7\u30b9\u30b3\u30cd\u30af\u30b7\u30e7\u30f3\n",
        "STORM LOVER \n",
        "\u3068\u304d\u3081\u304d\u30e1\u30e2\u30ea\u30a2\u30ebgs\n",
        "\u604b\u611b\u756a\u9577\n",
        "\u8584\u685c\u9b3c\n",
        "Wed Nov 12 21:10:41 +0000 2014\n",
        "None\n",
        "RT @ArianaGrande: #LoveMeHarder entered the top 10 on @billboard hot 100 this week!! thank u so much luvs!!!!! https://t.co/NIYYO8CY4t http\u2026"
       ]
      },
      {
       "output_type": "stream",
       "stream": "stdout",
       "text": [
        "\n",
        "Wed Nov 12 21:10:41 +0000 2014\n",
        "None\n",
        "Cold af, tx\n",
        "Wed Nov 12 21:10:41 +0000 2014\n",
        "None\n",
        "\ud83d\ude02\ud83d\ude02ya know \u201c@FastMoney_GED: @zaiADORE lls was geeking for that sun\u201d\n",
        "Wed Nov 12 21:10:41 +0000 2014\n",
        "None\n",
        "RT @kjdavis14: #wcw HOT DAYUM http://t.co/r8YDldy8zX\n",
        "Wed Nov 12 21:10:41 +0000 2014\n",
        "None\n",
        "RT @just1fool: *Spoons wife\n",
        "\n",
        "W:\"You're not very warm.\"\n",
        "\n",
        "Me:\"I know. I'm thin and cold.\"\n",
        "\n",
        "W:\"I wish you were 800 lbs. so I could make a tent\u2026"
       ]
      },
      {
       "output_type": "stream",
       "stream": "stdout",
       "text": [
        "\n",
        "Wed Nov 12 21:10:41 +0000 2014\n",
        "None\n",
        "@Harry_Styles Hi sunshine. Hope you're well.\n",
        "\n",
        "Would you mind read this?\n",
        "\n",
        "https://t.co/tWPuU0U5NZ\n",
        "\n",
        "Have a good day. Thanks for all.\n",
        "\n",
        "x10,422\n",
        "Wed Nov 12 21:10:41 +0000 2014\n",
        "None\n",
        "Hey my sunshine!!! \n",
        "\ud83d\ude48Not be sad please\ud83d\ude48 \n",
        "~~be happy for me~~\n",
        "you mean everything to me!\n",
        "please follow me\u2753\n",
        "ILYSM @zaynmalik 9.242\n",
        "Wed Nov 12 21:10:41 +0000 2014\n",
        "None\n",
        "RT @ArianaGrande: \ud83d\ude38\ud83d\ude38\ud83d\ude38\u201c@Savan_Kotecha: \"LMH\" in the top 10 on the hot 100! Thank you everyone who's requested &amp; bought the song! @ArianaGran\u2026"
       ]
      },
      {
       "output_type": "stream",
       "stream": "stdout",
       "text": [
        "\n",
        "Wed Nov 12 21:10:41 +0000 2014\n",
        "None\n",
        "@holdenmanz menu from tonight's extravaganza @HyattBham @EdgmondWines sunshine from #franschhoek in #Birmingham http://t.co/hT93pawSB5"
       ]
      },
      {
       "output_type": "stream",
       "stream": "stdout",
       "text": [
        "\n",
        "Wed Nov 12 21:10:41 +0000 2014\n",
        "None\n",
        "Loving this weather thank you God!! #god #weather #cold #love #life #happy #christian #herbalife\u2026 http://t.co/9eO2ASlage\n",
        "Wed Nov 12 21:10:41 +0000 2014\n",
        "None\n",
        "Netflix's and hot chocolate\ud83d\ude48\ud83d\udc4c"
       ]
      },
      {
       "output_type": "stream",
       "stream": "stdout",
       "text": [
        "\n",
        "Wed Nov 12 21:10:41 +0000 2014\n",
        "None\n",
        "RT @ArianaGrande: \ud83d\ude38\ud83d\ude38\ud83d\ude38\u201c@Savan_Kotecha: \"LMH\" in the top 10 on the hot 100! Thank you everyone who's requested &amp; bought the song! @ArianaGran\u2026\n",
        "Wed Nov 12 21:10:41 +0000 2014\n",
        "None\n",
        "RT @SoDamnTrue: the most annoying struggle girls go through with sun glasses http://t.co/66GWkafi08\n",
        "Wed Nov 12 21:10:41 +0000 2014\n",
        "None\n",
        "@crraazzzzymofos: @NiallOfficial \n",
        " \u2601\ufe0fhi niall\n",
        "\n",
        "\ud83c\udf00 i love you sunshine\n",
        "\ud83c\ude02 thank u for everything\n",
        "\ud83c\udf90 i'm so proud of you\n",
        "\ud83d\udd39 please follow me?59"
       ]
      },
      {
       "output_type": "stream",
       "stream": "stdout",
       "text": [
        "\n",
        "Wed Nov 12 21:10:41 +0000 2014\n",
        "None\n",
        "RT @ONEGAYRETION: @s0phia_xxox in Brazil is very hot! But i'm excited for christmas too\n",
        "Wed Nov 12 21:10:41 +0000 2014\n",
        "None\n",
        "RT @chartnews: Billboard Hot 100: #1(=) Shake It Off, @taylorswift13 [12 weeks]. *4 weeks at #1*"
       ]
      },
      {
       "output_type": "stream",
       "stream": "stdout",
       "text": [
        "\n",
        "Wed Nov 12 21:10:41 +0000 2014\n",
        "None\n",
        "RT @SoDamnTrue: the most annoying struggle girls go through with sun glasses http://t.co/66GWkafi08\n",
        "Wed Nov 12 21:10:41 +0000 2014\n",
        "None\n",
        "RT @BraySoDope18: Forever wondering wtf is wrong with people who like cold weather. If you not cuddling then this shit is ugly.\n",
        "Wed Nov 12 21:10:41 +0000 2014\n",
        "None\n",
        "Japanese Amateur Ladies HOT movies http://t.co/kYjWxAsrv5"
       ]
      },
      {
       "output_type": "stream",
       "stream": "stdout",
       "text": [
        "\n",
        "Wed Nov 12 21:10:41 +0000 2014\n",
        "None\n",
        "RT @dr_woods98: http://t.co/jdQ08ekD1X\n",
        "Wed Nov 12 21:10:41 +0000 2014\n",
        "None\n",
        "HI SUNSHINE.PLS FOLLOW ME,I REALLY LOVE U SO SO MUCH.\n",
        "DON'T IGNORE.I EXIST.@NiallOfficial @Ashton5SOS \u2728MAKE ME HAPPY,AND BE MY 1/9\u2728 588\n",
        "Wed Nov 12 21:10:41 +0000 2014\n",
        "None\n",
        "Yeahhhh not feelin this weather \u2744\ufe0f\n",
        "Wed Nov 12 21:10:41 +0000 2014\n",
        "None\n",
        "@h0n3yandink how cold? It's 32 in Chicago and I know that's just the beginning of it :("
       ]
      },
      {
       "output_type": "stream",
       "stream": "stdout",
       "text": [
        "\n",
        "Wed Nov 12 21:10:41 +0000 2014\n",
        "None\n",
        "Sun setting at 4:10 wtf\n",
        "Wed Nov 12 21:10:41 +0000 2014\n",
        "None\n",
        "American Dad - Cee Lo Green's Hot Tub Song: http://t.co/DmfdijBYq2 via @YouTube\n",
        "Wed Nov 12 21:10:41 +0000 2014\n",
        "None\n",
        "http://t.co/ByO9ZohPjn #celebrities nice #flashfriday #nsfw #adult #porn #Brunette hot celebrities sex scenes http://t.co/KIx8cMdWOc"
       ]
      },
      {
       "output_type": "stream",
       "stream": "stdout",
       "text": [
        "\n",
        "Wed Nov 12 21:10:41 +0000 2014\n",
        "None\n",
        "RT @DaminiMelanie: Would it be awks to reply a DM that was sent two years ago &amp; you didn't reply but the guy is super hot now? Asking for m\u2026\n",
        "Wed Nov 12 21:10:41 +0000 2014\n",
        "None\n",
        "I just voted for @TaylorSwift13 in @Vevo's Hot This Year http://t.co/3AnYYEgLnH #VevoHTYFemale\n",
        "Wed Nov 12 21:10:41 +0000 2014\n",
        "None\n",
        "@K12Nest Hey, your content is hot on #theneeds #sport! RT for more votes http://t.co/I9w93Eo4VV"
       ]
      },
      {
       "output_type": "stream",
       "stream": "stdout",
       "text": [
        "\n",
        "Wed Nov 12 21:10:41 +0000 2014\n",
        "None\n",
        "RT @andresm1495: Shakifans este 16 de Nov se va hacer una marat\u00f3n para apoyar a nuestra @shakira en las 5 nominaciones en Los Premios \"Vevo\u2026\n",
        "Wed Nov 12 21:10:41 +0000 2014\n",
        "None\n",
        "@Aaroosa_M hey sunshine \u2600 , do you want to follow me, please? x \u2665\n",
        "Wed Nov 12 21:10:41 +0000 2014\n",
        "None\n",
        "RT @CamisMyBaee_: Ugh cam is so hot\ud83d\ude29\ud83d\ude0d since i saw this i stared to like this song more and more and more https://t.co/Yl648WivmC @cameronda\u2026\n",
        "Wed Nov 12 21:10:41 +0000 2014\n",
        "None\n",
        "#wcw @mukestralia @asdfghjkluke @psychokidcal @infinitylrh @beausrat @fuckleila @GrabLukesAss @HemmoIarry bc ur all hot af and yh embrace it"
       ]
      },
      {
       "output_type": "stream",
       "stream": "stdout",
       "text": [
        "\n",
        "Wed Nov 12 21:10:41 +0000 2014\n",
        "None\n",
        "Morning sunshine.morning my love lol\n",
        "Wed Nov 12 21:10:42 +0000 2014\n",
        "None\n",
        "I'm so upset. I just took a cold shower in already freezing house. \ud83d\ude12\n",
        "Wed Nov 12 21:10:41 +0000 2014\n",
        "None\n",
        "RT @therealstylesp: I get high as the clouds but stay down to earth.."
       ]
      },
      {
       "output_type": "stream",
       "stream": "stdout",
       "text": [
        "\n",
        "Wed Nov 12 21:10:42 +0000 2014\n",
        "None\n",
        "hot sex: Hot blonde gets her holes plugged #porn #followback #teen #itunes  http://t.co/hxJqSdW3Ha\n",
        "Wed Nov 12 21:10:42 +0000 2014\n",
        "None\n",
        "sex vids: Hot blonde fills her ass and pussy with cock  #movie #music #ass #lol #video  http://t.co/Q7P8ZDOuy9\n",
        "Wed Nov 12 21:10:42 +0000 2014\n",
        "None\n",
        "RT @SoDamnTrue: the most annoying struggle girls go through with sun glasses http://t.co/66GWkafi08\n",
        "Wed Nov 12 21:10:42 +0000 2014\n",
        "None\n",
        "RT @YelenaBally: It's brrrrrrrr in #seattle but #realestate is still Hot.\n",
        "Wed Nov 12 21:10:42 +0000 2014\n",
        "None\n",
        "\ud83c\udf3f\ud83c\udf38\ud83c\udf3f\ud83c\udf38\ud83c\udf3f\ud83c\udf38\n",
        "Hi sunshine @ArianaGrande\n",
        "You mean the world to me so you'll make my life if you just follow me.\n",
        "Je t'aime. MERCI. x960\n",
        "\ud83c\udf3f\ud83c\udf38\ud83c\udf3f\ud83c\udf38\ud83c\udf3f\ud83c\udf38"
       ]
      },
      {
       "output_type": "stream",
       "stream": "stdout",
       "text": [
        "\n",
        "Wed Nov 12 21:10:42 +0000 2014\n",
        "None\n",
        "RT @qualteunome: -Qual teu nome? \n",
        "-Wendel \n",
        "-Igual a m\u00fasica do Imagine Dragons?\n",
        "-Qual? \n",
        "-Wendel days are cold And the cards all fold And the\u2026"
       ]
      },
      {
       "output_type": "stream",
       "stream": "stdout",
       "text": [
        "\n",
        "Wed Nov 12 21:10:42 +0000 2014\n",
        "None\n",
        "@yunckkk that's probably cold as shit!!!!\n",
        "Wed Nov 12 21:10:42 +0000 2014\n",
        "None\n",
        "@AllyBrooke \ud83d\udc98\ud83d\udc98\n",
        "PLEASE FOLLOW ME SUNSHINE \u2600\ufe0f\n",
        "I missed your last follow spree :( \n",
        "FOLLOW ME ILY \ud83d\udc98\ud83d\udc9828"
       ]
      },
      {
       "output_type": "stream",
       "stream": "stdout",
       "text": [
        "\n",
        "Wed Nov 12 21:10:42 +0000 2014\n",
        "None\n",
        "Why do we put up with this weather? At some point why didn't someone in our family just move out of here?\n",
        "Wed Nov 12 21:10:42 +0000 2014\n",
        "{u'type': u'Point', u'coordinates': [-93.235562, 44.977186]}\n",
        "\u67d3\u307e\u308b BLUE SKY \u3053\u3053\u3067FLY HIGH \u5dfb\u304d\u4e0a\u304c\u308b BLOWIN' \u601d\u3044\u601d\u3044\u306e\u305d\u306e\u5411\u3053\u3046\u3078 \u541b\u306b\u5c4a\u3051\u308b\u3088 \u52c7\u6c17\u306e\u6b4c \u6ea2\u308c\u51fa\u3057\u305f \u3053\u306e\u7a7a\u306b\u97ff\u304d\u6e21\u308c \u8ab0\u3088\u308a\u3082\u8f1d\u3044\u3066 EVERY TIME \u8d8a\u3048\u3066 \u307f\u305b\u308b\u3010Believe In Myself\u3011\n",
        "Wed Nov 12 21:10:42 +0000 2014\n",
        "None\n",
        "@justinbieber you're so hot\ud83d\ude0f\n",
        "Wed Nov 12 21:10:42 +0000 2014\n",
        "None\n",
        "\u201c@Bigga19_: Should smoke a piece downtown\u201d too cold to be smokin outdoors"
       ]
      },
      {
       "output_type": "stream",
       "stream": "stdout",
       "text": [
        "\n",
        "Wed Nov 12 21:10:42 +0000 2014\n",
        "None\n",
        "RT @JensenAckles: Classic song, classic car and classic dean covered in grease and drinking warm coffee. I love it. #ClassicSupernatural #S\u2026\n",
        "Wed Nov 12 21:10:42 +0000 2014\n",
        "None\n",
        "RT @davijon35: Too appreciate the sun you gotta know what rain is ...\n",
        "Wed Nov 12 21:10:42 +0000 2014\n",
        "None\n",
        "RT @_21jelly: Loving this gloomy weather \u2601\ufe0f\u2615\ufe0f can't wait to be in San Fran this weekend already \ud83c\udf09\ud83c\udf03\n",
        "Wed Nov 12 21:10:42 +0000 2014\n",
        "None\n",
        "RT @AlisaEaston5: Lacy is hot, horny, and bored. She has no idea her new neighbor is watching her. #erotic #kindle Lacy's Neighbor http://t\u2026"
       ]
      },
      {
       "output_type": "stream",
       "stream": "stdout",
       "text": [
        "\n",
        "Wed Nov 12 21:10:42 +0000 2014\n",
        "None\n",
        "New track.\n",
        "http://t.co/xWlyQyrqFd"
       ]
      },
      {
       "output_type": "stream",
       "stream": "stdout",
       "text": [
        "\n",
        "Wed Nov 12 21:10:42 +0000 2014\n",
        "None\n",
        "RT @TheMeninist: Don't tell me I'm hot. Im not a temperature\n",
        "Wed Nov 12 21:10:42 +0000 2014\n",
        "None\n",
        "This bitch trying to buy my house right now is hot as shit I'm living with her if she buys it\n",
        "Wed Nov 12 21:10:42 +0000 2014\n",
        "None\n",
        "I'm weird as hell cause I love this type of weather lol http://t.co/CLD5KVOuuN\n",
        "Wed Nov 12 21:10:42 +0000 2014\n",
        "None\n",
        "Hot lava http://t.co/cFRNZVc5L0 via @9GAG http://t.co/jDPlsWSuQk"
       ]
      },
      {
       "output_type": "stream",
       "stream": "stdout",
       "text": [
        "\n",
        "Wed Nov 12 21:10:42 +0000 2014\n",
        "None\n",
        "RT @katieritchie18: It is freezing af\n",
        "Wed Nov 12 21:10:42 +0000 2014\n",
        "None\n",
        "RT @Antf_1027: This weather got me driving listening to drake \ud83d\ude05\n",
        "Wed Nov 12 21:10:42 +0000 2014\n",
        "None\n",
        "This is the most I've seen of the sun since Friday.  #PeekABoo #WhereHaveYouBeen @ Lake Delevan http://t.co/di956eTFUr"
       ]
      },
      {
       "output_type": "stream",
       "stream": "stdout",
       "text": [
        "\n",
        "Wed Nov 12 21:10:42 +0000 2014\n",
        "{u'type': u'Point', u'coordinates': [-88.592346, 42.607657]}\n",
        "RT @texasmusicfest: Check out our new #LJT2015 fest trailer....should keep u warm &amp; cozy \u263a\ufe0f\n",
        "\n",
        "http://t.co/rJ0JMnmdKv\n",
        "Wed Nov 12 21:10:42 +0000 2014\n",
        "None\n",
        "RT @yoshiiiiii_: rt si ton sunshine te follow pas :(\n",
        "Wed Nov 12 21:10:42 +0000 2014\n",
        "None\n",
        "RT @Styles94Grier97: #favmattpic\n",
        "@TheMattEspinosa \n",
        "Please follow me ily. \n",
        "My sunshine on a rainy day.\n",
        "x11 http://t.co/qZVB2JPHzm"
       ]
      },
      {
       "output_type": "stream",
       "stream": "stdout",
       "text": [
        "\n",
        "Wed Nov 12 21:10:42 +0000 2014\n",
        "None\n",
        "RT @xo_lexivick: Almost as cold as my heart out here\n",
        "Wed Nov 12 21:10:42 +0000 2014\n",
        "None\n",
        "RT @LeeNicole_xoxo: I think we skipped fall \ud83c\udf43\ud83c\udf42\ud83c\udf41 weather went from \ud83d\udd25 to \u2744\ufe0f real quick\n",
        "Wed Nov 12 21:10:42 +0000 2014\n",
        "None\n",
        "Spilled hot tea between my tits after previous tweet, it's the wrath of Dickens"
       ]
      },
      {
       "output_type": "stream",
       "stream": "stdout",
       "text": [
        "\n",
        "Wed Nov 12 21:10:42 +0000 2014\n",
        "None\n",
        "It's finally getting cold! #blazersandboots #coffee #work #sandiego #downtown http://t.co/JJZ0Ge8jZr\n",
        "Wed Nov 12 21:10:42 +0000 2014\n",
        "None\n",
        "@desiraemariev no ots hot chocolate"
       ]
      },
      {
       "output_type": "stream",
       "stream": "stdout",
       "text": [
        "\n",
        "Wed Nov 12 21:10:42 +0000 2014\n",
        "None\n",
        "RT @lol929: Goldfinch feeding junior in the rain #Birds #Nature #Kildare http://t.co/9hYE84PFOB"
       ]
      },
      {
       "output_type": "stream",
       "stream": "stdout",
       "text": [
        "\n",
        "Wed Nov 12 21:10:43 +0000 2014\n",
        "None\n",
        "@thebrianposehn \n",
        "http://t.co/Qf5L8S7oQg\n",
        "A vision of the future painted in cold tuna. http://t.co/7ASJyOZNJo"
       ]
      },
      {
       "output_type": "stream",
       "stream": "stdout",
       "text": [
        "\n",
        "Wed Nov 12 21:10:43 +0000 2014\n",
        "None\n",
        ". Kanka Atv\\\\\\\\\\\\\\\\\\\\\\\\\\\\\\\\\\\\\\\\\\\\\\\\\\\\\\\\\\\\\\'yi a\u00e7. M\u00fcge Anl\u0131\\\\\\\\\\\\\\\\\\\\\\\\\\\\\\\\\\\\\\\\\\\\\\\\\\\\\\\\\\\\\\'ya konu olmu\u015fsun. CIA da ara\u015ft\u0131rma yap\u0131yormu\u015f."
       ]
      },
      {
       "output_type": "stream",
       "stream": "stdout",
       "text": [
        "\n",
        "Wed Nov 12 21:10:43 +0000 2014\n",
        "None\n",
        "@_WayneIntheKut U trippin the hood stay hot fuck U mean lol"
       ]
      },
      {
       "output_type": "stream",
       "stream": "stdout",
       "text": [
        "\n",
        "Wed Nov 12 21:10:43 +0000 2014\n",
        "None\n",
        "RT @ThisTrainIsLost: P.Gabriel-Red Rain: http://t.co/RpOXeVLdl9 @Rush_TeeJay @Strat_jam @adilando @Koanric @tlsweatt307 @pjl1015 @david2lo \u2026\n",
        "Wed Nov 12 21:10:43 +0000 2014\n",
        "None\n",
        "RT @leaveit2gee: You know its cold when there's 0% blacks on the Wood allday\ud83d\ude02\ud83d\ude02\n",
        "Wed Nov 12 21:10:43 +0000 2014\n",
        "None\n",
        "@AllyBrooke LOL ALLY YOU BECAME A HOT CHOCOLATE MOMMA\n",
        "Wed Nov 12 21:10:43 +0000 2014\n",
        "None\n",
        "Hii @Nashgrier !\n",
        "Sunshine follow me please\ud83d\udc98\ud83d\udc98\n",
        "I luv u\u2764\ufe0f\n",
        "4 http://t.co/GdEjJn5qs9"
       ]
      },
      {
       "output_type": "stream",
       "stream": "stdout",
       "text": [
        "\n",
        "Wed Nov 12 21:10:43 +0000 2014\n",
        "None\n",
        "Bu aralar s\u00f6ylemeyi sevdi\u011fim tek bir \u015fark\u0131 var oda G\u00f6khan T\u00fcrkmen'den 'Sen \u0130stanbul'sun'.\n",
        "Wed Nov 12 21:10:43 +0000 2014\n",
        "None\n",
        "im pretty sure my brother is locked outside in the cold   oh well"
       ]
      },
      {
       "output_type": "stream",
       "stream": "stdout",
       "text": [
        "\n",
        "Wed Nov 12 21:10:43 +0000 2014\n",
        "None\n",
        "Helly harma - music of the sun , le son sur http://t.co/g5NAn3mC7k #ravineshowevent @ravineshow"
       ]
      },
      {
       "output_type": "stream",
       "stream": "stdout",
       "text": [
        "\n",
        "Wed Nov 12 21:10:43 +0000 2014\n",
        "None\n",
        "It's getting so cold here already. I look forward to slowly freezing to death over the next few months.\n",
        "Wed Nov 12 21:10:43 +0000 2014\n",
        "None\n",
        "RT @fuckxreynolds: It's so fucking cold\n",
        "Wed Nov 12 21:10:43 +0000 2014\n",
        "None\n",
        "RT @tawhnz: Be like the snow, beautiful but cold\n",
        "Wed Nov 12 21:10:43 +0000 2014\n",
        "None\n",
        "@zaynmalik \u2741no matter where,no matter when I'll be there for you till the end.follow me my sunshine it would mean the world to me\u2741x41.689\n",
        "Wed Nov 12 21:10:43 +0000 2014\n",
        "None\n",
        "RT @DiceRigby: Miren estas mujeres en pantalones de yoga. Creo que no hay nada m\u00e1s hot que esto. \u2193\n",
        "\n",
        "http://t.co/ogO0Hfs5A6 http://t.co/Nyo8\u2026"
       ]
      },
      {
       "output_type": "stream",
       "stream": "stdout",
       "text": [
        "\n",
        "Wed Nov 12 21:10:43 +0000 2014\n",
        "None\n",
        "@Real_Liam_Payne \ud83d\udc95\ud83d\udc95\n",
        "I don't exist if I don't have you, the sun doesn't shine, the world doesn't turn. Lots of love from Italy.\ud83d\udc98 \n",
        "\ud83d\udc9d\ud83d\udc9df"
       ]
      },
      {
       "output_type": "stream",
       "stream": "stdout",
       "text": [
        "\n",
        "Wed Nov 12 21:10:43 +0000 2014\n",
        "None\n",
        "#bbw this #FuckFriday #nsfw #adult #porn #Hot bbw tgp video http://t.co/nJcLJfTVTI"
       ]
      },
      {
       "output_type": "stream",
       "stream": "stdout",
       "text": [
        "\n",
        "Wed Nov 12 21:10:43 +0000 2014\n",
        "None\n",
        "Shit,  wtf we zijn hot? aah.\ud83c\udfb6\n",
        "Wed Nov 12 21:10:43 +0000 2014\n",
        "None\n",
        "RT @wavvy_cee: this weather makes me just wanna cuddle in bed w/ someone, order pizza, watch movies and shmoke all day.\n",
        "Wed Nov 12 21:10:43 +0000 2014\n",
        "None\n",
        "My Sister's Grave: My Sister's Grave Robert Dugoni (Author) (1751) Download: $4.99 (Visit the Hot New Releases in\u2026 http://t.co/1woSbhNRbi"
       ]
      },
      {
       "output_type": "stream",
       "stream": "stdout",
       "text": [
        "\n",
        "Wed Nov 12 21:10:43 +0000 2014\n",
        "None\n",
        "Hii sunshine\ud83d\udc96\n",
        "How are you?\n",
        "Your voice make me strong.\n",
        "Thank you for make me smile, I love you.\n",
        "Can you follow me? @Real_Liam_Payne x544\n",
        "Wed Nov 12 21:10:43 +0000 2014\n",
        "None\n",
        "loving this cold weather\n",
        "Wed Nov 12 21:10:43 +0000 2014\n",
        "None\n",
        "RT @caamgrier: Nash in a beanie is hot af http://t.co/5f53EWnSMU\n",
        "Wed Nov 12 21:10:43 +0000 2014\n",
        "None\n",
        "Hot Deals : http://t.co/nwumuRuGhE #76101 Adaptec RAID 6805E 2270900-R 8-Port PCI-E Controller w/Cables #PC #De... http://t.co/FwhCJMkzhv"
       ]
      },
      {
       "output_type": "stream",
       "stream": "stdout",
       "text": [
        "\n",
        "Wed Nov 12 21:10:43 +0000 2014\n",
        "None\n",
        "-Would you like to be the sun in my life? \n",
        "-Aww yes! \n",
        "-Then stay 92 million miles away from me.\ud83d\ude24\n",
        "Wed Nov 12 21:10:43 +0000 2014\n",
        "None\n",
        "RT @k3riiii: i love love love d holidays, because like d weather \ud83d\ude0d food \ud83d\ude0d family \ud83d\ude0d clothes \ud83d\ude0d everything \ud83d\ude29"
       ]
      },
      {
       "output_type": "stream",
       "stream": "stdout",
       "text": [
        "\n",
        "Wed Nov 12 21:10:43 +0000 2014\n",
        "None\n",
        "@Real_Liam_Payne hello sunshine. Hope you're fine. Can you please follow me? It will take you 5 seconds. Ilysfm. Always smile :) x10,948\n",
        "Wed Nov 12 21:10:43 +0000 2014\n",
        "None\n",
        "RT @Theezy: @channelari is complaining about the cold and weather, meanwhile Michigan is all like http://t.co/OnSLpr1Zy4"
       ]
      },
      {
       "output_type": "stream",
       "stream": "stdout",
       "text": [
        "\n",
        "Wed Nov 12 21:10:44 +0000 2014\n",
        "None\n",
        "@Nashgrier Hello sunshine would you please make me the happiest girl on planet with your follow? i love you so much nash xx179\n",
        "Wed Nov 12 21:10:44 +0000 2014\n",
        "None\n",
        "Hi @Harry_Styles you are the sun shine of my life, I think I'm addicted to your light. Please can you follow me ? You will make my life \ud83d\udc9e233\n",
        "Wed Nov 12 21:10:44 +0000 2014\n",
        "None\n",
        "LIAM\n",
        "YOU ARE MY:\n",
        "SUNSHINE \ud83c\udf1e\n",
        "LOVE \ud83d\udc95\n",
        "WORLD \ud83c\udf0e\n",
        "EVERYTHING \ud83d\ude48\n",
        "PLEASE FOLLOW ME \ud83d\ude0a\n",
        "#MurrayFTW\n",
        "@Real_Liam_Payne x534\n",
        "Wed Nov 12 21:10:44 +0000 2014\n",
        "None\n",
        "RT @Britney_Karaoke: I can hear you knocking on the front door and I know exactly what you came for... trying to say goodbye but it's hot a\u2026\n",
        "Wed Nov 12 21:10:44 +0000 2014\n",
        "None\n",
        "Light berry lip to go with the chilly weather! \ud83c\udf41\n",
        "\n",
        "#makeup #beauty #ulta #fall http://t.co/LY1wTkwSrV"
       ]
      },
      {
       "output_type": "stream",
       "stream": "stdout",
       "text": [
        "\n",
        "Wed Nov 12 21:10:44 +0000 2014\n",
        "None\n",
        "http://t.co/3F94jnk26D #celebrities as #TiedUpThursday #nsfw #adult #porn #Brunette hot celebrities sex scenes http://t.co/h7ZFwIB1zP\n",
        "Wed Nov 12 21:10:44 +0000 2014\n",
        "None\n",
        "RT @LukesAwkwardBae: Luke Hemmings from 5sos is my sunshine \ud83d\udc95\n",
        "\ud83d\udc27\n",
        "\ud83d\udc95\n",
        "\ud83d\udc27\n",
        "\ud83d\udc95\n",
        "\ud83d\udc27\n",
        "\ud83d\udc95\n",
        "\ud83d\udc27\n",
        "\ud83d\udc95\n",
        "\ud83d\udc27\n",
        "\ud83d\udc95\n",
        "If this tweet gets 100+ rt's will you please follow me? \n",
        "\u2026"
       ]
      },
      {
       "output_type": "stream",
       "stream": "stdout",
       "text": [
        "\n",
        "Wed Nov 12 21:10:44 +0000 2014\n",
        "None\n",
        "Carrie Is A Hot MILF http://t.co/YiVR6Vknwc\n",
        "Wed Nov 12 21:10:44 +0000 2014\n",
        "None\n",
        "@TheMattEspinosa #favmattpic i love this one,you are my sunshine,my inspiration.Please follow me,i love you https://t.co/qgxLA7RUMU x11\n",
        "Wed Nov 12 21:10:44 +0000 2014\n",
        "None\n",
        "Sunggyu why are you so cute and handsome and hot at the same time? I feel so atck whenever i see your pics"
       ]
      },
      {
       "output_type": "stream",
       "stream": "stdout",
       "text": [
        "\n",
        "Wed Nov 12 21:10:44 +0000 2014\n",
        "None\n",
        "hi sunshine @Louis_Tomlinson \ud83d\udc9e\n",
        "\n",
        "you mean the world to me, thank you for everything, i love you so much, can you follow me pls? \ud83c\udf1d\n",
        "\n",
        "X1,944\n",
        "Wed Nov 12 21:10:44 +0000 2014\n",
        "None\n",
        "This time I'm ready to run escape from the city and follow the sun\u2600"
       ]
      },
      {
       "output_type": "stream",
       "stream": "stdout",
       "text": [
        "\n",
        "Wed Nov 12 21:10:44 +0000 2014\n",
        "None\n",
        "RT @LukeAdams95: a cold room is everything when it comes to sleep"
       ]
      },
      {
       "output_type": "stream",
       "stream": "stdout",
       "text": [
        "\n",
        "Wed Nov 12 21:10:44 +0000 2014\n",
        "None\n",
        "RT @femaIenotes: \"If i stay in bed i\u2019ll be warm\n",
        "\n",
        "if i get in the shower i\u2019ll also be warm\n",
        "\n",
        "but the distance between the bed and the shower\n",
        "\u2026\n",
        "Wed Nov 12 21:10:44 +0000 2014\n",
        "None\n",
        "RT @maddmattbarnes: Castle In The Sky\n",
        "http://t.co/tRglTwXXrT\n",
        "Shout out @CrookedIntriago @RealSway @OneShotShow @MSmithProducer @WakeUpShow \u2026\n",
        "Wed Nov 12 21:10:44 +0000 2014\n",
        "None\n",
        "RT @NiallOfficial: @ralpharry it's on sky arts now\n",
        "Wed Nov 12 21:10:44 +0000 2014\n",
        "None\n",
        "RT @LukeAdams95: a cold room is everything when it comes to sleep"
       ]
      },
      {
       "output_type": "stream",
       "stream": "stdout",
       "text": [
        "\n",
        "Wed Nov 12 21:10:44 +0000 2014\n",
        "None\n",
        "can it not rain tomorrow\n",
        "Wed Nov 12 21:10:44 +0000 2014\n",
        "None\n",
        "Hot fun with sexy Elena Rivera, Shannon Kelly #xxx #girls #naked #selfie #female http://t.co/gqgAboqQLO\n",
        "Wed Nov 12 21:10:44 +0000 2014\n",
        "None\n",
        "RT @LovLikeJesus: A man can no more diminish God's glory by refusing 2 worship him than a lunatic can put out the sun by scribbling the wor\u2026\n",
        "Wed Nov 12 21:10:44 +0000 2014\n",
        "None\n",
        "#porn,#sex,#hot,#romance,#desi,#teen, | #Milfs | Submitted milf showing her tits (MIlfs an http://t.co/2OcCnGrHEL\n",
        "Wed Nov 12 21:10:44 +0000 2014\n",
        "None\n",
        "@Real_Liam_Payne \n",
        "\n",
        "HI SUNSHINE \ud83d\udc9c\n",
        "\n",
        "HOW ARE YOU?\n",
        "\n",
        " CAN YOU FOLLOW ME PLS? \ud83d\udc9c\n",
        "\n",
        "I LOVE YOU SO MUCH\ud83d\udc9c\n",
        "\n",
        "\ud83c\udf40\ud83d\ude4f\ud83c\udf40\ud83d\ude4f\ud83c\udf40\ud83d\ude4f\ud83c\udf40\ud83d\ude4f\ud83c\udf40\ud83d\ude4f\ud83c\udf40\ud83d\ude4f\ud83c\udf40\n",
        "\n",
        "x300"
       ]
      },
      {
       "output_type": "stream",
       "stream": "stdout",
       "text": [
        "\n",
        "Wed Nov 12 21:10:44 +0000 2014\n",
        "None\n",
        "@jayladeandra \ud83d\ude34 whatever I'm cold\n",
        "Wed Nov 12 21:10:44 +0000 2014\n",
        "None\n",
        "\u2741Hey Niall\u2741\n",
        "You're my sunshine\u2600 and my whole\ud83c\udf0d\ud83d\udc93\n",
        "Please take a few secs to follow me\ud83c\udf40\u2728 it would mean a lot\u2661\n",
        "\n",
        "Ilysm\ud83d\udc98 @NiallOfficial\n",
        "269\n",
        "Wed Nov 12 21:10:44 +0000 2014\n",
        "None\n",
        "RT @PoLaroiiDxx: So hot. #gay #bara  #yaoi #gayhot #gaysex #gaycum http://t.co/ceWzX5EpSo\n",
        "Wed Nov 12 21:10:44 +0000 2014\n",
        "None\n",
        "RT @Citibank: What happens when you combine a hot air balloon &amp; a rope swing? @Devinsupertramp found out in this #incredouble vid!\n",
        "https://\u2026\n",
        "Wed Nov 12 21:10:44 +0000 2014\n",
        "None\n",
        "Video: Two #eggs #hot #spring #water #lunch http://t.co/t3baOWKdsj"
       ]
      },
      {
       "output_type": "stream",
       "stream": "stdout",
       "text": [
        "\n",
        "Wed Nov 12 21:10:44 +0000 2014\n",
        "None\n",
        "@Bij0uA ITS COLD AF\n",
        "Wed Nov 12 21:10:44 +0000 2014\n",
        "None\n",
        "\u263e\u263c \u263d \u263c \u263e\u263c\u263d \n",
        "\n",
        "Calum hood from 5sos\n",
        "You are my sunshine\u2600\ufe0f\n",
        "Please follow me\ud83d\ude4f\ud83d\udc95\n",
        "And be my 2/4?! \u25e1\u0308\n",
        "@Calum5SOS \n",
        "x15,653\n",
        "\n",
        "\u263e\u263c \u263d \u263c \u263e\u263c\u263d\n",
        "Wed Nov 12 21:10:44 +0000 2014\n",
        "None\n",
        "\ud83d\udc95\ud83c\udf38\ud83d\udc95\ud83c\udf38\ud83d\udc95\n",
        "Luke Hemmings from 5SOS\n",
        "please follow me sunshine\n",
        "it would mean the absolute \ud83c\udf0d\n",
        "i love you more than anything\n",
        "@Luke5SOS \n",
        "\ud83d\udc95\ud83c\udf38\ud83d\udc95\ud83c\udf38\ud83d\udc95\n",
        "20,359"
       ]
      },
      {
       "output_type": "stream",
       "stream": "stdout",
       "text": [
        "\n",
        "Wed Nov 12 21:10:44 +0000 2014\n",
        "None\n",
        "@docrocktex26 @DaleMoss2 when a good cold wind cuts off your breath, it changes you. Braces your vocabulary. Snow down your collar it's on!\n",
        "Wed Nov 12 21:10:44 +0000 2014\n",
        "None\n",
        "Hey my sunshine!!! \n",
        "\ud83d\ude48Not be sad please\ud83d\ude48 \n",
        "~~be happy for me~~\n",
        "you mean everything to me!\n",
        "please follow me\u2753\n",
        "ILYSM @zaynmalik 9.243\n",
        "Wed Nov 12 21:10:44 +0000 2014\n",
        "None\n",
        "When i hear hot nigga i automatically Start singing SBG version\ud83d\ude05\n",
        "Wed Nov 12 21:10:44 +0000 2014\n",
        "None\n",
        "RT @ArianaGrande: #LoveMeHarder entered the top 10 on @billboard hot 100 this week!! thank u so much luvs!!!!! https://t.co/NIYYO8CY4t http\u2026"
       ]
      },
      {
       "output_type": "stream",
       "stream": "stdout",
       "text": [
        "\n",
        "Wed Nov 12 21:10:44 +0000 2014\n",
        "None\n",
        "@brunaaafbs DONT U WISH UR GIRLFRIEND WAS HOT LIKE ME\n",
        "Wed Nov 12 21:10:44 +0000 2014\n",
        "None\n",
        "RT @Savan_Kotecha: \"Love me harder\" in the top 10 on the hot 100!!! Thank you everyone who's requested and bought the song! @ArianaGrande @\u2026"
       ]
      },
      {
       "output_type": "stream",
       "stream": "stdout",
       "text": [
        "\n",
        "Wed Nov 12 21:10:44 +0000 2014\n",
        "None\n",
        "RT @MeninistTweet: Tell me I'm beautiful, not hot. I'm not a temperature.\n",
        "Wed Nov 12 21:10:44 +0000 2014\n",
        "None\n",
        "free xnxx: Lesbians take pleasure in hot dildo free sex #pics #news #pussy #youtube http://t.co/uYoAP7tf7s"
       ]
      },
      {
       "output_type": "stream",
       "stream": "stdout",
       "text": [
        "\n",
        "Wed Nov 12 21:10:44 +0000 2014\n",
        "None\n",
        "RT @_breezzz: \ud83c\udd98\ud83d\udd25IRENE HAS V HOT NEIGHBORS\ud83d\udd25\ud83c\udd98\n",
        "Wed Nov 12 21:10:44 +0000 2014\n",
        "None\n",
        "Ready for tomorrow, just not ready for the weather!\n",
        "Wed Nov 12 21:10:44 +0000 2014\n",
        "None\n",
        "#ELMONT #NY BASED... Vitelina Doll is now a member of Black Folk Hot Spots Online #BlackBusiness Com http://t.co/7rMDMrGdFx\n",
        "Wed Nov 12 21:10:45 +0000 2014\n",
        "None\n",
        "RT @ArianaGrande: #LoveMeHarder entered the top 10 on @billboard hot 100 this week!! thank u so much luvs!!!!! https://t.co/NIYYO8CY4t http\u2026\n",
        "Wed Nov 12 21:10:45 +0000 2014\n",
        "None\n",
        "RT @ArianaGrande: #LoveMeHarder entered the top 10 on @billboard hot 100 this week!! thank u so much luvs!!!!! https://t.co/NIYYO8CY4t http\u2026"
       ]
      },
      {
       "output_type": "stream",
       "stream": "stdout",
       "text": [
        "\n",
        "Wed Nov 12 21:10:45 +0000 2014\n",
        "None\n",
        "RT @smilebcniall_: @NiallOfficial \n",
        "Hi Sunshine !\ud83d\udc95\n",
        "How are you ?\n",
        "I'm so proud of you \ud83d\udc96\n",
        "Can you follow me please ?\ud83d\udc95\n",
        "I love you more than ever\u2026\n",
        "Wed Nov 12 21:10:45 +0000 2014\n",
        "None\n",
        "Ahem. @xoshannontyler RT \u201c@ZacIheanacho: the ones who put the milk in with the teabag before the hot water, those are the real criminals\u201d"
       ]
      },
      {
       "output_type": "stream",
       "stream": "stdout",
       "text": [
        "\n",
        "Wed Nov 12 21:10:45 +0000 2014\n",
        "None\n",
        "RT @CMAFestVIP: Last day for SIGNED \"Bringing Back The Sunshine\" CD from @blakeshelton! Contest ends at 9pm CT tonight! --&gt; https://t.co/NM\u2026\n",
        "Wed Nov 12 21:10:45 +0000 2014\n",
        "None\n",
        "#Milf,#Mature,#Fingering,#Bigtits,#wank: Hot Blooded Brunette Strumpet Gets Her Shaved Kitty Fucked In... http://t.co/cs7hoXjMPQ\n",
        "Wed Nov 12 21:10:45 +0000 2014\n",
        "None\n",
        "I almost put my hot pocket in the refrigerator instead of the microwave \ud83d\udca9"
       ]
      },
      {
       "output_type": "stream",
       "stream": "stdout",
       "text": [
        "\n",
        "Wed Nov 12 21:10:45 +0000 2014\n",
        "None\n",
        "RT @teensready2fuck: #Beautiful #Hot #Naked #NSFW #Nude #Porn #Pussy #Sexy #Teen #XXX http://t.co/zZn3IIg9d9 http://t.co/7cXw1r6Ffz\n",
        "Wed Nov 12 21:10:45 +0000 2014\n",
        "None\n",
        "RT @SORRYNOTSOORRY: WEDNESDAY IS THE BEST DAY OF THE WEEK BC ITS AHS DAY AND WHAT ELSE COULD YOU NEED ON A COLD FALL DAY THE ANSWER IS NOTH\u2026"
       ]
      },
      {
       "output_type": "stream",
       "stream": "stdout",
       "text": [
        "\n",
        "Wed Nov 12 21:10:45 +0000 2014\n",
        "None\n",
        "@Michael5SOS\n",
        "\n",
        "\u2605\u266cMichael Clifford from 5sos\u266c\u2605\n",
        "\n",
        " \u2661I love you, sunshine\u2661\n",
        "\n",
        "\u263eit would mean so much to me\u263d\n",
        "\n",
        "\u2716To get your follow. Please?\u2716\n",
        "\n",
        "\u266c19.246\n",
        "Wed Nov 12 21:10:45 +0000 2014\n",
        "None\n",
        "RT @taylorscrew: @ArianaGrande this week becomes the 1st act to collect 4 Hot 100 top 10 singles in 2014\n",
        "Wed Nov 12 21:10:45 +0000 2014\n",
        "None\n",
        "Hot Deals : http://t.co/rqzOQrmbkz #76101 bare Adaptec RAID 5805 2244300-R SATA/SAS 8 internal 512MB Controller... http://t.co/g0Kcujthst"
       ]
      },
      {
       "output_type": "stream",
       "stream": "stdout",
       "text": [
        "\n",
        "Wed Nov 12 21:10:45 +0000 2014\n",
        "None\n",
        "RT @LukeAdams95: a cold room is everything when it comes to sleep\n",
        "Wed Nov 12 21:10:45 +0000 2014\n",
        "None\n",
        "It's fucking cold out wtf its Texas..\n",
        "Wed Nov 12 21:10:45 +0000 2014\n",
        "None\n",
        "RT @ViewHipHopPosts: Hot New Music: Rick Ross ft Jay Z - Movin Bass | http://t.co/nJ2xjzpWES\n",
        "Wed Nov 12 21:10:45 +0000 2014\n",
        "None\n",
        "RT @ScienceAllDay: What to do when your soup is too hot. http://t.co/fvRBouZklc\n",
        "Wed Nov 12 21:10:45 +0000 2014\n",
        "None\n",
        "Win a Sequoia Women's Midweight 1/4 Zip shirt! @Minus33 @shopwithmemama #giftguide http://t.co/4Og0vz6ryg"
       ]
      },
      {
       "output_type": "stream",
       "stream": "stdout",
       "text": [
        "\n",
        "Wed Nov 12 21:10:45 +0000 2014\n",
        "None\n",
        "Why would you take a selfie in the rain?\n",
        "Wed Nov 12 21:10:45 +0000 2014\n",
        "None\n",
        "it was so cold outside. http://t.co/tufBwFKNB4"
       ]
      },
      {
       "output_type": "stream",
       "stream": "stdout",
       "text": [
        "\n",
        "Wed Nov 12 21:10:45 +0000 2014\n",
        "None\n",
        "Summer can you come back ?\ud83d\ude02 I rather be hot than freezing in the cold\n",
        "Wed Nov 12 21:10:45 +0000 2014\n",
        "None\n",
        "cold http://t.co/9k5pjhjjkJ\n",
        "Wed Nov 12 21:10:45 +0000 2014\n",
        "None\n",
        "THE BUS IS COLD AS SHIT. I'm home now though so hey http://t.co/7hSY5ITvG9\n",
        "Wed Nov 12 21:10:45 +0000 2014\n",
        "None\n",
        "Cold weather do a nigga no justice!\ud83d\ude12\n",
        "Wed Nov 12 21:10:45 +0000 2014\n",
        "None\n",
        "RT @Whatsappnudes: http://t.co/h809zd64MS Add This Hot Chick on Snapchat RankMyShot #Story #Anal http://t.co/SzqpEfMdlk\n",
        "Wed Nov 12 21:10:45 +0000 2014\n",
        "None\n",
        "RT @ArianaGrande: #LoveMeHarder entered the top 10 on @billboard hot 100 this week!! thank u so much luvs!!!!! https://t.co/NIYYO8CY4t http\u2026\n",
        "Wed Nov 12 21:10:45 +0000 2014\n",
        "None\n",
        "Halle Berry as Storm \ud83d\ude0d\ud83d\ude0d\ud83d\ude0d"
       ]
      },
      {
       "output_type": "stream",
       "stream": "stdout",
       "text": [
        "\n",
        "Wed Nov 12 21:10:45 +0000 2014\n",
        "None\n",
        "It's too cold to be pumping gas"
       ]
      },
      {
       "output_type": "stream",
       "stream": "stdout",
       "text": [
        "\n",
        "Wed Nov 12 21:10:45 +0000 2014\n",
        "None\n",
        "When I say I don't go outside in the cold I mean it."
       ]
      },
      {
       "output_type": "stream",
       "stream": "stdout",
       "text": [
        "\n",
        "Wed Nov 12 21:10:45 +0000 2014\n",
        "None\n",
        "Chelsea Handler challenges Instagram to take down her butt selfie... Hot on #theneeds #Entertainment http://t.co/x9Yyo3Xfdb\n",
        "Wed Nov 12 21:10:45 +0000 2014\n",
        "None\n",
        "sex vids: Hot blonde gets her holes plugged #movie #music #ass #lol #video  http://t.co/uAixzMGqvN\n",
        "Wed Nov 12 21:10:45 +0000 2014\n",
        "None\n",
        "OKC Thunder, #AtlantaHawks working on sign-and-trade for Thabo Sefolosha - http://t.co/mfiqPXgT0R http://t.co/ElQbZhdCso\n",
        "Wed Nov 12 21:10:45 +0000 2014\n",
        "None\n",
        "The arctic blast is coming and I'm not ready for 20 degree weather"
       ]
      },
      {
       "output_type": "stream",
       "stream": "stdout",
       "text": [
        "\n",
        "Wed Nov 12 21:10:45 +0000 2014\n",
        "None\n",
        "RT @1DwwaupdatesWW: even the way he sticks up the middle finger is hot\ud83d\ude29 -T http://t.co/ZTAdDMejWU\n",
        "Wed Nov 12 21:10:45 +0000 2014\n",
        "None\n",
        "@TheMattEspinosa #favmattpic i love this one,you are my sunshine,my inspiration.Please follow me,i love you https://t.co/qgxLA7RUMU x12\n",
        "Wed Nov 12 21:10:45 +0000 2014\n",
        "None\n",
        "RT @s_navroop: COLD WAR 2.0 Begins \u201c@BloombergNews: Russia to extend long-range bomber patrols to Gulf of Mexico and east Pacific: http://t\u2026\n",
        "Wed Nov 12 21:10:45 +0000 2014\n",
        "None\n",
        "RT @ArianaGrande: #LoveMeHarder entered the top 10 on @billboard hot 100 this week!! thank u so much luvs!!!!! https://t.co/NIYYO8CY4t http\u2026\n",
        "Wed Nov 12 21:10:45 +0000 2014\n",
        "None\n",
        "RT @ArianaGrande: \ud83d\ude38\ud83d\ude38\ud83d\ude38\u201c@Savan_Kotecha: \"LMH\" in the top 10 on the hot 100! Thank you everyone who's requested &amp; bought the song! @ArianaGran\u2026\n",
        "Wed Nov 12 21:10:45 +0000 2014\n",
        "None\n",
        "Out enjoying the last warm fall day we'll have in a while... #coldfront #winteriscoming http://t.co/6MaIy0dLYS"
       ]
      },
      {
       "output_type": "stream",
       "stream": "stdout",
       "text": [
        "\n",
        "Wed Nov 12 21:10:45 +0000 2014\n",
        "None\n",
        "@firebllchivette I'm jealous!   Looks warm there\n",
        "Wed Nov 12 21:10:46 +0000 2014\n",
        "None\n",
        "\u201cPlease let me sleep in your arms tonight. I am cold.\u201d  @NiklasFink1"
       ]
      },
      {
       "output_type": "stream",
       "stream": "stdout",
       "text": [
        "\n",
        "Wed Nov 12 21:10:46 +0000 2014\n",
        "None\n",
        "RT @chartnews: .@ArianaGrande this week becomes the 1st act to collect 4 Hot 100 top 10 singles in 2014, w/ Problem, Break Free, Love Me Ha\u2026\n",
        "Wed Nov 12 21:10:46 +0000 2014\n",
        "None\n",
        "RT @BosmanCarel: I went cycling in the rain for one reason...the day before the accident he said to me \"we're not made from sugar\" http://t\u2026"
       ]
      },
      {
       "output_type": "stream",
       "stream": "stdout",
       "text": [
        "\n",
        "Wed Nov 12 21:10:46 +0000 2014\n",
        "None\n",
        "\ud83c\udf34\n",
        "\n",
        "@Nashgrier \n",
        "\n",
        "follow me please sunshine\n",
        "\n",
        "\ud83c\udf34x33 http://t.co/GgDTU3224u\n",
        "Wed Nov 12 21:10:46 +0000 2014\n",
        "None\n",
        "@Real_Liam_Payne \n",
        "Hi sunshine\n",
        "Ilysm\n",
        "Can you please follow me and make me the happiest girl in the world?\n",
        "Thank you      x2825"
       ]
      },
      {
       "output_type": "stream",
       "stream": "stdout",
       "text": [
        "\n",
        "Wed Nov 12 21:10:46 +0000 2014\n",
        "None\n",
        "RT @ArianaGrande: #LoveMeHarder entered the top 10 on @billboard hot 100 this week!! thank u so much luvs!!!!! https://t.co/NIYYO8CY4t http\u2026\n",
        "Wed Nov 12 21:10:46 +0000 2014\n",
        "None\n",
        "Evidence of the #cyclingrevolution is clear - demand for cycle parking in Belfast is rising fast.. http://t.co/4UtM5ZU9er"
       ]
      },
      {
       "output_type": "stream",
       "stream": "stdout",
       "text": [
        "\n",
        "Wed Nov 12 21:10:46 +0000 2014\n",
        "None\n",
        "I want a hot chocolate from McDonald's. \ud83d\ude0b\n",
        "Wed Nov 12 21:10:46 +0000 2014\n",
        "None\n",
        "RT @jan3223: The cold front hit me like http://t.co/6nAFPTvf6a"
       ]
      },
      {
       "output_type": "stream",
       "stream": "stdout",
       "text": [
        "\n",
        "Wed Nov 12 21:10:46 +0000 2014\n",
        "None\n",
        "6\u6642HOT: \u3086\u3063\u304f\u308a\u5b9f\u6cc1\u30d7\u30ec\u30a4 (5) \u30b2\u30fc\u30e0 (43) \u6b4c\u3063\u3066\u307f\u305f (4) \u51fa\u843d\u3061 (2) Minecraft (2) biim\u5144\u8cb4\u30ea\u30b9\u30da\u30af\u30c8 (2) \u7121\u6148\u60b2 (2) \u5b9f\u6cc1\u30d7\u30ec\u30a4Part1\u30ea\u30f3\u30af (3) \u30a2\u30cb\u30e1 (28) VOCALOID (4) MH4G (3) \u30ec\u30c8\u30eb\u30c8\u2026\n",
        "Wed Nov 12 21:10:46 +0000 2014\n",
        "None\n",
        "Hot Deals : http://t.co/wuFTEdEcvS #76101 Dell 3NDP LSI MegaRAID 9260-8i LP SATA/SAS 6Gb/s (No BBU) 512MB RAID ... http://t.co/rzP0tQ0eIp"
       ]
      },
      {
       "output_type": "stream",
       "stream": "stdout",
       "text": [
        "\n",
        "Wed Nov 12 21:10:46 +0000 2014\n",
        "None\n",
        "RT @ibaileym: nose piercings are so hot wowowow \ud83d\ude0d\n",
        "Wed Nov 12 21:10:46 +0000 2014\n",
        "None\n",
        "RT @blackgirlsrun Learn how 25 y/o Southside CHI guy takes your office by storm w @moonmeals in @blackenterprise http://t.co/p4MrDSPQMt\n",
        "Wed Nov 12 21:10:46 +0000 2014\n",
        "None\n",
        "it's raining and im not suffering at school god bless"
       ]
      },
      {
       "output_type": "stream",
       "stream": "stdout",
       "text": [
        "\n",
        "Wed Nov 12 21:10:46 +0000 2014\n",
        "None\n",
        "\u201c@teaguer19: White bitchez in 73 degree weather be like http://t.co/gT5cu0xdCX\u201d\u2744\ufe0f\ud83d\udc99\ud83d\udc99\n",
        "Wed Nov 12 21:10:46 +0000 2014\n",
        "None\n",
        "Featured #JYJ program at http://t.co/pQJaoABkY8 #kpop #internetradio Wed &amp; Sun 9pm Korea/Japan time http://t.co/F06hi5X5RD\n",
        "Wed Nov 12 21:10:46 +0000 2014\n",
        "None\n",
        "#iphone,#sex,#porn,#xxx,#sexy, | #Public | HOT Teen housewife gets NAKED in Public  http://t.co/A2RmYNFoIl\n",
        "Wed Nov 12 21:10:46 +0000 2014\n",
        "None\n",
        "RT @Mamasp00n: Don't think any videos are gonna by up today... Still feelin a bit under the weather. But I love you thanks for being a fan.\n",
        "Wed Nov 12 21:10:46 +0000 2014\n",
        "None\n",
        "@acl163 wow ur hot"
       ]
      },
      {
       "output_type": "stream",
       "stream": "stdout",
       "text": [
        "\n",
        "Wed Nov 12 21:10:46 +0000 2014\n",
        "None\n",
        "RT @MO_HOTELS: We couldn't agree more! RT @MO_KUALALUMPUR: Rainy weather calls for delectable macaroons from The Mandarin Cake Shop http://\u2026\n",
        "Wed Nov 12 21:10:46 +0000 2014\n",
        "None\n",
        "Hot Lisa Ann Blowjob http://t.co/QfoJ1fOFfQ"
       ]
      },
      {
       "output_type": "stream",
       "stream": "stdout",
       "text": [
        "\n",
        "Wed Nov 12 21:10:46 +0000 2014\n",
        "None\n",
        "\u2600\u2600\u2600\u2600\u2600\u2600\u2600\u2600\u2600\u2600\u2600\n",
        "\n",
        "Hi sunshine @Harry_Styles\n",
        "\n",
        "My birthday is soon\n",
        "\n",
        "Please babe, can you follow me?\n",
        "\n",
        "You make me happy babe\n",
        "\n",
        "Lots of love xx\n",
        "\n",
        "x128"
       ]
      },
      {
       "output_type": "stream",
       "stream": "stdout",
       "text": [
        "\n",
        "Wed Nov 12 21:10:46 +0000 2014\n",
        "None\n",
        "RT @k3riiii: i love love love d holidays, because like d weather \ud83d\ude0d food \ud83d\ude0d family \ud83d\ude0d clothes \ud83d\ude0d everything \ud83d\ude29\n",
        "Wed Nov 12 21:10:46 +0000 2014\n",
        "None\n",
        "RT @upto20words: @TreasuredPens @businessplumber #suffolkhour Meet us &amp; our posters @imakefunstuff fayre in @allaboutipswich Sun 10-4 http:\u2026\n",
        "Wed Nov 12 21:10:46 +0000 2014\n",
        "None\n",
        "http://t.co/nt8O83jYrp #celebrities good #NSFW #nsfw #adult #porn #Brunette hot celebrities sex scenes http://t.co/Q8TWkN5O9l\n",
        "Wed Nov 12 21:10:46 +0000 2014\n",
        "None\n",
        "@willburforce29 it's in our podcast http://t.co/VUAfi8ealA November 11\n",
        "Wed Nov 12 21:10:46 +0000 2014\n",
        "None\n",
        "Rosetta Probe Touches Down On Speeding Comet. Tekkers. Pretty special.  http://t.co/vFZPPWQfwr\n",
        "Wed Nov 12 21:10:46 +0000 2014\n",
        "None\n",
        "http://t.co/m2HVduAa3p #bbw comfy #flashfriday #nsfw #adult #porn #Hot bbw tgp video http://t.co/Q7AEP0StQm"
       ]
      },
      {
       "output_type": "stream",
       "stream": "stdout",
       "text": [
        "\n",
        "Wed Nov 12 21:10:46 +0000 2014\n",
        "None\n",
        "RT @ShereenEssam5: Global artist flying in the sky art  #DoaaOurDiva DoaaElSebaii\n",
        "Wed Nov 12 21:10:46 +0000 2014\n",
        "None\n",
        "Sushi and hot sake bombs sounds so bomb for dinner"
       ]
      },
      {
       "output_type": "stream",
       "stream": "stdout",
       "text": [
        "\n",
        "Wed Nov 12 21:10:46 +0000 2014\n",
        "None\n",
        "@Real_Liam_Payne \ud83d\udc95\ud83d\udc95\n",
        "I don't exist if I don't have you, the sun doesn't shine, the world doesn't turn. Lots of love from Italy.\ud83d\udc98 \n",
        "\ud83d\udc9d\ud83d\udc9dff\n",
        "Wed Nov 12 21:10:46 +0000 2014\n",
        "None\n",
        "RT @NatalieSeitz: &amp; sometimes you need to self destruct before you can start something beautiful. There can be no rainbow without a storm.\n",
        "Wed Nov 12 21:10:46 +0000 2014\n",
        "None\n",
        "@ReddsColombia Redd's + Lovers On The Sun + Daiquiri #HoraReddsGuetta\".\n",
        "Wed Nov 12 21:10:46 +0000 2014\n",
        "None\n",
        "RT @itsTrippyTrav: @channelari @Theezy She not used to this Michigan weather \ud83d\ude02\ud83d\ude02"
       ]
      },
      {
       "output_type": "stream",
       "stream": "stdout",
       "text": [
        "\n",
        "Wed Nov 12 21:10:46 +0000 2014\n",
        "None\n",
        "@AllyBrooke \ud83d\udc98\ud83d\udc98\n",
        "PLEASE FOLLOW ME SUNSHINE \u2600\ufe0f\n",
        "I missed your last follow spree :( \n",
        "FOLLOW ME ILY \ud83d\udc98\ud83d\udc9829\n",
        "Wed Nov 12 21:10:46 +0000 2014\n",
        "None\n",
        "4:10 PM 34.5F 86 pct 10.0 mph W  Rain 0.09 in. 0.00\n",
        "Wed Nov 12 21:10:46 +0000 2014\n",
        "None\n",
        "T ayo in d hot room wth Thumi Morake...\n",
        "Wed Nov 12 21:10:46 +0000 2014\n",
        "None\n",
        "@Harry_Styles Hi sunshine. Hope you're well.\n",
        "\n",
        "Would you mind read this?\n",
        "\n",
        "https://t.co/tWPuU0U5NZ\n",
        "\n",
        "Have a good day. Thanks for all.\n",
        "\n",
        "x10,423\n",
        "Wed Nov 12 21:10:46 +0000 2014\n",
        "None\n",
        "I liked a @YouTube video http://t.co/xAmhIF85wJ Bobby Shmurda - Hot N*gga\n",
        "Wed Nov 12 21:10:46 +0000 2014\n",
        "None\n",
        "@thechosenmovie damn he's hot\ud83d\ude0dI love my lane\n",
        "Wed Nov 12 21:10:46 +0000 2014\n",
        "None\n",
        "@Yassammez I gave in at the weekend as it was cold, now I'm too warm."
       ]
      },
      {
       "output_type": "stream",
       "stream": "stdout",
       "text": [
        "\n",
        "Wed Nov 12 21:10:46 +0000 2014\n",
        "None\n",
        "@FurmanPaige i think you mean thank you for gracing us with this glorious sky cotton"
       ]
      },
      {
       "output_type": "stream",
       "stream": "stdout",
       "text": [
        "\n",
        "Wed Nov 12 21:10:47 +0000 2014\n",
        "None\n",
        "The perfect weather for wonderful sweaters! #RP annloftcareers http://t.co/IF8zZE8hyx"
       ]
      },
      {
       "output_type": "stream",
       "stream": "stdout",
       "text": [
        "\n",
        "Wed Nov 12 21:10:47 +0000 2014\n",
        "None\n",
        "Ouvindo Clouds \ud83d\ude0d\ud83d\ude0d\ud83d\ude0d\ud83d\ude0d\n",
        "Wed Nov 12 21:10:47 +0000 2014\n",
        "None\n",
        "You can now have your Dick warm in a hurry....heated up in the microwave.... http://t.co/27lv9AYt8O"
       ]
      },
      {
       "output_type": "stream",
       "stream": "stdout",
       "text": [
        "\n",
        "Wed Nov 12 21:10:47 +0000 2014\n",
        "None\n",
        "@crraazzzzymofos: @NiallOfficial \n",
        " \u2601\ufe0fhi niall\n",
        "\n",
        "\ud83c\udf00 i love you sunshine\n",
        "\ud83c\ude02 thank u for everything\n",
        "\ud83c\udf90 i'm so proud of you\n",
        "\ud83d\udd39 please follow me?60\n",
        "Wed Nov 12 21:10:47 +0000 2014\n",
        "None\n",
        "RT @ArianaGrande: #LoveMeHarder entered the top 10 on @billboard hot 100 this week!! thank u so much luvs!!!!! https://t.co/NIYYO8CY4t http\u2026\n",
        "Wed Nov 12 21:10:47 +0000 2014\n",
        "None\n",
        "RT @BollocksWeather: THE FUCKING WEATHER IS BACK!\n",
        "\n",
        "And it's still wank......\n",
        "\n",
        "http://t.co/6Xntxuf0Ju\n",
        "Wed Nov 12 21:10:47 +0000 2014\n",
        "None\n",
        "RT @culo_ass: Hot #Squirt in The Face I Love!!! \ud83d\ude0d\ud83d\udc9e @gifssexy @Diamond_Selfies @HardSexo  @Bait_Shop @squirt_amateur @milkygifs   http://t.c\u2026"
       ]
      },
      {
       "output_type": "stream",
       "stream": "stdout",
       "text": [
        "\n",
        "Wed Nov 12 21:10:47 +0000 2014\n",
        "None\n",
        "COPY &amp; PASTE THIS LINK \u27a1 http://t.co/0Q4q56ow7T \u2b05 INTO UR BROWSER 2 MEET &amp; FUCK HOT CHICKS IN YOUR AREA NOW! https://t.co/7T2iFF83cQ\n",
        "Wed Nov 12 21:10:47 +0000 2014\n",
        "None\n",
        "i want to walk around with him in the cold while holding onto his arm all snuggled up on his side bye http://t.co/iGhkYtlcSG"
       ]
      },
      {
       "output_type": "stream",
       "stream": "stdout",
       "text": [
        "\n",
        "Wed Nov 12 21:10:47 +0000 2014\n",
        "None\n",
        "brand new #TOOMY2LUNGZ http://t.co/DZUaKEJoMX #tommyguns #hot #lasagna\n",
        "Wed Nov 12 21:10:47 +0000 2014\n",
        "None\n",
        "Is er nog iemand die me straks warm wil houden onder mijn lieve tweepers??\n",
        "Wed Nov 12 21:10:47 +0000 2014\n",
        "None\n",
        "#chubby,#milf,#teens,#hot,#fatty,#pics,  #leaked #amateur #maid: Nasty Guys Threeway Fuck http://t.co/YgUKCeq5Bh #Gay\n",
        "Wed Nov 12 21:10:47 +0000 2014\n",
        "None\n",
        "11/12/14 16:10:44|Temp 39.7 F|Hum: 60.0 Pres 30.05 \"|24Hr Rain 0.02 \" |Winds WNW 3.9 MPH|Windchill: 36.1 F\n",
        "Wed Nov 12 21:10:47 +0000 2014\n",
        "None\n",
        "Hot Deals : http://t.co/pjAiYHrMRy #76101 New LSI00279 LSI MegaRAID LSIIBBU09 Battery Backup For MegaRAID SAS 9... http://t.co/s1Z8o6ad7K"
       ]
      },
      {
       "output_type": "stream",
       "stream": "stdout",
       "text": [
        "\n",
        "Wed Nov 12 21:10:47 +0000 2014\n",
        "None\n",
        "#azalea #molice #orange #flower #sun http://t.co/2LVhrgUBSg\n",
        "Wed Nov 12 21:10:47 +0000 2014\n",
        "None\n",
        "RT @Emils72: Cold Fusion by cresendephotography @500px #photo #landscape #image http://t.co/DSBLG6VUUe"
       ]
      },
      {
       "output_type": "stream",
       "stream": "stdout",
       "text": [
        "\n",
        "Wed Nov 12 21:10:47 +0000 2014\n",
        "None\n",
        "My @Super6: COV 1-2 NTS, DON 1-1 SHU, GIL 2-0 LEY, PRN 3-1 BRD, SWI 1-2 BRI, YEO 1-1 FLT http://t.co/JWRZUeT2Ki #Super6\n",
        "Wed Nov 12 21:10:47 +0000 2014\n",
        "None\n",
        "@TheMattEspinosa #favmattpic i love this one,you are my sunshine,my inspiration.Please follow me,i love you https://t.co/qgxLA7RUMU x13"
       ]
      },
      {
       "output_type": "stream",
       "stream": "stdout",
       "text": [
        "\n",
        "Wed Nov 12 21:10:47 +0000 2014\n",
        "None\n",
        "storm on youtube!\n",
        "Wed Nov 12 21:10:47 +0000 2014\n",
        "None\n",
        "RT @ArianaGrande: #LoveMeHarder entered the top 10 on @billboard hot 100 this week!! thank u so much luvs!!!!! https://t.co/NIYYO8CY4t http\u2026"
       ]
      },
      {
       "output_type": "stream",
       "stream": "stdout",
       "text": [
        "\n",
        "Wed Nov 12 21:10:47 +0000 2014\n",
        "None\n",
        "RT @yoshiiiiii_: rt si tu veux trop prendre ton sunshine dans tes bras\n",
        "Wed Nov 12 21:10:47 +0000 2014\n",
        "None\n",
        "Latest  trend for Women to hold fertility egg freezing parties.Only in the US!\n",
        "Wed Nov 12 21:10:47 +0000 2014\n",
        "None\n",
        "Just want some cuddles, hot chocolate and fuzzy socks while watching Christmas movies \ud83d\ude29"
       ]
      },
      {
       "output_type": "stream",
       "stream": "stdout",
       "text": [
        "\n",
        "Wed Nov 12 21:10:47 +0000 2014\n",
        "None\n",
        "RT @waynefish1: Returning Hartnell expected to get warm reception:\n",
        "http://t.co/TudAn6Sy3e\n",
        "Wed Nov 12 21:10:47 +0000 2014\n",
        "None\n",
        "Hi @NiallOfficial. I love you. Can you follow me please. It's my dream. You're my sunshine. x2.973\n",
        "Wed Nov 12 21:10:47 +0000 2014\n",
        "None\n",
        "RT @ArianaGrande: \ud83d\ude38\ud83d\ude38\ud83d\ude38\u201c@Savan_Kotecha: \"LMH\" in the top 10 on the hot 100! Thank you everyone who's requested &amp; bought the song! @ArianaGran\u2026\n",
        "Wed Nov 12 21:10:47 +0000 2014\n",
        "None\n",
        "#Moon #Clouds #Tonight #FeelPureArtsPhotography ....\n",
        "Copyright Reserved to Feel Pure Arts Photography... http://t.co/ZhOqgqh8qZ\n",
        "Wed Nov 12 21:10:47 +0000 2014\n",
        "None\n",
        "@SillyShona14 ****sake., I hate not having sky \ud83d\ude14\ud83d\ude1e no wonder I didn't know about it.. \ud83d\ude15"
       ]
      },
      {
       "output_type": "stream",
       "stream": "stdout",
       "text": [
        "\n",
        "Wed Nov 12 21:10:47 +0000 2014\n",
        "None\n",
        "Hot chocolate, cookies, snuggled up in my blanket fortress, and watching netflicks? It's gunna be a good night.\n",
        "Wed Nov 12 21:10:47 +0000 2014\n",
        "None\n",
        "\u201c@misuraca_ashley: @leesarubio like do you love me enough to bring me hot coco\u201d http://t.co/XxUREeRYAa"
       ]
      },
      {
       "output_type": "stream",
       "stream": "stdout",
       "text": [
        "\n",
        "Wed Nov 12 21:10:47 +0000 2014\n",
        "None\n",
        "On another note, its a little after 4 and the sun is already dropping behind the trees...there goes my motivation to finish my day\n",
        "Wed Nov 12 21:10:47 +0000 2014\n",
        "None\n",
        "#Bikini #selfies #hot #babes http://t.co/47RM5fk2Y9 http://t.co/O4ho2P1E1q\n",
        "Wed Nov 12 21:10:47 +0000 2014\n",
        "None\n",
        "RT @chartnews: Billboard Hot 100: #1(=) Shake It Off, @taylorswift13 [12 weeks]. *4 weeks at #1*\n",
        "Wed Nov 12 21:10:47 +0000 2014\n",
        "None\n",
        "RT @femaIenotes: \"If i stay in bed i\u2019ll be warm\n",
        "\n",
        "if i get in the shower i\u2019ll also be warm\n",
        "\n",
        "but the distance between the bed and the shower\n",
        "\u2026\n",
        "Wed Nov 12 21:10:47 +0000 2014\n",
        "None\n",
        "Hey my sunshine!!! \n",
        "\ud83d\ude48Not be sad please\ud83d\ude48 \n",
        "~~be happy for me~~\n",
        "you mean everything to me!\n",
        "please follow me\u2753\n",
        "ILYSM @zaynmalik 9.244"
       ]
      },
      {
       "output_type": "stream",
       "stream": "stdout",
       "text": [
        "\n",
        "Wed Nov 12 21:10:48 +0000 2014\n",
        "None\n",
        "@deadweightlion Hot\n",
        "Wed Nov 12 21:10:48 +0000 2014\n",
        "None\n",
        "Come out and support Raw Illest and Storm April 14th at the Whiskey with Classified!\n",
        "Wed Nov 12 21:10:48 +0000 2014\n",
        "None\n",
        "@Nashgrier Hello sunshine would you please make me the happiest girl on planet with your follow? i love you so much nash xx180"
       ]
      },
      {
       "output_type": "stream",
       "stream": "stdout",
       "text": [
        "\n",
        "Wed Nov 12 21:10:48 +0000 2014\n",
        "None\n",
        "RT @NiallOfficial: @ralpharry it's on sky arts now\n",
        "Wed Nov 12 21:10:48 +0000 2014\n",
        "None\n",
        "#HOT #NEW #MIXTAPE  #LIFE_IN_LUXURY #LIFE #IN #LUXURY on #SoundCloud full #production and #engineering\u2026 http://t.co/eWJ0IgKP4B\n",
        "Wed Nov 12 21:10:48 +0000 2014\n",
        "None\n",
        "I ain't with the cold shit tho http://t.co/NzHlaMAx0j"
       ]
      },
      {
       "output_type": "stream",
       "stream": "stdout",
       "text": [
        "\n",
        "Wed Nov 12 21:10:48 +0000 2014\n",
        "None\n",
        "Despite the rain and #g20 am out talking with locals on Logan Rd Greenslopes. #qldpol http://t.co/N8VAQf5HBp\n",
        "Wed Nov 12 21:10:48 +0000 2014\n",
        "None\n",
        "Stay warm this winter with Bad Boy Hoodies\n",
        "Click Here:... http://t.co/0eT8wVDAzV\n",
        "Wed Nov 12 21:10:48 +0000 2014\n",
        "None\n",
        "Today is freezing. \ud83d\ude2c\u2601\ufe0f\u2744\ufe0f\u26c4\ufe0f\ud83d\udca8"
       ]
      },
      {
       "output_type": "stream",
       "stream": "stdout",
       "text": [
        "\n",
        "Wed Nov 12 21:10:48 +0000 2014\n",
        "None\n",
        "@NiallOfficial \n",
        "Hi Sunshine !\ud83d\udc95\n",
        "How are you ?\n",
        "I'm so proud of you \ud83d\udc96\n",
        "Can you follow me please ?\ud83d\udc95\n",
        "I love you more than everything \ud83d\udc96\n",
        "X3934\n",
        "Wed Nov 12 21:10:48 +0000 2014\n",
        "None\n",
        "RT @SawyerHartman: The sky is not this limit, it\u2019s just the view.\n",
        "Wed Nov 12 21:10:48 +0000 2014\n",
        "None\n",
        "RT @OhJoanna_: All I want to do is lay in bed. I don't want to go out in this cold \ud83d\ude2d"
       ]
      },
      {
       "output_type": "stream",
       "stream": "stdout",
       "text": [
        "\n",
        "Wed Nov 12 21:10:48 +0000 2014\n",
        "None\n",
        "RT @mirsaaaa_: Les mecs ils jugent au physique sur twitter, apr\u00e8s 3 sky en boite \u00e7a s'fait sucer par un pok\u00e9mon rare dans la clio...\n",
        "Wed Nov 12 21:10:48 +0000 2014\n",
        "None\n",
        "@zaynmalik \u2741no matter where,no matter when I'll be there for you till the end.follow me my sunshine it would mean the world to me\u2741x41.690\n",
        "Wed Nov 12 21:10:48 +0000 2014\n",
        "None\n",
        "Hot and busty Latina gets fucked like mad | Porn Vids #sex #movie #hot #iPhone http://t.co/bNgnVMlQ5O\n",
        "Wed Nov 12 21:10:48 +0000 2014\n",
        "None\n",
        "ITS COLD\n",
        "Wed Nov 12 21:10:48 +0000 2014\n",
        "None\n",
        "Bye bye my summer sun hair\ud83d\ude14\u2600\ufe0f\u270c\ufe0f\ud83d\udc4b\ud83d\udc4b\ud83d\udc4b\ud83d\udc4b\ud83d\udc4b\ud83d\udc4b\ud83d\udc4b\ud83d\udc4b http://t.co/SOuLJ2Zgfm"
       ]
      },
      {
       "output_type": "stream",
       "stream": "stdout",
       "text": [
        "\n",
        "Wed Nov 12 21:10:48 +0000 2014\n",
        "None\n",
        "RT @Mandi_Tinker: @mrjamesob How the Government is misleading us with its definition of welfare, and why it matters. A blog: https://t.co/5\u2026\n",
        "Wed Nov 12 21:10:48 +0000 2014\n",
        "None\n",
        "Hackers from China breached the federal weather network, report says http://t.co/6FJdnFIHOJ via @mashable\n",
        "Wed Nov 12 21:10:48 +0000 2014\n",
        "None\n",
        "RT @ArianaGrande: \ud83d\ude38\ud83d\ude38\ud83d\ude38\u201c@Savan_Kotecha: \"LMH\" in the top 10 on the hot 100! Thank you everyone who's requested &amp; bought the song! @ArianaGran\u2026"
       ]
      },
      {
       "output_type": "stream",
       "stream": "stdout",
       "text": [
        "\n",
        "Wed Nov 12 21:10:48 +0000 2014\n",
        "None\n",
        "Sexy blonde teen Santa wildest anal sex | xxx vids #hardcore #fuck #cum #hot #free http://t.co/S7rGD20ZI2\n",
        "Wed Nov 12 21:10:48 +0000 2014\n",
        "None\n",
        "Emily Hot shaved Pussy girl with lovely tits striptease and showing her sexy body    http://t.co/AyxFoCH2gC  #porn #followback #teen #itunes\n",
        "Wed Nov 12 21:10:48 +0000 2014\n",
        "None\n",
        "#pics,#anal,#teen,#hot,#hot,#teen | #Babe | Swedish football babe teasing in uniform  http://t.co/yw20AAwZwi\n",
        "Wed Nov 12 21:10:48 +0000 2014\n",
        "None\n",
        "@harry_styles hi sunshine\u2600, could you please follow me and @stylesdrxams? We're so excited for #FOUR \u2665 love you, thanks! x3,823\n",
        "Wed Nov 12 21:10:48 +0000 2014\n",
        "None\n",
        "Weather Update. http://t.co/gQWFH0QAYI 16:10:47"
       ]
      },
      {
       "output_type": "stream",
       "stream": "stdout",
       "text": [
        "\n",
        "Wed Nov 12 21:10:48 +0000 2014\n",
        "None\n",
        "@Michael5SOS\n",
        "\n",
        "\u2605\u266cMichael Clifford from 5sos\u266c\u2605\n",
        "\n",
        " \u2661I love you, sunshine\u2661\n",
        "\n",
        "\u263eit would mean so much to me\u263d\n",
        "\n",
        "\u2716To get your follow. Please?\u2716\n",
        "\n",
        "\u266c19.247\n",
        "Wed Nov 12 21:10:48 +0000 2014\n",
        "None\n",
        "\ud83c\udf3f\ud83c\udf38\ud83c\udf3f\ud83c\udf38\ud83c\udf3f\ud83c\udf38\n",
        "Hi sunshine @ArianaGrande\n",
        "You mean the world to me so you'll make my life if you just follow me.\n",
        "Je t'aime. MERCI. x961\n",
        "\ud83c\udf3f\ud83c\udf38\ud83c\udf3f\ud83c\udf38\ud83c\udf3f\ud83c\udf38"
       ]
      },
      {
       "output_type": "stream",
       "stream": "stdout",
       "text": [
        "\n",
        "Wed Nov 12 21:10:48 +0000 2014\n",
        "None\n",
        "Hot Cell Phones &gt;&gt; http://t.co/FLeG0ihSqV #8219 For Samsung Galaxy S5 SV TPU Design Soft Rubber Silicone Skin C... http://t.co/flUvaomx3U\n",
        "Wed Nov 12 21:10:48 +0000 2014\n",
        "None\n",
        "#movies #cinema Against the Sun - Trailer: In one of the most harrowing true stories of WWII, three US Navy ai... http://t.co/L0jEOZk2Ay"
       ]
      },
      {
       "output_type": "stream",
       "stream": "stdout",
       "text": [
        "\n",
        "Wed Nov 12 21:10:48 +0000 2014\n",
        "None\n",
        "Hurray! I have finished \"Never-Ending Rain\" task  in Big Business HD for iPad! http://t.co/CM506au9AN #ipad #ipadgames #gameinsight\n",
        "Wed Nov 12 21:10:48 +0000 2014\n",
        "None\n",
        "Hot Deals : http://t.co/NWUAje2c7q #76101 Lot of 5, PCI Express x2 slot SATA III 4-port PCI-e Version 2 Control... http://t.co/ADL8wQ0JWK\n",
        "Wed Nov 12 21:10:48 +0000 2014\n",
        "None\n",
        "RT @Ghetto_CNN: sky is lookin extra black tonight http://t.co/3hNeaYYSrY"
       ]
      },
      {
       "output_type": "stream",
       "stream": "stdout",
       "text": [
        "\n",
        "Wed Nov 12 21:10:48 +0000 2014\n",
        "None\n",
        "@Aaroosa_M hey sunshine \u2600 , do you want to follow me, please? \ud83d\udc8b x \u2665 \u263a\u263a\u263a\u263a\u263a\u263a\u263a\n",
        "Wed Nov 12 21:10:48 +0000 2014\n",
        "None\n",
        "@zaynmalik Hi sunshine.\ud83d\udc96\n",
        "April 10th is my bday,can you follow me please?\ud83d\udc9e\ud83d\udc9e\n",
        "I love you so much\ud83d\udc9d\ud83d\udc96\ud83d\udc9e   x162"
       ]
      },
      {
       "output_type": "stream",
       "stream": "stdout",
       "text": [
        "\n",
        "Wed Nov 12 21:10:48 +0000 2014\n",
        "None\n",
        "Avec Chlo\u00e9 on part au sky cet hiver en colo ! Sa va \u00eatre top !\n",
        "Wed Nov 12 21:10:48 +0000 2014\n",
        "None\n",
        "RT @empirezaynie: Zayn's hot af. there is no place to argue \n",
        "\n",
        "@onedirection Artist Of The Year #AMAs http://t.co/3xT92Lx0Wh\n",
        "Wed Nov 12 21:10:48 +0000 2014\n",
        "None\n",
        "RT @femaIenotes: \"If i stay in bed i\u2019ll be warm\n",
        "\n",
        "if i get in the shower i\u2019ll also be warm\n",
        "\n",
        "but the distance between the bed and the shower\n",
        "\u2026"
       ]
      },
      {
       "output_type": "stream",
       "stream": "stdout",
       "text": [
        "\n",
        "Wed Nov 12 21:10:48 +0000 2014\n",
        "None\n",
        "my mom called me hot \ud83d\ude02\ud83d\udd25"
       ]
      },
      {
       "output_type": "stream",
       "stream": "stdout",
       "text": [
        "\n",
        "Wed Nov 12 21:10:49 +0000 2014\n",
        "{u'type': u'Point', u'coordinates': [-83.482286, 41.624449]}\n",
        "Wtf why does my phone keep freezing ~,.,~\n",
        "Wed Nov 12 21:10:49 +0000 2014\n",
        "None\n",
        "More Bukkake HOT\u00a0Pics http://t.co/QyxAu7LIOe\n",
        "Wed Nov 12 21:10:49 +0000 2014\n",
        "None\n",
        "RT @POPSUGARMoms: These NICU photos from @childrensatl warm hearts and raise awareness. http://t.co/Ius996klxf http://t.co/1RrD9uXhFo"
       ]
      },
      {
       "output_type": "stream",
       "stream": "stdout",
       "text": [
        "\n",
        "Wed Nov 12 21:10:49 +0000 2014\n",
        "None\n",
        "I'm freezing in here\n",
        "Wed Nov 12 21:10:49 +0000 2014\n",
        "{u'type': u'Point', u'coordinates': [-89.748321, 30.283592]}\n",
        "RT @SoDamnTrue: the most annoying struggle girls go through with sun glasses http://t.co/66GWkafi08"
       ]
      },
      {
       "output_type": "stream",
       "stream": "stdout",
       "text": [
        "\n",
        "Wed Nov 12 21:10:49 +0000 2014\n",
        "None\n",
        "@SpeakingOut59 In China the air everywhere is so polluted that they can't see the blue sky. This \"Deal\" is no deal at all. It's a sell out.\n",
        "Wed Nov 12 21:10:49 +0000 2014\n",
        "None\n",
        "#CentralCoast #MontereyBay area temperatures remain cool despite the sun peeking through. #CAwx #California http://t.co/o0sH71xNDO"
       ]
      },
      {
       "output_type": "stream",
       "stream": "stdout",
       "text": [
        "\n",
        "Wed Nov 12 21:10:48 +0000 2014\n",
        "None\n",
        "It's November why the fuck is it so hot\n",
        "Wed Nov 12 21:10:49 +0000 2014\n",
        "None\n",
        "Weather Update. http://t.co/Un1fuJ6mtK 16:10:48"
       ]
      },
      {
       "output_type": "stream",
       "stream": "stdout",
       "text": [
        "\n",
        "Wed Nov 12 21:10:49 +0000 2014\n",
        "None\n",
        "Tonight's catch up on Sky+ is #TheStrain and #Forever loving a bit of a Henry!\n",
        "Wed Nov 12 21:10:49 +0000 2014\n",
        "None\n",
        "#celebrities when #SlutSunday #nsfw #adult #porn #Brunette hot celebrities sex scenes http://t.co/sjVdq9OHOp\n",
        "Wed Nov 12 21:10:49 +0000 2014\n",
        "None\n",
        "RT @SoonerFleeceCo: Don't end like our friend Rufus and be left in the cold without a fleece! Come see us at the bottom of Price TODAY! htt\u2026\n",
        "Wed Nov 12 21:10:49 +0000 2014\n",
        "None\n",
        "RT @Sarah__berg: If it's gonna be this cold it needs to snow..\n",
        "Wed Nov 12 21:10:49 +0000 2014\n",
        "None\n",
        "Snuggle up with Larry on these cold autumn nights with a hot cup of cocoa. \"A Boy From Down East\" http://t.co/N25RvMNSMb \u2026 #rrebook #ASMSG\n",
        "Wed Nov 12 21:10:49 +0000 2014\n",
        "None\n",
        "its toooooo cold\n",
        "Wed Nov 12 21:10:49 +0000 2014\n",
        "None\n",
        "Hot off the press! Our festive season cards are ready to go. Get your order in today http://t.co/BprwpEHCgH http://t.co/FeJ04AEwTc"
       ]
      },
      {
       "output_type": "stream",
       "stream": "stdout",
       "text": [
        "\n",
        "Wed Nov 12 21:10:49 +0000 2014\n",
        "None\n",
        "sunshine https://t.co/QykncAZgyR"
       ]
      },
      {
       "output_type": "stream",
       "stream": "stdout",
       "text": [
        "\n",
        "Wed Nov 12 21:10:49 +0000 2014\n",
        "None\n",
        "RT @UltimateBabes69: RETWEET if you think she's hot. Join at http://t.co/PoY2KMqYy9 http://t.co/1dl7eZcs1E\n",
        "Wed Nov 12 21:10:49 +0000 2014\n",
        "None\n",
        "@Real_Liam_Payne \ud83d\udc95\ud83d\udc95\n",
        "I don't exist if I don't have you, the sun doesn't shine, the world doesn't turn. Lots of love from Italy.\ud83d\udc98 \n",
        "\ud83d\udc9d\ud83d\udc9dg\n",
        "Wed Nov 12 21:10:49 +0000 2014\n",
        "None\n",
        "@TheMattEspinosa #favmattpic i love this one,you are my sunshine,my inspiration.Please follow me,i love you https://t.co/qgxLA7RUMU x14\n",
        "Wed Nov 12 21:10:49 +0000 2014\n",
        "None\n",
        "I'm the reason my street hot! http://t.co/BPJI25NWjb"
       ]
      },
      {
       "output_type": "stream",
       "stream": "stdout",
       "text": [
        "\n",
        "Wed Nov 12 21:10:49 +0000 2014\n",
        "None\n",
        "It's so cold outside but it makes me even more excited for Christmas \u2744\ufe0f\u2744\ufe0f\ud83c\udf85\n",
        "Wed Nov 12 21:10:49 +0000 2014\n",
        "None\n",
        "after school snack = hot chocolate &amp; popcorn \ud83d\ude0d\n",
        "Wed Nov 12 21:10:49 +0000 2014\n",
        "None\n",
        "RT @smilebcniall_: @NiallOfficial \n",
        "Hi Sunshine !\ud83d\udc95\n",
        "How are you ?\n",
        "I'm so proud of you \ud83d\udc96\n",
        "Can you follow me please ?\ud83d\udc95\n",
        "I love you more than ever\u2026\n",
        "Wed Nov 12 21:10:49 +0000 2014\n",
        "None\n",
        "http://t.co/nLCzac5tRY #bbw be #twitterafterdark #nsfw #adult #porn #Hot bbw tgp video http://t.co/g0p1Vo4X5s\n",
        "Wed Nov 12 21:10:49 +0000 2014\n",
        "None\n",
        "hi sunshine @Louis_Tomlinson \ud83d\udc9e\n",
        "\n",
        "you mean the world to me, thank you for everything, i love you so much, can you follow me pls? \ud83c\udf1d\n",
        "\n",
        "X1,945"
       ]
      },
      {
       "output_type": "stream",
       "stream": "stdout",
       "text": [
        "\n",
        "Wed Nov 12 21:10:49 +0000 2014\n",
        "None\n",
        "RT @TVDelena99: @Mathildesalvat1 @LongLiveDE I want the Delena Rain Kiss in this episode, no matter what\u2665\n",
        "Wed Nov 12 21:10:49 +0000 2014\n",
        "None\n",
        "RT @SORRYNOTSOORRY: WEDNESDAY IS THE BEST DAY OF THE WEEK BC ITS AHS DAY AND WHAT ELSE COULD YOU NEED ON A COLD FALL DAY THE ANSWER IS NOTH\u2026\n",
        "Wed Nov 12 21:10:49 +0000 2014\n",
        "None\n",
        "Hot Deals : http://t.co/6W9sKYlBiL #76101 LSI MegaRAID SATA/SAS 8888ELP 3Gb/s PCI-Express w/ 512MB RAID Card\n",
        "\n",
        "$... http://t.co/cNp7nzV74O\n",
        "Wed Nov 12 21:10:49 +0000 2014\n",
        "None\n",
        "Lionel Messi can do it on a cold wet Wednesday night at Upton Park"
       ]
      },
      {
       "output_type": "stream",
       "stream": "stdout",
       "text": [
        "\n",
        "Wed Nov 12 21:10:49 +0000 2014\n",
        "None\n",
        "Whomever is in charge of this weather needs to make an executive decision already on how cold it is.\n",
        "Wed Nov 12 21:10:49 +0000 2014\n",
        "None\n",
        "I hate the cold\ud83d\ude21\ud83d\udc7a\n",
        "Wed Nov 12 21:10:49 +0000 2014\n",
        "None\n",
        "Chorando ouvindo clouds porque a vida n\u00e3o t\u00e1 f\u00e1cil"
       ]
      },
      {
       "output_type": "stream",
       "stream": "stdout",
       "text": [
        "\n",
        "Wed Nov 12 21:10:49 +0000 2014\n",
        "None\n",
        "More Bukkake HOT\u00a0Pics http://t.co/zURsULb6UT\n",
        "Wed Nov 12 21:10:49 +0000 2014\n",
        "None\n",
        "RT @SoDamnTrue: the most annoying struggle girls go through with sun glasses http://t.co/66GWkafi08\n",
        "Wed Nov 12 21:10:49 +0000 2014\n",
        "None\n",
        "RT @ArianaGrande: #LoveMeHarder entered the top 10 on @billboard hot 100 this week!! thank u so much luvs!!!!! https://t.co/NIYYO8CY4t http\u2026"
       ]
      },
      {
       "output_type": "stream",
       "stream": "stdout",
       "text": [
        "\n",
        "Wed Nov 12 21:10:49 +0000 2014\n",
        "None\n",
        "ITS SO COLD HEISJWS"
       ]
      },
      {
       "output_type": "stream",
       "stream": "stdout",
       "text": [
        "\n",
        "Wed Nov 12 21:10:49 +0000 2014\n",
        "None\n",
        "cold feet is killing me rn.\n",
        "Wed Nov 12 21:10:49 +0000 2014\n",
        "None\n",
        "RT @JensenAckles: Classic song, classic car and classic dean covered in grease and drinking warm coffee. I love it. #ClassicSupernatural #S\u2026\n",
        "Wed Nov 12 21:10:49 +0000 2014\n",
        "None\n",
        "@AshleyLGalb98 lookin hot in her avi \ud83d\ude0f\n",
        "Wed Nov 12 21:10:49 +0000 2014\n",
        "{u'type': u'Point', u'coordinates': [-104.843749, 39.741553]}\n",
        "RT @TwopTwips: SIMULATE guiding a probe 300 million miles and landing it on a comet by getting a straw in a Capri Sun on the first attempt.\u2026\n",
        "Wed Nov 12 21:10:49 +0000 2014\n",
        "None\n",
        "Why does it have to be so cold\n",
        "Wed Nov 12 21:10:49 +0000 2014\n",
        "None\n",
        "when ur cold but bae has a 103 fever \ud83d\ude29\ud83d\ude29\ud83d\udc45\ud83d\udca6\ud83d\udc4f\ud83d\ude4f"
       ]
      },
      {
       "output_type": "stream",
       "stream": "stdout",
       "text": [
        "\n",
        "Wed Nov 12 21:10:50 +0000 2014\n",
        "None\n",
        "RT @SkyTG24: Esondano Seveso e Lambro, strade allagate a #Milano: http://t.co/dMGrYoOZLI"
       ]
      },
      {
       "output_type": "stream",
       "stream": "stdout",
       "text": [
        "\n",
        "Wed Nov 12 21:10:50 +0000 2014\n",
        "None\n",
        "Weather Update. http://t.co/ltUCxnXcsn 16:10:49\n",
        "Wed Nov 12 21:10:50 +0000 2014\n",
        "None\n",
        "More Bukkake HOT\u00a0Pics http://t.co/4TILv6xS1U\n",
        "Wed Nov 12 21:10:50 +0000 2014\n",
        "None\n",
        "RT @yoshiiiiii_: rt si tu veux une photo avec ton sunshine\n",
        "Wed Nov 12 21:10:50 +0000 2014\n",
        "None\n",
        "RT @NiallOfficial: @ralpharry it's on sky arts now"
       ]
      },
      {
       "output_type": "stream",
       "stream": "stdout",
       "text": [
        "\n",
        "Wed Nov 12 21:10:50 +0000 2014\n",
        "None\n",
        "when you see me an my wife ur all \"aww so cute\" but not \"damn I bet they have hot sex\" when really it's BOTH"
       ]
      },
      {
       "output_type": "stream",
       "stream": "stdout",
       "text": [
        "\n",
        "Wed Nov 12 21:10:50 +0000 2014\n",
        "None\n",
        "RT @SkyNews: Manchester Police Slated Over Nurse's Murder http://t.co/on0dPHUrsV"
       ]
      },
      {
       "output_type": "stream",
       "stream": "stdout",
       "text": [
        "\n",
        "Wed Nov 12 21:10:50 +0000 2014\n",
        "None\n",
        "RT @chartnews: Hot Digital Songs: #18 Love Me Harder, @ArianaGrande &amp; @theweeknd 56,000 (197,000 total).\n",
        "Wed Nov 12 21:10:50 +0000 2014\n",
        "None\n",
        "More Bukkake HOT\u00a0Pics http://t.co/dibNRNOY8W\n",
        "Wed Nov 12 21:10:50 +0000 2014\n",
        "None\n",
        "RT @ArianaGrande: #LoveMeHarder entered the top 10 on @billboard hot 100 this week!! thank u so much luvs!!!!! https://t.co/NIYYO8CY4t http\u2026"
       ]
      },
      {
       "output_type": "stream",
       "stream": "stdout",
       "text": [
        "\n",
        "Wed Nov 12 21:10:50 +0000 2014\n",
        "None\n",
        "RT @LukeAdams95: a cold room is everything when it comes to sleep\n",
        "Wed Nov 12 21:10:50 +0000 2014\n",
        "None\n",
        "RT @KFOX14: Freeze watch in effect from 3 a.m. to 10 a.m. Thursday for the Borderland: http://t.co/oKVSuQhZXp\n",
        "How are you preparing for the\u2026\n",
        "Wed Nov 12 21:10:50 +0000 2014\n",
        "None\n",
        "RT @Feastingathome: Warm apples on hot toast... saut\u00e9 apples in coconut oil (or butter), add a pinch of nutmeg, cinnamon\u2026 http://t.co/hhzdD\u2026\n",
        "Wed Nov 12 21:10:50 +0000 2014\n",
        "None\n",
        "I'm so cold \ud83d\ude29"
       ]
      },
      {
       "output_type": "stream",
       "stream": "stdout",
       "text": [
        "\n",
        "Wed Nov 12 21:10:50 +0000 2014\n",
        "None\n",
        "RT @krisvoakes: Huge applause from the Upton Park crowd as Carlos Tevez begins to warm up. The hero of 2006-07 returns. #WHUFC #ARGvsCRO\n",
        "Wed Nov 12 21:10:50 +0000 2014\n",
        "None\n",
        "@ladykhaleesi_ those are so bomb hot, are they just as good/better iced?!\n",
        "Wed Nov 12 21:10:50 +0000 2014\n",
        "None\n",
        "Regrets are a waste of time. They're the past crippling you in the present. -Under the Tuscan Sun (2003)"
       ]
      },
      {
       "output_type": "stream",
       "stream": "stdout",
       "text": [
        "\n",
        "Wed Nov 12 21:10:50 +0000 2014\n",
        "None\n",
        "\ud83d\udc95\ud83c\udf38\ud83d\udc95\ud83c\udf38\ud83d\udc95\n",
        "Luke Hemmings from 5SOS\n",
        "please follow me sunshine\n",
        "it would mean the absolute \ud83c\udf0d\n",
        "i love you more than anything\n",
        "@Luke5SOS \n",
        "\ud83d\udc95\ud83c\udf38\ud83d\udc95\ud83c\udf38\ud83d\udc95\n",
        "20,360\n",
        "Wed Nov 12 21:10:50 +0000 2014\n",
        "None\n",
        "RT @MileyCyrus: I hate when I dream about hot guys that don't exist \ud83d\ude3f\n",
        "Wed Nov 12 21:10:50 +0000 2014\n",
        "None\n",
        "Brr it's getting cold out there! Keep those little legs warm, all our leg warmers are now on sale for only $6! http://t.co/iXWH28yVbx"
       ]
      },
      {
       "output_type": "stream",
       "stream": "stdout",
       "text": [
        "\n",
        "Wed Nov 12 21:10:50 +0000 2014\n",
        "None\n",
        "Hot Deals : http://t.co/T43VFU0cgW #76101 8 Internal SATA III Ports PCI-Express Card, PCI-e x2 Slot, Specificat... http://t.co/uY90GKxygd\n",
        "Wed Nov 12 21:10:50 +0000 2014\n",
        "None\n",
        "....during the day same timing pm ...sun going down...moon in the sky ...venus reflections through the light of the sight"
       ]
      },
      {
       "output_type": "stream",
       "stream": "stdout",
       "text": [
        "\n",
        "Wed Nov 12 21:10:50 +0000 2014\n",
        "None\n",
        "RT @GoT_Dany: The weather is turning... Winter is Coming. \u2744\ufe0f\n",
        "Wed Nov 12 21:10:50 +0000 2014\n",
        "None\n",
        "RT @KianLawley: Goodmorning \u263a\ufe0f sun glistening through the window, birds chirping &amp; soothing music \ud83c\udf3f\ud83c\udf3b\n",
        "Wed Nov 12 21:10:50 +0000 2014\n",
        "None\n",
        "RT @My_Cute_Zayn: Hi Sunshine\u2764\ufe0f\n",
        "\u2728If I've luck and you read this I want to tell you I love you and you're so important to me\u2728\n",
        "Please follow \u2026\n",
        "Wed Nov 12 21:10:50 +0000 2014\n",
        "None\n",
        "More Bukkake HOT\u00a0Pics http://t.co/bNAXvNwWJH"
       ]
      },
      {
       "output_type": "stream",
       "stream": "stdout",
       "text": [
        "\n",
        "Wed Nov 12 21:10:50 +0000 2014\n",
        "None\n",
        "@ThatYungRod mother are you there? I love you... I never meant to hot you over the head with that shovel.\n",
        "Wed Nov 12 21:10:50 +0000 2014\n",
        "None\n",
        "RT @xfollowhelpx: THIS GUY ON THE BUS, HES HOT, BLONDE, LIKE 20 YRS OLD, PROBABLY ILLEGAL, HE HAD THE NICEST ASS -A http://t.co/N7bIHSy3uT"
       ]
      },
      {
       "output_type": "stream",
       "stream": "stdout",
       "text": [
        "\n",
        "Wed Nov 12 21:10:50 +0000 2014\n",
        "None\n",
        "#Apple #Hot #News Apple Introduces 27-inch iMac with Retina 5K Display\n",
        "Wed Nov 12 21:10:50 +0000 2014\n",
        "None\n",
        "The Fugees - Killing Me Softly With His Song (Official Video)\n",
        "On a trigger... Jakub Reignhardt.. Stars sky! http://t.co/y1kh4cDjlz\n",
        "Wed Nov 12 21:10:50 +0000 2014\n",
        "None\n",
        "\u201c@intomahoran: \ud83d\udc8d Cita este tweet con una foto de tu sunshine. \ud83d\udc8d\u201d http://t.co/hbx3ZuXvo3"
       ]
      },
      {
       "output_type": "stream",
       "stream": "stdout",
       "text": [
        "\n",
        "Wed Nov 12 21:10:50 +0000 2014\n",
        "None\n",
        "I just wanna cuddle, drink hot chocolate, and watch a Christmas movie.\n",
        "Wed Nov 12 21:10:50 +0000 2014\n",
        "None\n",
        "Hiiiiii @zaynmalik \u265b\n",
        "You're my sunshine \u2600\n",
        "You make me happy when I'm sad \u10da\n",
        "Thank you for coming into my life \u271e\n",
        "Do u mind follow me? \u2718\n",
        "x50\n",
        "Wed Nov 12 21:10:50 +0000 2014\n",
        "None\n",
        "RT @CMAFestVIP: RT &amp; follow @blakeshelton &amp; @CMAFestVIP for chance to WIN SIGNED \"Bringing Back The Sunshine\" CD! #CMAawards http://t.co/K1\u2026\n",
        "Wed Nov 12 21:10:50 +0000 2014\n",
        "None\n",
        "@Harry_Styles please follow @cyrustylzs she's upset rn and you're her sunshine so help me and put a smile on her face !"
       ]
      },
      {
       "output_type": "stream",
       "stream": "stdout",
       "text": [
        "\n",
        "Wed Nov 12 21:10:50 +0000 2014\n",
        "None\n",
        "Weather Update. http://t.co/TeDg6Ym18F 16:10:50\n",
        "Wed Nov 12 21:10:51 +0000 2014\n",
        "None\n",
        "@venessamitchell I have one too, it's a sty I believe. Put a cold tea bag on it, it will draw it out and get rid of it!\n",
        "Wed Nov 12 21:10:50 +0000 2014\n",
        "None\n",
        "RT @FoodPornAww: Warm Chocolate Chip Cookie Dough with Vanilla Ice Cream http://t.co/QVZQmPHGXx"
       ]
      },
      {
       "output_type": "stream",
       "stream": "stdout",
       "text": [
        "\n",
        "Wed Nov 12 21:10:51 +0000 2014\n",
        "None\n",
        "@Fergie the #LALOVEVIDEO is hot as hell! Your partybus, dance, crying baby, LALOVEcard, dancers, rapping and bikini scene are all amazing! \ud83d\udd25\n",
        "Wed Nov 12 21:10:51 +0000 2014\n",
        "None\n",
        "Its cold asab"
       ]
      },
      {
       "output_type": "stream",
       "stream": "stdout",
       "text": [
        "\n",
        "Wed Nov 12 21:10:51 +0000 2014\n",
        "None\n",
        "Ruby Knox is a slender hot teen who is fucked | free sex #sex #instagram #amateur #instapic http://t.co/ykTCzvEeQx\n",
        "Wed Nov 12 21:10:51 +0000 2014\n",
        "None\n",
        "@TheMattEspinosa #favmattpic i love this one,you are my sunshine,my inspiration.Please follow me,i love you https://t.co/qgxLA7RUMU x15"
       ]
      },
      {
       "output_type": "stream",
       "stream": "stdout",
       "text": [
        "\n",
        "Wed Nov 12 21:10:51 +0000 2014\n",
        "None\n",
        "RT @Zayn_MyHero: 3 months until our sunshine's birthday \u263a\ufe0f\ud83d\udc9e http://t.co/E8PW8jjAG7\n",
        "Wed Nov 12 21:10:51 +0000 2014\n",
        "None\n",
        "@Nashgrier Hello sunshine would you please make me the happiest girl on planet with your follow? i love you so much nash xx181"
       ]
      },
      {
       "output_type": "stream",
       "stream": "stdout",
       "text": [
        "\n",
        "Wed Nov 12 21:10:51 +0000 2014\n",
        "None\n",
        "RT @trentpriest: Idk what's colder. \n",
        "The weather or my heart.\n",
        "Wed Nov 12 21:10:51 +0000 2014\n",
        "None\n",
        "Hey my sunshine!!! \n",
        "\ud83d\ude48Not be sad please\ud83d\ude48 \n",
        "~~be happy for me~~\n",
        "you mean everything to me!\n",
        "please follow me\u2753\n",
        "ILYSM @zaynmalik 9.245"
       ]
      },
      {
       "output_type": "stream",
       "stream": "stdout",
       "text": [
        "\n",
        "Wed Nov 12 21:10:51 +0000 2014\n",
        "None\n",
        "More Bukkake HOT\u00a0Pics http://t.co/qQ9UtljtKV\n",
        "Wed Nov 12 21:10:51 +0000 2014\n",
        "None\n",
        "@AllyBrooke \ud83d\udc98\ud83d\udc98\n",
        "PLEASE FOLLOW ME SUNSHINE \u2600\ufe0f\n",
        "I missed your last follow spree :( \n",
        "FOLLOW ME ILY \ud83d\udc98\ud83d\udc9830\n",
        "Wed Nov 12 21:10:51 +0000 2014\n",
        "None\n",
        "Cold house? Set up by the fire! #AmWriting #TexasWinter http://t.co/XtFMKvHKq8"
       ]
      },
      {
       "output_type": "stream",
       "stream": "stdout",
       "text": [
        "\n",
        "Wed Nov 12 21:10:51 +0000 2014\n",
        "None\n",
        "It's too cold for this CS 102 class. I want to leave and go buy 7 bowls of chili from krystals.\n",
        "Wed Nov 12 21:10:51 +0000 2014\n",
        "None\n",
        "RT @allkpop: TVXQ are smoking hot in a new poster for their upcoming Seoul concert\n",
        "http://t.co/Qw9fYYr7pt http://t.co/rvIcwPfw7a\n",
        "Wed Nov 12 21:10:51 +0000 2014\n",
        "None\n",
        "LIAM\n",
        "YOU ARE MY:\n",
        "SUNSHINE \ud83c\udf1e\n",
        "LOVE \ud83d\udc95\n",
        "WORLD \ud83c\udf0e\n",
        "EVERYTHING \ud83d\ude48\n",
        "PLEASE FOLLOW ME \ud83d\ude0a\n",
        "#MurrayFTW\n",
        "@Real_Liam_Payne x535"
       ]
      },
      {
       "output_type": "stream",
       "stream": "stdout",
       "text": [
        "\n",
        "Wed Nov 12 21:10:51 +0000 2014\n",
        "None\n",
        "RT @bedhemmo: \ud83d\udc95\ud83c\udf38\ud83d\udc95\ud83c\udf38\ud83d\udc95\n",
        "Luke Hemmings from 5SOS\n",
        "please follow me sunshine\n",
        "it would mean the absolute \ud83c\udf0d\n",
        "i love you more than anything\n",
        "@Luke5SOS \u2026"
       ]
      },
      {
       "output_type": "stream",
       "stream": "stdout",
       "text": [
        "\n",
        "Wed Nov 12 21:10:51 +0000 2014\n",
        "None\n",
        "Ontario Weather Review October\u00a02014 http://t.co/I7u0OtHUWi\n",
        "Wed Nov 12 21:10:51 +0000 2014\n",
        "None\n",
        "RT @LukeAdams95: a cold room is everything when it comes to sleep\n",
        "Wed Nov 12 21:10:51 +0000 2014\n",
        "None\n",
        "RT @SusanMcNaughton: RT @DrRobWilkinson chilly looking National Monument on Calton Hill, just enough of a climb to keep you warm!#edinhour \u2026\n",
        "Wed Nov 12 21:10:51 +0000 2014\n",
        "None\n",
        "RT @SoDamnTrue: my fashion sense is called i am cold and pissed off\n",
        "Wed Nov 12 21:10:51 +0000 2014\n",
        "None\n",
        "\u2741Hey Niall\u2741\n",
        "You're my sunshine\u2600 and my whole\ud83c\udf0d\ud83d\udc93\n",
        "Please take a few secs to follow me\ud83c\udf40\u2728 it would mean a lot\u2661\n",
        "\n",
        "Ilysm\ud83d\udc98 @NiallOfficial\n",
        "270\n",
        "Wed Nov 12 21:10:51 +0000 2014\n",
        "None\n",
        "RT @therealstylesp: I get high as the clouds but stay down to earth.."
       ]
      },
      {
       "output_type": "stream",
       "stream": "stdout",
       "text": [
        "\n",
        "Wed Nov 12 21:10:51 +0000 2014\n",
        "None\n",
        "I have been cheated on before, after that i just turned cold ass fuck\n",
        "Wed Nov 12 21:10:51 +0000 2014\n",
        "None\n",
        "hot sex: Busty blonde blows and shows how to really fuck #porn #followback #teen #itunes  http://t.co/3GMHjhARmT\n",
        "Wed Nov 12 21:10:51 +0000 2014\n",
        "None\n",
        "Hot Deals : http://t.co/jdOB4f7hyZ #76101 HighPoint SATA RocketRAID620 SATA 6Gb/s Adapter Card SATA 6Gb/s CIE2.... http://t.co/EQ6ij01U7I\n",
        "Wed Nov 12 21:10:51 +0000 2014\n",
        "None\n",
        "@Real_Liam_Payne \n",
        "Hi sunshine\n",
        "Ilysm\n",
        "Can you please follow me and make me the happiest girl in the world?\n",
        "Thank you      x2826"
       ]
      },
      {
       "output_type": "stream",
       "stream": "stdout",
       "text": [
        "\n",
        "Wed Nov 12 21:10:51 +0000 2014\n",
        "None\n",
        "\u263c \u263d \u263c \u263e\u263c\u263d \n",
        "\n",
        "Calum hood from 5sos\n",
        "You are my sunshine\u2600\ufe0f\n",
        "Please follow me\ud83d\ude4f\ud83d\udc95\n",
        "And be my 2/4?! \u25e1\u0308\n",
        "@Calum5SOS \n",
        "x15,654\n",
        "\n",
        "\u263e\u263c \u263d \u263c \u263e\u263c\u263d\n",
        "Wed Nov 12 21:10:51 +0000 2014\n",
        "None\n",
        "@parkerfarquer @CBarronie @bernieforkin @sp1305 @SideWinderSid @LauraMullan blimey! Big weather\n",
        "Wed Nov 12 21:10:51 +0000 2014\n",
        "None\n",
        "Weather Update. http://t.co/U2NQRCOHTb 16:10:51"
       ]
      },
      {
       "output_type": "stream",
       "stream": "stdout",
       "text": [
        "\n",
        "Wed Nov 12 21:10:51 +0000 2014\n",
        "None\n",
        "RT @HoranShield: NIALL SOUNDS SO HOT IN GIRL ALMIGHTY\n",
        "Wed Nov 12 21:10:51 +0000 2014\n",
        "None\n",
        "Vegetable soup for real tonight. \n",
        "Perfect Weather\n",
        "Wed Nov 12 21:10:51 +0000 2014\n",
        "{u'type': u'Point', u'coordinates': [-92.035828, 30.125552]}\n",
        "It's so cold Ohh My Goodness. I hate being cold. I Can't Deal Right Now. My nose is redder than a lil white girl with pigtails \ud83d\ude12\n",
        "Wed Nov 12 21:10:51 +0000 2014\n",
        "None\n",
        "sex clip: Party girls out of control in this amateur flick #sex #movie #hot #iPhone http://t.co/Pc02WySXR9"
       ]
      },
      {
       "output_type": "stream",
       "stream": "stdout",
       "text": [
        "\n",
        "Wed Nov 12 21:10:51 +0000 2014\n",
        "None\n",
        "RT @kurt9119: \u201c@DaBlackboyy: \u201c@GermanraAgus: http://t.co/kBQOJnmffR\u201d getin right in der!\u201dHot sexy fun\ud83d\udd25\ud83d\udca5\ud83d\udd25\n",
        "Wed Nov 12 21:10:51 +0000 2014\n",
        "None\n",
        "Brilliant service in @VCCDublin tonight from Ann Marie. Delish cocktails too! Perfect cozy hideaway from miserable weather! #cocktails\n",
        "Wed Nov 12 21:10:51 +0000 2014\n",
        "None\n",
        "RT @Zayn_MyHero: 3 months until our sunshine's birthday \u263a\ufe0f\ud83d\udc9e http://t.co/E8PW8jjAG7"
       ]
      },
      {
       "output_type": "stream",
       "stream": "stdout",
       "text": [
        "\n",
        "Wed Nov 12 21:10:51 +0000 2014\n",
        "None\n",
        "It's so cold \ud83d\udc9c\n",
        "Wed Nov 12 21:10:51 +0000 2014\n",
        "None\n",
        "What you think you look like in the rain verse what you actually look like http://t.co/bWYA2Y4njp\n",
        "Wed Nov 12 21:10:51 +0000 2014\n",
        "None\n",
        "More Bukkake HOT\u00a0Pics http://t.co/l0wklSnTml\n",
        "Wed Nov 12 21:10:51 +0000 2014\n",
        "None\n",
        "RT @sexy__celebs: Belinda Stewart Wilson #hot #willsmum http://t.co/ZgXzX2xK6j"
       ]
      },
      {
       "output_type": "stream",
       "stream": "stdout",
       "text": [
        "\n",
        "Wed Nov 12 21:10:51 +0000 2014\n",
        "None\n",
        "This weather is going to kill me \ud83d\udc80\u2601\u2744\ud83c\udf00\n",
        "Wed Nov 12 21:10:52 +0000 2014\n",
        "None\n",
        "HI SUNSHINE.PLS FOLLOW ME,I REALLY LOVE U SO SO MUCH.\n",
        "DON'T IGNORE.I EXIST.@NiallOfficial @Ashton5SOS \u2728MAKE ME HAPPY,AND BE MY 1/9\u2728 589"
       ]
      },
      {
       "output_type": "stream",
       "stream": "stdout",
       "text": [
        "\n",
        "Wed Nov 12 21:10:52 +0000 2014\n",
        "None\n",
        "Mackenzee Pierc Huge tits big butt doggy style Hot fuck #porn #followback #teen #itunes http://t.co/wNj5L8miRQ"
       ]
      },
      {
       "output_type": "stream",
       "stream": "stdout",
       "text": [
        "\n",
        "Wed Nov 12 21:10:52 +0000 2014\n",
        "None\n",
        "Hot River North Restaurant in Search of Experienced Marketing &amp; PR Manager: Vergent Search Group is curr... http://t.co/imY3Cnyghg #jobs\n",
        "Wed Nov 12 21:10:52 +0000 2014\n",
        "None\n",
        "RT @SePhotoCrew: The last sun rays of the day #Dubai @MyDubai @MyDowntownDubai @BEAUTIFULPlCS @BurjKhalifa @BurjAlArab @upplevdubai http://\u2026"
       ]
      },
      {
       "output_type": "stream",
       "stream": "stdout",
       "text": [
        "\n",
        "Wed Nov 12 21:10:52 +0000 2014\n",
        "None\n",
        "RT @TheMeninist: Don't tell me I'm hot. Im not a temperature\n",
        "Wed Nov 12 21:10:52 +0000 2014\n",
        "None\n",
        "Half my mouth frozen and attempting to drink hot chocolate. This is me: https://t.co/P6XlTZoKHC"
       ]
      },
      {
       "output_type": "stream",
       "stream": "stdout",
       "text": [
        "\n",
        "Wed Nov 12 21:10:52 +0000 2014\n",
        "None\n",
        "I need the hot sun and a beach!"
       ]
      },
      {
       "output_type": "stream",
       "stream": "stdout",
       "text": [
        "\n",
        "Wed Nov 12 21:10:52 +0000 2014\n",
        "None\n",
        "Acid Rain \ud83c\udfb6 CARALHO, M\u00daSICA LINDA DA PORRA SE FUD\u00ca\n",
        "Wed Nov 12 21:10:52 +0000 2014\n",
        "None\n",
        "@Michael5SOS\n",
        "\n",
        "\u2605\u266cMichael Clifford from 5sos\u266c\u2605\n",
        "\n",
        " \u2661I love you, sunshine\u2661\n",
        "\n",
        "\u263eit would mean so much to me\u263d\n",
        "\n",
        "\u2716To get your follow. Please?\u2716\n",
        "\n",
        "\u266c19.248\n",
        "Wed Nov 12 21:10:52 +0000 2014\n",
        "None\n",
        "this weather makes me lazy\n",
        "Wed Nov 12 21:10:52 +0000 2014\n",
        "None\n",
        "hot sex: Big blonds prefer bigger toys - porn #porn #followback #teen #itunes  http://t.co/ka6uAo2e77\n",
        "Wed Nov 12 21:10:52 +0000 2014\n",
        "None\n",
        "RT @ESPNStatsInfo: The Thunder are 2-6 this season; did not record sixth loss last season until Dec. 31 (when their record was 25-6)\n",
        "Wed Nov 12 21:10:52 +0000 2014\n",
        "None\n",
        "Of crow flowers,Nettles,Daises,And long purples,That liberal shepherds give a grosser name,But our cold maids do dead man's fingers call 2/5"
       ]
      },
      {
       "output_type": "stream",
       "stream": "stdout",
       "text": [
        "\n",
        "Wed Nov 12 21:10:52 +0000 2014\n",
        "None\n",
        "Gostei de um v\u00eddeo @YouTube de @thundergamesddm http://t.co/Q2VOX70DD0 Live Thunder - Avaliando e Divulgando Canais\n",
        "Wed Nov 12 21:10:52 +0000 2014\n",
        "None\n",
        "Thought I was gunna pass out in school cause it was so fucking hot."
       ]
      },
      {
       "output_type": "stream",
       "stream": "stdout",
       "text": [
        "\n",
        "Wed Nov 12 21:10:52 +0000 2014\n",
        "None\n",
        "@Harry_Styles Hi sunshine. Hope you're well.\n",
        "\n",
        "Would you mind read this?\n",
        "\n",
        "https://t.co/tWPuU0U5NZ\n",
        "\n",
        "Have a good day. Thanks for all.\n",
        "\n",
        "x10,424\n",
        "Wed Nov 12 21:10:52 +0000 2014\n",
        "None\n",
        "RT @chartnews: Hot Digital Songs: #18 Love Me Harder, @ArianaGrande &amp; @theweeknd 56,000 (197,000 total).\n",
        "Wed Nov 12 21:10:52 +0000 2014\n",
        "None\n",
        "Zizo Beda in Hot Pink #TS dress. available at @burgundyfly rosebank mall http://t.co/rocc4t666i"
       ]
      },
      {
       "output_type": "stream",
       "stream": "stdout",
       "text": [
        "\n",
        "Wed Nov 12 21:10:52 +0000 2014\n",
        "None\n",
        "Under The Bridge by Red Hot Chili Peppers will always remind me of my sister \ud83d\ude02\ud83d\udc6d\ud83d\udc99\n",
        "Wed Nov 12 21:10:52 +0000 2014\n",
        "None\n",
        "http://t.co/TempDI4YWK #bbw dailypics #twitterafterdark #nsfw #adult #porn #Hot bbw tgp video http://t.co/exidnFOcEa"
       ]
      },
      {
       "output_type": "stream",
       "stream": "stdout",
       "text": [
        "\n",
        "Wed Nov 12 21:10:52 +0000 2014\n",
        "None\n",
        "@TheMattEspinosa #favmattpic i love this one,you are my sunshine,my inspiration.Please follow me,i love you https://t.co/qgxLA7RUMU x16\n",
        "Wed Nov 12 21:10:52 +0000 2014\n",
        "None\n",
        "Its freezing\n",
        "Wed Nov 12 21:10:52 +0000 2014\n",
        "None\n",
        "RT @ArianaGrande: \ud83d\ude38\ud83d\ude38\ud83d\ude38\u201c@Savan_Kotecha: \"LMH\" in the top 10 on the hot 100! Thank you everyone who's requested &amp; bought the song! @ArianaGran\u2026\n",
        "Wed Nov 12 21:10:52 +0000 2014\n",
        "None\n",
        "@Real_Liam_Payne \ud83d\udc95\ud83d\udc95\n",
        "I don't exist if I don't have you, the sun doesn't shine, the world doesn't turn. Lots of love from Italy.\ud83d\udc98 \n",
        "\ud83d\udc9d\ud83d\udc9dgg"
       ]
      },
      {
       "output_type": "stream",
       "stream": "stdout",
       "text": [
        "\n",
        "Wed Nov 12 21:10:52 +0000 2014\n",
        "None\n",
        "Gostei de um v\u00eddeo @YouTube de @thundergamesddm http://t.co/FcUUkXKR6x Live Thunder - Avaliando e Divulgando Canais\n",
        "Wed Nov 12 21:10:52 +0000 2014\n",
        "None\n",
        "RT @naaee_britt: This weather makes me want gumbo.\ud83d\ude15\n",
        "Wed Nov 12 21:10:52 +0000 2014\n",
        "None\n",
        "RT @CNNMoney: Are hackers trying to mess with our weather forecasts? http://t.co/LXNyhKuEDJ via @Jose_Pagliery #cybersecurity http://t.co/7\u2026"
       ]
      },
      {
       "output_type": "stream",
       "stream": "stdout",
       "text": [
        "\n",
        "Wed Nov 12 21:10:52 +0000 2014\n",
        "None\n",
        "@cadymmoorefield yall are hot\ud83d\udd25\ud83d\udd25\ud83d\udd25\n",
        "Wed Nov 12 21:10:52 +0000 2014\n",
        "None\n",
        "Hi @Harry_Styles you are the sun shine of my life, I think I'm addicted to your light. Please can you follow me ? You will make my life \ud83d\udc9e234\n",
        "Wed Nov 12 21:10:52 +0000 2014\n",
        "None\n",
        "RT @CNNMoney: Are hackers trying to mess with our weather forecasts? http://t.co/LXNyhKuEDJ via @Jose_Pagliery #cybersecurity http://t.co/7\u2026\n",
        "Wed Nov 12 21:10:52 +0000 2014\n",
        "None\n",
        "Hot Deals : http://t.co/zVo49aSKmT #76101 SONNET Tempo Pro TSATA6-SSDPR-E2 - 6Gb/s SATA PCI Express 2.5\" SSD Ca... http://t.co/ciuyY8Qgog\n",
        "Wed Nov 12 21:10:52 +0000 2014\n",
        "None\n",
        "RT @emily_paige5: I ain't about pumping gas in this cold weather. \ud83d\ude10\n",
        "Wed Nov 12 21:10:52 +0000 2014\n",
        "None\n",
        "It is freezing in my house dude"
       ]
      },
      {
       "output_type": "stream",
       "stream": "stdout",
       "text": [
        "\n",
        "Wed Nov 12 21:10:52 +0000 2014\n",
        "None\n",
        "RT @TeamCoco: ICYMI: #Conan's @SonsOfAnarchy Cold Open -&gt; http://t.co/AcP8fdsDYP http://t.co/k1bAd1KVik\n",
        "Wed Nov 12 21:10:52 +0000 2014\n",
        "None\n",
        "RT @LukeAdams95: a cold room is everything when it comes to sleep\n",
        "Wed Nov 12 21:10:52 +0000 2014\n",
        "None\n",
        "RT @mirsaaaa_: Les mecs ils jugent au physique sur twitter, apr\u00e8s 3 sky en boite \u00e7a s'fait sucer par un pok\u00e9mon rare dans la clio..."
       ]
      },
      {
       "output_type": "stream",
       "stream": "stdout",
       "text": [
        "\n",
        "Wed Nov 12 21:10:52 +0000 2014\n",
        "None\n",
        "RT @SpeakComedy: College be like\n",
        "Housing: $2,980\n",
        "Meal plan: $1,457\n",
        "Books: $1,429\n",
        "Enrollment: $983\n",
        "Air: $3,274\n",
        "Grass: $4,284\n",
        "Sidewalk: $5,28\u2026\n",
        "Wed Nov 12 21:10:52 +0000 2014\n",
        "None\n",
        "Weather Update. http://t.co/Cuiw0UONPG 16:10:52\n",
        "Wed Nov 12 21:10:52 +0000 2014\n",
        "None\n",
        "Oklahoma City #Thunder opens preseason hoping to move the ball - http://t.co/mfiqPXgT0R http://t.co/vgt2nWzOL2"
       ]
      },
      {
       "output_type": "stream",
       "stream": "stdout",
       "text": [
        "\n",
        "Wed Nov 12 21:10:53 +0000 2014\n",
        "None\n",
        "I used to have this super cold Nike hood with fleece in the hood, it was off the chain. :(\n",
        "Wed Nov 12 21:10:53 +0000 2014\n",
        "None\n",
        "RT @ArianaGrande: #LoveMeHarder entered the top 10 on @billboard hot 100 this week!! thank u so much luvs!!!!! https://t.co/NIYYO8CY4t http\u2026\n",
        "Wed Nov 12 21:10:53 +0000 2014\n",
        "None\n",
        "throwin it back.. this weather makes me all types of nostalgic\ud83d\udcadhttps://t.co/itbKYapMyN\n",
        "Wed Nov 12 21:10:53 +0000 2014\n",
        "None\n",
        "- Its Cold &amp; I'm Alone\n",
        "Wed Nov 12 21:10:53 +0000 2014\n",
        "None\n",
        "RT @SORRYNOTSOORRY: WHY THE FUCK IS IT SO COLD OUT"
       ]
      },
      {
       "output_type": "stream",
       "stream": "stdout",
       "text": [
        "\n",
        "Wed Nov 12 21:10:53 +0000 2014\n",
        "None\n",
        "Wearing a scarf not only keeps me warm but also doubles as a bib (I realize as I'm cleaning out collected crumbs)\n",
        "Wed Nov 12 21:10:53 +0000 2014\n",
        "None\n",
        "New Classical hot Turquoise cute tibet silver Bracelet H-789  via eBay http://t.co/lzqw86dDGs http://t.co/iC9xnlytkd"
       ]
      },
      {
       "output_type": "stream",
       "stream": "stdout",
       "text": [
        "\n",
        "Wed Nov 12 21:10:53 +0000 2014\n",
        "None\n",
        "Living on macaroni &amp; cheese solely because it's a hot lunch in a cold world."
       ]
      },
      {
       "output_type": "stream",
       "stream": "stdout",
       "text": [
        "\n",
        "Wed Nov 12 21:10:53 +0000 2014\n",
        "None\n",
        "storm on youtube!\n",
        "Wed Nov 12 21:10:53 +0000 2014\n",
        "None\n",
        "RT @LukeAdams95: a cold room is everything when it comes to sleep"
       ]
      },
      {
       "output_type": "stream",
       "stream": "stdout",
       "text": [
        "\n",
        "Wed Nov 12 21:10:53 +0000 2014\n",
        "None\n",
        "\u201c@denicelugo2: ITS FUCKEN COLD\u201d my DMs are warm \ud83d\ude48\n",
        "Wed Nov 12 21:10:53 +0000 2014\n",
        "None\n",
        "@magischeswort @alihahdnaid A cat gives you purpose even if you're in a TV coma. As long as you're warm, you're useful!\n",
        "Wed Nov 12 21:10:53 +0000 2014\n",
        "None\n",
        "RT @MeninistTweet: Tell me I'm beautiful, not hot. I'm not a temperature.\n",
        "Wed Nov 12 21:10:53 +0000 2014\n",
        "None\n",
        "believe.in.bieber_'s video http://t.co/P56O5miQQJ\ud83d\ude0d\ud83d\udd25\ud83d\udca6\ud83d\udc45\ud83d\udc45 omg he's so hot! \ud83d\ude1b\ud83d\ude1b @DaniellaSx0\n",
        "Wed Nov 12 21:10:53 +0000 2014\n",
        "None\n",
        "The weather actually lied to me today"
       ]
      },
      {
       "output_type": "stream",
       "stream": "stdout",
       "text": [
        "\n",
        "Wed Nov 12 21:10:53 +0000 2014\n",
        "None\n",
        "#porn,#sex,#hot,#romance,#desi,#teen, | #Arab | horny arab teen  http://t.co/Z81PkC9Y7m\n",
        "Wed Nov 12 21:10:53 +0000 2014\n",
        "None\n",
        "You can look all over, but you'll never find ((hot sh*t)) like mine.\ud83c\udfb6\n",
        "Wed Nov 12 21:10:53 +0000 2014\n",
        "None\n",
        "\ud83c\udf34\n",
        "\n",
        "@Nashgrier \n",
        "\n",
        "follow me please sunshine\n",
        "\n",
        "\ud83c\udf34x34 http://t.co/H9ivmg0SC9"
       ]
      },
      {
       "output_type": "stream",
       "stream": "stdout",
       "text": [
        "\n",
        "Wed Nov 12 21:10:53 +0000 2014\n",
        "None\n",
        "Gostei de um v\u00eddeo @YouTube de @udrezzy http://t.co/YtmShrwkP4 GTA V Online - Corrida da Hot Wheels! #26 / O LOOPING VAGINA!\n",
        "Wed Nov 12 21:10:53 +0000 2014\n",
        "None\n",
        "It's not cold thank god\n",
        "Wed Nov 12 21:10:53 +0000 2014\n",
        "None\n",
        "RT @DunkinPhilly: Need a pick-me-up? Grab a Large or XL Hot Coffee from DD! You can score prizes from http://t.co/5CYv7J9s58 or DD! #DDGoHo\u2026\n",
        "Wed Nov 12 21:10:53 +0000 2014\n",
        "None\n",
        "RT @smilebcniall_: @NiallOfficial \n",
        "Hi Sunshine !\ud83d\udc95\n",
        "How are you ?\n",
        "I'm so proud of you \ud83d\udc96\n",
        "Can you follow me please ?\ud83d\udc95\n",
        "I love you more than ever\u2026"
       ]
      },
      {
       "output_type": "stream",
       "stream": "stdout",
       "text": [
        "\n",
        "Wed Nov 12 21:10:53 +0000 2014\n",
        "None\n",
        "@zaynmalik \u2741no matter where,no matter when I'll be there for you till the end.follow me my sunshine it would mean the world to me\u2741x41.691\n",
        "Wed Nov 12 21:10:53 +0000 2014\n",
        "None\n",
        "Hot Deals : http://t.co/408POzK15i #76101 Lenovo ThinkServer RAID 500 Upgrade key for Advanced RAID - Serial At... http://t.co/ywROBs25RA"
       ]
      },
      {
       "output_type": "stream",
       "stream": "stdout",
       "text": [
        "\n",
        "Wed Nov 12 21:10:53 +0000 2014\n",
        "None\n",
        "RT @_ryleesmiley: unpopular opinion: I like cold weather\n",
        "Wed Nov 12 21:10:53 +0000 2014\n",
        "None\n",
        "Weather Update. http://t.co/axAMjAOKc1 16:10:53\n",
        "Wed Nov 12 21:10:53 +0000 2014\n",
        "None\n",
        "RT @OlioRestaurant: There is still time!! We are still collecting warm winter coats for Backyard Humanitarian's winter coat drive.... http:\u2026\n",
        "Wed Nov 12 21:10:53 +0000 2014\n",
        "None\n",
        "Babe please follow me, \n",
        "It would mean so much\n",
        "I love you sunshine \ud83d\udc9c\ud83d\udc96\ud83d\ude4a\n",
        "\n",
        "@Nashgrier 424"
       ]
      },
      {
       "output_type": "stream",
       "stream": "stdout",
       "text": [
        "\n",
        "Wed Nov 12 21:10:53 +0000 2014\n",
        "None\n",
        "The  cold is here. You're gonna need one of these Saturday.  I'll have them  available at the tailgate. $25 http://t.co/XGsvXSOXSb\n",
        "Wed Nov 12 21:10:53 +0000 2014\n",
        "None\n",
        "@foundingmom doesn't your mouse hand get cold? Mine does! @WendySmit14\n",
        "Wed Nov 12 21:10:53 +0000 2014\n",
        "None\n",
        "@Nashgrier Hello sunshine would you please make me the happiest girl on planet with your follow? i love you so much nash xx182"
       ]
      },
      {
       "output_type": "stream",
       "stream": "stdout",
       "text": [
        "\n",
        "Wed Nov 12 21:10:53 +0000 2014\n",
        "None\n",
        "Careful warming up your car. A #Brampton man lost his Mercedes in seconds today http://t.co/msFyidqDhW\n",
        "Wed Nov 12 21:10:53 +0000 2014\n",
        "None\n",
        "I think I'm addicted to sriracha #hot #fire"
       ]
      },
      {
       "output_type": "stream",
       "stream": "stdout",
       "text": [
        "\n",
        "Wed Nov 12 21:10:54 +0000 2014\n",
        "None\n",
        "Wednesday!\n",
        "\n",
        "7pm est Cold War Radio LIVE (405 2)\n",
        "8pm CSC Talk Radio\n",
        "9pm Millennials LIVE\n",
        "10pm HDNR LIVE\n",
        "\n",
        "http://t.co/Pd3eAo6fej\n",
        "Wed Nov 12 21:10:54 +0000 2014\n",
        "None\n",
        "@brianna_jordan #WomanCrushWednesday http://t.co/34pAOwRv2u so damn sexy and hot with a very cute friend :) xo &lt;3 http://t.co/WBoPyoCVS9\n",
        "Wed Nov 12 21:10:53 +0000 2014\n",
        "None\n",
        "So bring on the rain and bring on the thunder\n",
        "Wed Nov 12 21:10:54 +0000 2014\n",
        "None\n",
        "@Aaroosa_M hey sunshine \u2600 ,do you want to follow me, please? \ud83d\udc8b x \u2665\n",
        "Wed Nov 12 21:10:54 +0000 2014\n",
        "None\n",
        "i love sweatpants &amp; hoodie weather"
       ]
      },
      {
       "output_type": "stream",
       "stream": "stdout",
       "text": [
        "\n",
        "Wed Nov 12 21:10:54 +0000 2014\n",
        "None\n",
        "@TheMattEspinosa #favmattpic i love this one,you are my sunshine,my inspiration.Please follow me,i love you https://t.co/qgxLA7RUMU x17"
       ]
      },
      {
       "output_type": "stream",
       "stream": "stdout",
       "text": [
        "\n",
        "Wed Nov 12 21:10:54 +0000 2014\n",
        "None\n",
        "xvideos: Hot blonde uses all holes to orgasmic delight #movie #music #ass #lol #video http://t.co/RvRNaWuaOA\n",
        "Wed Nov 12 21:10:54 +0000 2014\n",
        "None\n",
        "RT @AstroN8: Five years on, this is still being passed off as real. Folks, it's a composite shot of a shuttle rollout and clouds. http://t.\u2026"
       ]
      },
      {
       "output_type": "stream",
       "stream": "stdout",
       "text": [
        "\n",
        "Wed Nov 12 21:10:54 +0000 2014\n",
        "None\n",
        "SD weather is amazing\n",
        "Wed Nov 12 21:10:54 +0000 2014\n",
        "None\n",
        "Perfect weather for Starbucks \ud83d\udc4c"
       ]
      },
      {
       "output_type": "stream",
       "stream": "stdout",
       "text": [
        "\n",
        "Wed Nov 12 21:10:54 +0000 2014\n",
        "None\n",
        "Photo: robbiedarkphoto: Jake Vautier in the clouds http://t.co/g5qDVZGNlI\n",
        "Wed Nov 12 21:10:54 +0000 2014\n",
        "None\n",
        "RT @BCFCMITCH: @HenriJohnsonn she so cute man I just love the way you let it into your kitchen so it's nice and warm so she don't rust in t\u2026"
       ]
      },
      {
       "output_type": "stream",
       "stream": "stdout",
       "text": [
        "\n",
        "Wed Nov 12 21:10:54 +0000 2014\n",
        "None\n",
        "\u05de\u05d0\u05e8\u05e7 \u05e7\u05d5\u05d6\u05dc\u05e7 \u05d5-\"Sun Kill Moon\" \u05d1\u05e7\u05d0\u05d1\u05e8 \u05dc\u05e4\u05e8\u05d9\u05d8\u05e0\u05d3\u05e8\u05e1. \u05d4\u05d0\u05d6\u05d9\u05e0\u05d5\n",
        "http://t.co/tsAsTPsQrL http://t.co/a2gDrllkAT\n",
        "Wed Nov 12 21:10:54 +0000 2014\n",
        "None\n",
        "@FreestyleFinton @NorthernCasual the little pork pies served hot out of the oven in Yorkshire are fantastic though\n",
        "Wed Nov 12 21:10:54 +0000 2014\n",
        "None\n",
        "Apply to hot new #iOS and #Mobile jobs! #apple #android #tweetmyjobs #ipad #iphone #tech #app #apps #jobs https://t.co/xQgJR4GLNB\n",
        "Wed Nov 12 21:10:54 +0000 2014\n",
        "None\n",
        "\ud83d\udd25\ud83d\udd25\ud83d\udd25\ud83d\udd25\ud83d\udd25\ud83d\udd25\ud83d\udd25\n",
        "\n",
        "Calum Hood from 5sos\n",
        "\n",
        "Follow me bc ur hot like a candle flame and I wanna blow you\ud83d\udca5\n",
        "\n",
        "Plz don't sass me\n",
        "\n",
        "@Calum5SOS\n",
        "\n",
        "\ud83d\udd25\ud83d\udd25\ud83d\udd25\ud83d\udd25\ud83d\udd25\ud83d\udd25\ud83d\udd25\n",
        "\n",
        "x2\n",
        "Wed Nov 12 21:10:54 +0000 2014\n",
        "None\n",
        "RT @_SwampFamily_: Wishing I could have been at @Michael_Mott's Where a The Sky Ends  Concert \ud83d\ude1e \n",
        "It sounds like it was amazing \u263a\ufe0f"
       ]
      },
      {
       "output_type": "stream",
       "stream": "stdout",
       "text": [
        "\n",
        "Wed Nov 12 21:10:54 +0000 2014\n",
        "None\n",
        "@TimHortons @taylorswift13 HEY CAN YOU ASK THE TIM HORTONS IN THUNDER BAY ONTARIO TO MAKE THESE\n",
        "Wed Nov 12 21:10:54 +0000 2014\n",
        "None\n",
        "RT @PornoAnime: Hot #Asian\n",
        "\n",
        "@Candy_Kiss90 @PornoBrazil @3rdAlarm69 @Onlybadchicks @Bmore_horny @GiaJordin @18_HOT_18 @nlpantyhose http://t.\u2026\n",
        "Wed Nov 12 21:10:54 +0000 2014\n",
        "None\n",
        "RT @LukeAdams95: a cold room is everything when it comes to sleep"
       ]
      },
      {
       "output_type": "stream",
       "stream": "stdout",
       "text": [
        "\n",
        "Wed Nov 12 21:10:54 +0000 2014\n",
        "None\n",
        "Hey my sunshine!!! \n",
        "\ud83d\ude48Not be sad please\ud83d\ude48 \n",
        "~~be happy for me~~\n",
        "you mean everything to me!\n",
        "please follow me\u2753\n",
        "ILYSM @zaynmalik 9.246\n",
        "Wed Nov 12 21:10:54 +0000 2014\n",
        "None\n",
        "#ass,#anal,#porn,#fuck,#cum,#hot,#sex | #Milfs | Mardi Gras Milf Is Almost Perfect  http://t.co/3lJaPyAVkU"
       ]
      },
      {
       "output_type": "stream",
       "stream": "stdout",
       "text": [
        "\n",
        "Wed Nov 12 21:10:54 +0000 2014\n",
        "None\n",
        "RT @NiallOfficial: @ralpharry it's on sky arts now"
       ]
      },
      {
       "output_type": "stream",
       "stream": "stdout",
       "text": [
        "\n",
        "Wed Nov 12 21:10:54 +0000 2014\n",
        "None\n",
        "Weather Update. http://t.co/ev5avTvT64 16:10:54\n",
        "Wed Nov 12 21:10:54 +0000 2014\n",
        "None\n",
        "If the weather was like this everyday, I would be a happy Matt\n",
        "Wed Nov 12 21:10:54 +0000 2014\n",
        "None\n",
        "@Northendfit Have you seen our teeth whitening sun bed kit? It allows you to whiten your teeth whilst you tan \ud83d\ude04 http://t.co/9pzRurq8ZM"
       ]
      },
      {
       "output_type": "stream",
       "stream": "stdout",
       "text": [
        "\n",
        "Wed Nov 12 21:10:54 +0000 2014\n",
        "None\n",
        "RT @captnmac36: I laugh at everyone complaining how cold it is in Eville. You don't know cold... #stcloud #15inches\n",
        "Wed Nov 12 21:10:54 +0000 2014\n",
        "None\n",
        "@zaynmalik Hi sunshine.\ud83d\udc96\n",
        "April 10th is my bday,can you follow me please?\ud83d\udc9e\ud83d\udc9e\n",
        "I love you so much\ud83d\udc9d\ud83d\udc96\ud83d\udc9e   x163\n",
        "Wed Nov 12 21:10:54 +0000 2014\n",
        "None\n",
        "Been out in this weather all day; I just want a hot meal, a snuggie and Netflix"
       ]
      },
      {
       "output_type": "stream",
       "stream": "stdout",
       "text": [
        "\n",
        "Wed Nov 12 21:10:54 +0000 2014\n",
        "None\n",
        "RT @LukeAdams95: a cold room is everything when it comes to sleep"
       ]
      },
      {
       "output_type": "stream",
       "stream": "stdout",
       "text": [
        "\n",
        "Wed Nov 12 21:10:55 +0000 2014\n",
        "None\n",
        "I go from being red hot to being absolutely freezing in a matter of seconds, my body temperature is being bipolar rn"
       ]
      },
      {
       "output_type": "stream",
       "stream": "stdout",
       "text": [
        "\n",
        "Wed Nov 12 21:10:55 +0000 2014\n",
        "None\n",
        "@harry_styles hi sunshine\u2600, could you please follow me and @stylesdrxams? We're so excited for #FOUR \u2665 love you, thanks! x3,824"
       ]
      },
      {
       "output_type": "stream",
       "stream": "stdout",
       "text": [
        "\n",
        "Wed Nov 12 21:10:55 +0000 2014\n",
        "None\n",
        "\ud83c\udf3f\ud83c\udf38\ud83c\udf3f\ud83c\udf38\ud83c\udf3f\ud83c\udf38\n",
        "Hi sunshine @ArianaGrande\n",
        "You mean the world to me so you'll make my life if you just follow me.\n",
        "Je t'aime. MERCI. x962\n",
        "\ud83c\udf3f\ud83c\udf38\ud83c\udf3f\ud83c\udf38\ud83c\udf3f\ud83c\udf38\n",
        "Wed Nov 12 21:10:55 +0000 2014\n",
        "None\n",
        "Sky Kid \u226a\u7720\u3044\u2026\u304c\u8d77\u304d\u308b \u8d77\u304d\u308b\u304b\u3089\u3082\u3046\u5c11\u3057\u3060\u3051\u2026\u226b\n",
        "Wed Nov 12 21:10:55 +0000 2014\n",
        "None\n",
        "RT @grove_uprising: Tonight at the Uprising we will discuss the LOVING truth of sexual identity,weather your straight,gay,lesbian,bi,trans,\u2026\n",
        "Wed Nov 12 21:10:55 +0000 2014\n",
        "None\n",
        "@louisxvoguex you're like a \ud83c\udf08 in the rain :)"
       ]
      },
      {
       "output_type": "stream",
       "stream": "stdout",
       "text": [
        "\n",
        "Wed Nov 12 21:10:55 +0000 2014\n",
        "None\n",
        "http://t.co/xSJKnVEp4P #bbw how #SinfulSunday #nsfw #adult #porn #Hot bbw tgp video http://t.co/WJfkvWC1Kk\n",
        "Wed Nov 12 21:10:55 +0000 2014\n",
        "None\n",
        "RT @Brieyonce: Cold. RT @Breaking911: Delta Airlines Lost a Mans Dog So They Gave Him a $200 Credit - http://t.co/th40NW69Tk http://t.co/EA\u2026\n",
        "Wed Nov 12 21:10:55 +0000 2014\n",
        "None\n",
        "@Real_Liam_Payne \ud83d\udc95\ud83d\udc95\n",
        "I don't exist if I don't have you, the sun doesn't shine, the world doesn't turn. Lots of love from Italy.\ud83d\udc98 \n",
        "\ud83d\udc9d\ud83d\udc9dh\n",
        "Wed Nov 12 21:10:55 +0000 2014\n",
        "None\n",
        "I think I'm catching a cold \ud83d\ude29"
       ]
      },
      {
       "output_type": "stream",
       "stream": "stdout",
       "text": [
        "\n",
        "Wed Nov 12 21:10:55 +0000 2014\n",
        "None\n",
        "Ho\u015fsun ama Bo\u015fsun ESK\u0130\u015eEH\u0130R... IYIKI ICINDE SEWDIKLERIMIZ WAR :)))) http://t.co/aJl5HhI1Jg\n",
        "Wed Nov 12 21:10:55 +0000 2014\n",
        "None\n",
        "RT @ioopsidols: @Harry_Styles hi sunshine\n",
        "I made this for you.\n",
        "If you see it,let me know.\n",
        "I love you. http://t.co/gWmownWzAn"
       ]
      },
      {
       "output_type": "stream",
       "stream": "stdout",
       "text": [
        "\n",
        "Wed Nov 12 21:10:55 +0000 2014\n",
        "None\n",
        "RT @Evaroron: @BleuishBleu U know what I like about your Pic; How the Stars in your eyes, light up the sky http://t.co/SxHv8mrjrs\n",
        "Wed Nov 12 21:10:55 +0000 2014\n",
        "None\n",
        "I just want a hot chocolate with BIG marshmallows and sit on the couch listening to country...."
       ]
      },
      {
       "output_type": "stream",
       "stream": "stdout",
       "text": [
        "\n",
        "Wed Nov 12 21:10:55 +0000 2014\n",
        "None\n",
        "Milli e\u011fitim bakan\u0131 sen bizim s\u0131n\u0131f\u0131 da\u011f\u0131tt\u0131r\u0131yomu\u015fsun hay\u0131rd\u0131r\ud83d\ude20\n",
        "Wed Nov 12 21:10:55 +0000 2014\n",
        "None\n",
        "New Classical Natural hot Turquoise cute tibet silver Bracelet H-120  via eBay http://t.co/GW3ENy6vb4 http://t.co/RDDpmv5Y95\n",
        "Wed Nov 12 21:10:55 +0000 2014\n",
        "None\n",
        "I'm way to hot right now for it to be so cold out side...\n",
        "Wed Nov 12 21:10:55 +0000 2014\n",
        "None\n",
        "it's kinda cold right now ..\n",
        "Wed Nov 12 21:10:55 +0000 2014\n",
        "None\n",
        "RT @RTPInstitute: November Orange Sulphur #butterfly http://t.co/IR1C34eSpP #insects #conservation #nature #science #weather #climate http:\u2026\n",
        "Wed Nov 12 21:10:55 +0000 2014\n",
        "None\n",
        "RT @MeninistTweet: Tell me I'm beautiful, not hot. I'm not a temperature.\n",
        "Wed Nov 12 21:10:55 +0000 2014\n",
        "None\n",
        "Leaving work before the sun goes down \ud83d\udc4d\ud83d\udc4d"
       ]
      },
      {
       "output_type": "stream",
       "stream": "stdout",
       "text": [
        "\n",
        "Wed Nov 12 21:10:55 +0000 2014\n",
        "None\n",
        "@Michael5SOS\n",
        "\n",
        "\u2605\u266cMichael Clifford from 5sos\u266c\u2605\n",
        "\n",
        " \u2661I love you, sunshine\u2661\n",
        "\n",
        "\u263eit would mean so much to me\u263d\n",
        "\n",
        "\u2716To get your follow. Please?\u2716\n",
        "\n",
        "\u266c19.249\n",
        "Wed Nov 12 21:10:55 +0000 2014\n",
        "None\n",
        "Sometimes he remembers the tears they shared. Once again hands miss hands and the dark streets are lonely and crystal sad. Cue the rain\n",
        "Wed Nov 12 21:10:55 +0000 2014\n",
        "None\n",
        "Starry Sky in Spring #myfavotomegame\n",
        "Wed Nov 12 21:10:55 +0000 2014\n",
        "None\n",
        "RT @lovdrauhl: SMILE BC JUSTIN FOLLOWED YOU\n",
        "HE KNOWS YOU EXIST SUNSHINE"
       ]
      },
      {
       "output_type": "stream",
       "stream": "stdout",
       "text": [
        "\n",
        "Wed Nov 12 21:10:55 +0000 2014\n",
        "None\n",
        "RT @Expedia: Let's go to Q3: What is your favorite way to spend a winter day in a warm weather destination? #ExpediaChat"
       ]
      },
      {
       "output_type": "stream",
       "stream": "stdout",
       "text": [
        "\n",
        "Wed Nov 12 21:10:55 +0000 2014\n",
        "None\n",
        "Mi t\u00eda me ha mandado un v\u00eddeo en el que salen poni\u00e9ndoselo e intenta chupar el aire ay, mira si es que es m\u00e1s sunshine.\n",
        "Wed Nov 12 21:10:55 +0000 2014\n",
        "None\n",
        "I regret 100% of the things I do around hot guys :')"
       ]
      },
      {
       "output_type": "stream",
       "stream": "stdout",
       "text": [
        "\n",
        "Wed Nov 12 21:10:55 +0000 2014\n",
        "None\n",
        "RT @njhsongs: He is so hot \ud83d\ude0d @onedirection Artist Of The Year #AMAs http://t.co/UcrgAmsNGN\n",
        "Wed Nov 12 21:10:55 +0000 2014\n",
        "None\n",
        "RT @ArianaGrande: \ud83d\ude38\ud83d\ude38\ud83d\ude38\u201c@Savan_Kotecha: \"LMH\" in the top 10 on the hot 100! Thank you everyone who's requested &amp; bought the song! @ArianaGran\u2026\n",
        "Wed Nov 12 21:10:55 +0000 2014\n",
        "None\n",
        "Weather Update. http://t.co/LjfJAIW5tK 16:10:55\n",
        "Wed Nov 12 21:10:55 +0000 2014\n",
        "None\n",
        "RT @hosie_: why don't you have some dirty hot sex with me\n",
        "Wed Nov 12 21:10:55 +0000 2014\n",
        "None\n",
        "I have love/hate for this weather\n",
        "Wed Nov 12 21:10:55 +0000 2014\n",
        "None\n",
        "RT @ZaibatsuPlanet: Cold Fusion by cresendephotography #photo http://t.co/I8BepHrDUA"
       ]
      },
      {
       "output_type": "stream",
       "stream": "stdout",
       "text": [
        "\n",
        "Wed Nov 12 21:10:55 +0000 2014\n",
        "None\n",
        "RT @ChuckNellis: I'll laugh my ass off listening to Liberals blame zero degree temps on #globalwarming. It's just cycles, there's nothing n\u2026"
       ]
      },
      {
       "output_type": "stream",
       "stream": "stdout",
       "text": [
        "\n",
        "Wed Nov 12 21:10:55 +0000 2014\n",
        "None\n",
        "It's too cold for me to leave my house again. I wish Firehouse delivered \ud83d\ude1e\n",
        "Wed Nov 12 21:10:55 +0000 2014\n",
        "None\n",
        "@Pahimar We shared an intimate hot tub experience with a really high guy.\n",
        "Wed Nov 12 21:10:55 +0000 2014\n",
        "None\n",
        "http://t.co/9HHe3TzxRj Tiger Balm Medicated Plaster RD Warm pain relief  Health Care9pcs  #deals http://t.co/fyjpT4u2XJ"
       ]
      },
      {
       "output_type": "stream",
       "stream": "stdout",
       "text": [
        "\n",
        "Wed Nov 12 21:10:55 +0000 2014\n",
        "None\n",
        "\u2600\u2600\u2600\u2600\u2600\u2600\u2600\u2600\u2600\u2600\u2600\n",
        "\n",
        "Hi sunshine @Harry_Styles\n",
        "\n",
        "My birthday is soon\n",
        "\n",
        "Please babe, can you follow me?\n",
        "\n",
        "You make me happy babe\n",
        "\n",
        "Lots of love xx\n",
        "\n",
        "x129\n",
        "Wed Nov 12 21:10:56 +0000 2014\n",
        "None\n",
        "If I liked someone they wouldn't know bc I act the same around you weather I got feelings for you or not"
       ]
      },
      {
       "output_type": "stream",
       "stream": "stdout",
       "text": [
        "\n",
        "Wed Nov 12 21:10:56 +0000 2014\n",
        "None\n",
        "RT @SarcasticRover: Science opens a notebook; \"Okay, what else is on the list of seemingly impossible things to land a robot on?\"\n",
        "\n",
        "Circles\u2026\u2026\n",
        "Wed Nov 12 21:10:56 +0000 2014\n",
        "None\n",
        "@NiallOfficial i've been thinking about you lately and I know I wanna marry you sunshine xx"
       ]
      },
      {
       "output_type": "stream",
       "stream": "stdout",
       "text": [
        "\n",
        "Wed Nov 12 21:10:56 +0000 2014\n",
        "None\n",
        "RT @EMPRESS_I: @\u267b\ufe0f\ud83c\udd98 @HackerBrigade #IOF  storm home of AlQudsTV correspondent LindaShalash father &amp; brother being held in Ramallah http://t\u2026\n",
        "Wed Nov 12 21:10:56 +0000 2014\n",
        "None\n",
        "\ud83d\udc95\ud83c\udf38\ud83d\udc95\ud83c\udf38\ud83d\udc95\n",
        "Luke Hemmings from 5SOS\n",
        "please follow me sunshine\n",
        "it would mean the absolute \ud83c\udf0d\n",
        "i love you more than anything\n",
        "@Luke5SOS \n",
        "\ud83d\udc95\ud83c\udf38\ud83d\udc95\ud83c\udf38\ud83d\udc95\n",
        "20,361"
       ]
      },
      {
       "output_type": "stream",
       "stream": "stdout",
       "text": [
        "\n",
        "Wed Nov 12 21:10:56 +0000 2014\n",
        "None\n",
        "@1AReyes2 those clouds tho!!\ud83d\udc4c\n",
        "Wed Nov 12 21:10:56 +0000 2014\n",
        "None\n",
        "@TheMattEspinosa #favmattpic i love this one,you are my sunshine,my inspiration.Please follow me,i love you https://t.co/qgxLA7RUMU x18"
       ]
      }
     ]
    },
    {
     "cell_type": "code",
     "collapsed": false,
     "input": [],
     "language": "python",
     "metadata": {},
     "outputs": []
    },
    {
     "cell_type": "code",
     "collapsed": false,
     "input": [],
     "language": "python",
     "metadata": {},
     "outputs": []
    }
   ],
   "metadata": {}
  }
 ]
}