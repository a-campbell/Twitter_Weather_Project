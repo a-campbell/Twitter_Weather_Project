{
 "metadata": {
  "name": "",
  "signature": "sha256:e72b4a3c6efbcbc40620527c300d7aec8e9fb5323eae12851acc1db4c6150155"
 },
 "nbformat": 3,
 "nbformat_minor": 0,
 "worksheets": [
  {
   "cells": [
    {
     "cell_type": "code",
     "collapsed": false,
     "input": [
      "# libraries\n",
      "import numpy as np\n",
      "import pandas as pd\n",
      "from StringIO import StringIO\n",
      "import datetime as dt\n",
      "import time\n",
      "import bs4\n",
      "import os\n",
      "import sys\n",
      "import requests"
     ],
     "language": "python",
     "metadata": {},
     "outputs": [],
     "prompt_number": 2
    },
    {
     "cell_type": "code",
     "collapsed": false,
     "input": [
      "# choose a start and end date\n",
      "startdate = dt.date(2014, 11, 21)\n",
      "enddate = dt.date(2014, 11, 21)\n",
      "\n",
      "# preparation stuff\n",
      "current = startdate\n",
      "allweatherdata = pd.DataFrame(columns = ['City', 'TemperatureF','Humidity','SeaLevelPressureIn','WindMPH','PrecipitationIn','Events','Conditions','DateUTC'])\n",
      "\n",
      "# iterate through weather data by date\n",
      "while current <= enddate:\n",
      "    urltime =  str(current.year) + \"/\" + str(current.month) + \"/\" + str(current.day)\n",
      "    current += dt.timedelta(days=1)\n",
      "    \n",
      "    # generate list of city urls with custom dates\n",
      "    mia = \"http://www.wunderground.com/history/airport/KMIA/\" + urltime + \"/DailyHistory.html?req_city=Miami&req_state=FL&req_statename=Florida&MR=1&format=1\"\n",
      "    sea = \"http://www.wunderground.com/history/airport/KBFI/\" + urltime + \"/DailyHistory.html?req_city=Seattle&req_state=WA&req_statename=Washington&MR=1&format=1\"\n",
      "    ny = \"http://www.wunderground.com/history/airport/KNYC/\" + urltime + \"/DailyHistory.html?req_city=New+York&req_state=NY&req_statename=New+York&MR=1&format=1\"\n",
      "    la = \"http://www.wunderground.com/history/airport/KCQT/\" + urltime + \"/DailyHistory.html?req_city=Los+Angeles&req_state=CA&req_statename=California&MR=1&format=1\"\n",
      "    lon = \"http://www.wunderground.com/history/airport/EGLL/\" + urltime + \"/DailyHistory.html?req_city=London&req_state=&req_statename=United+Kingdom&format=1\"\n",
      "    bos = \"http://www.wunderground.com/history/airport/KBOS/\" + urltime + \"/DailyHistory.html?req_city=Boston&req_state=MA&req_statename=Massachusetts&MR=1&format=1\"\n",
      "    chi = \"http://www.wunderground.com/history/airport/KMDW/\" + urltime + \"/DailyHistory.html?req_city=Chicago&req_state=IL&req_statename=Illinois&MR=1&format=1\"\n",
      "    cities = [mia, sea, ny, la, lon, bos, chi]\n",
      "    citynames = [\"mia\", \"sea\", \"ny\", \"la\", \"lon\", \"bos\", \"chi\"]\n",
      "    \n",
      "    # iterate through weather data by city\n",
      "    for city in range(0, len(cities)):\n",
      "        \n",
      "        url = cities[city]\n",
      "        citycol = []\n",
      "        \n",
      "        print url\n",
      "\n",
      "        weatherdata = requests.get(url)\n",
      "        weatherdata = weatherdata.content\n",
      "        weatherdata = pd.read_csv(StringIO(weatherdata), header=1)\n",
      "        weatherdata.rename(columns={\"DateUTC<br />\":\"DateUTC\", \"Sea Level PressureIn\":\"SeaLevelPressureIn\", \"Wind SpeedMPH\":\"WindMPH\"}, inplace=True)\n",
      "\n",
      "        # get rid of </br> from DateUTC weatherdata \n",
      "        for i in range(0, len(weatherdata[\"DateUTC\"])):\n",
      "            weatherdata[\"DateUTC\"][i] = weatherdata[\"DateUTC\"][i][:19]\n",
      "            \n",
      "        # convert DateUTC to datetime and only keep hourly information and add values to a series that will be a city column\n",
      "        weatherdata[\"DateUTC\"] = pd.to_datetime(weatherdata.DateUTC)\n",
      "        mcount = len(weatherdata['DateUTC'])\n",
      "        for i in range(0, len(weatherdata[\"DateUTC\"])):\n",
      "            if (24*(i+1))%((mcount/24)+1) != 0:\n",
      "                weatherdata[\"DateUTC\"][i] = 0\n",
      "            else:\n",
      "                citycol.append(citynames[city])\n",
      "                weatherdata[\"DateUTC\"][i] -= dt.timedelta(minutes = weatherdata[\"DateUTC\"][i].minute, seconds = weatherdata[\"DateUTC\"][i].second)\n",
      "                weatherdata[\"DateUTC\"][i] += dt.timedelta(hours = 1)\n",
      "        weatherdata = weatherdata[weatherdata.DateUTC != 0]\n",
      "\n",
      "        # clean unwanted columns\n",
      "        weatherdata = weatherdata.drop(['Dew PointF', 'VisibilityMPH', 'Wind Direction', 'Gust SpeedMPH', 'WindDirDegrees'], axis=1)\n",
      "        weatherdata = weatherdata.drop(weatherdata.columns[0], axis=1)\n",
      "        \n",
      "        # add city column and append data for this city to the full data set\n",
      "        weatherdata[\"City\"] = citycol        \n",
      "        allweatherdata = allweatherdata.append(weatherdata)"
     ],
     "language": "python",
     "metadata": {},
     "outputs": [
      {
       "output_type": "stream",
       "stream": "stdout",
       "text": [
        "http://www.wunderground.com/history/airport/KMIA/2014/11/21/DailyHistory.html?req_city=Miami&req_state=FL&req_statename=Florida&MR=1&format=1\n",
        "http://www.wunderground.com/history/airport/KBFI/2014/11/21/DailyHistory.html?req_city=Seattle&req_state=WA&req_statename=Washington&MR=1&format=1"
       ]
      },
      {
       "output_type": "stream",
       "stream": "stdout",
       "text": [
        "\n",
        "http://www.wunderground.com/history/airport/KNYC/2014/11/21/DailyHistory.html?req_city=New+York&req_state=NY&req_statename=New+York&MR=1&format=1"
       ]
      },
      {
       "output_type": "stream",
       "stream": "stdout",
       "text": [
        "\n",
        "http://www.wunderground.com/history/airport/KCQT/2014/11/21/DailyHistory.html?req_city=Los+Angeles&req_state=CA&req_statename=California&MR=1&format=1"
       ]
      },
      {
       "output_type": "stream",
       "stream": "stdout",
       "text": [
        "\n",
        "http://www.wunderground.com/history/airport/EGLL/2014/11/21/DailyHistory.html?req_city=London&req_state=&req_statename=United+Kingdom&format=1"
       ]
      },
      {
       "output_type": "stream",
       "stream": "stdout",
       "text": [
        "\n",
        "http://www.wunderground.com/history/airport/KBOS/2014/11/21/DailyHistory.html?req_city=Boston&req_state=MA&req_statename=Massachusetts&MR=1&format=1"
       ]
      },
      {
       "output_type": "stream",
       "stream": "stdout",
       "text": [
        "\n",
        "http://www.wunderground.com/history/airport/KMDW/2014/11/21/DailyHistory.html?req_city=Chicago&req_state=IL&req_statename=Illinois&MR=1&format=1"
       ]
      },
      {
       "output_type": "stream",
       "stream": "stdout",
       "text": [
        "\n"
       ]
      }
     ],
     "prompt_number": 20
    },
    {
     "cell_type": "code",
     "collapsed": false,
     "input": [
      "allweatherdata.head()"
     ],
     "language": "python",
     "metadata": {},
     "outputs": [
      {
       "html": [
        "<div style=\"max-height:1000px;max-width:1500px;overflow:auto;\">\n",
        "<table border=\"1\" class=\"dataframe\">\n",
        "  <thead>\n",
        "    <tr style=\"text-align: right;\">\n",
        "      <th></th>\n",
        "      <th>City</th>\n",
        "      <th>Conditions</th>\n",
        "      <th>DateUTC</th>\n",
        "      <th>Events</th>\n",
        "      <th>Humidity</th>\n",
        "      <th>PrecipitationIn</th>\n",
        "      <th>SeaLevelPressureIn</th>\n",
        "      <th>TemperatureF</th>\n",
        "      <th>WindMPH</th>\n",
        "    </tr>\n",
        "  </thead>\n",
        "  <tbody>\n",
        "    <tr>\n",
        "      <th>0</th>\n",
        "      <td> mia</td>\n",
        "      <td>   Overcast</td>\n",
        "      <td>2014-11-21 06:00:00</td>\n",
        "      <td>  NaN</td>\n",
        "      <td> 81</td>\n",
        "      <td> 0</td>\n",
        "      <td> 30.12</td>\n",
        "      <td> 72.0</td>\n",
        "      <td> 9.2</td>\n",
        "    </tr>\n",
        "    <tr>\n",
        "      <th>1</th>\n",
        "      <td> mia</td>\n",
        "      <td>   Overcast</td>\n",
        "      <td>2014-11-21 06:00:00</td>\n",
        "      <td>  NaN</td>\n",
        "      <td> 84</td>\n",
        "      <td> 0</td>\n",
        "      <td> 30.12</td>\n",
        "      <td> 72.0</td>\n",
        "      <td> 9.2</td>\n",
        "    </tr>\n",
        "    <tr>\n",
        "      <th>2</th>\n",
        "      <td> mia</td>\n",
        "      <td> Light Rain</td>\n",
        "      <td>2014-11-21 07:00:00</td>\n",
        "      <td> Rain</td>\n",
        "      <td> 90</td>\n",
        "      <td> 0</td>\n",
        "      <td> 30.11</td>\n",
        "      <td> 71.1</td>\n",
        "      <td> 6.9</td>\n",
        "    </tr>\n",
        "    <tr>\n",
        "      <th>3</th>\n",
        "      <td> mia</td>\n",
        "      <td> Light Rain</td>\n",
        "      <td>2014-11-21 07:00:00</td>\n",
        "      <td> Rain</td>\n",
        "      <td> 93</td>\n",
        "      <td> 0</td>\n",
        "      <td> 30.12</td>\n",
        "      <td> 70.0</td>\n",
        "      <td> 5.8</td>\n",
        "    </tr>\n",
        "    <tr>\n",
        "      <th>4</th>\n",
        "      <td> mia</td>\n",
        "      <td> Light Rain</td>\n",
        "      <td>2014-11-21 08:00:00</td>\n",
        "      <td> Rain</td>\n",
        "      <td> 93</td>\n",
        "      <td> 0</td>\n",
        "      <td> 30.11</td>\n",
        "      <td> 70.0</td>\n",
        "      <td> 6.9</td>\n",
        "    </tr>\n",
        "  </tbody>\n",
        "</table>\n",
        "</div>"
       ],
       "metadata": {},
       "output_type": "pyout",
       "prompt_number": 23,
       "text": [
        "  City  Conditions             DateUTC Events  Humidity  PrecipitationIn  \\\n",
        "0  mia    Overcast 2014-11-21 06:00:00    NaN        81                0   \n",
        "1  mia    Overcast 2014-11-21 06:00:00    NaN        84                0   \n",
        "2  mia  Light Rain 2014-11-21 07:00:00   Rain        90                0   \n",
        "3  mia  Light Rain 2014-11-21 07:00:00   Rain        93                0   \n",
        "4  mia  Light Rain 2014-11-21 08:00:00   Rain        93                0   \n",
        "\n",
        "   SeaLevelPressureIn  TemperatureF WindMPH  \n",
        "0               30.12          72.0     9.2  \n",
        "1               30.12          72.0     9.2  \n",
        "2               30.11          71.1     6.9  \n",
        "3               30.12          70.0     5.8  \n",
        "4               30.11          70.0     6.9  "
       ]
      }
     ],
     "prompt_number": 23
    }
   ],
   "metadata": {}
  }
 ]
}