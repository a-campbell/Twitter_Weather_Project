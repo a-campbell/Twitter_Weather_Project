{
 "metadata": {
  "name": "",
  "signature": "sha256:c3f2bf06c974f01d216f1f738e99dabf8227946fdcda1e51b7794990e9ce7d00"
 },
 "nbformat": 3,
 "nbformat_minor": 0,
 "worksheets": [
  {
   "cells": [
    {
     "cell_type": "code",
     "collapsed": false,
     "input": [
      "# libraries\n",
      "import numpy as np\n",
      "import pandas as pd\n",
      "from StringIO import StringIO\n",
      "import datetime as dt\n",
      "import time\n",
      "import bs4\n",
      "import os\n",
      "import sys\n",
      "import requests"
     ],
     "language": "python",
     "metadata": {},
     "outputs": [],
     "prompt_number": 1
    },
    {
     "cell_type": "code",
     "collapsed": false,
     "input": [
      "# choose a start and end date\n",
      "startdate = dt.date(2014, 11, 14)\n",
      "enddate = dt.date(2014, 11, 15)\n",
      "\n",
      "# preparation stuff\n",
      "current = startdate\n",
      "allweatherdata = pd.DataFrame(columns = ['City', 'TemperatureF','Humidity','SeaLevelPressureIn','WindMPH','PrecipitationIn','Events','Conditions','DateUTC'])\n",
      "\n",
      "# iterate through weather data by date\n",
      "while current <= enddate:\n",
      "    urltime =  str(current.year) + \"/\" + str(current.month) + \"/\" + str(current.day)\n",
      "    current += dt.timedelta(days=1)\n",
      "    \n",
      "    # generate list of city urls with custom dates\n",
      "    mia = \"http://www.wunderground.com/history/airport/KMIA/\" + urltime + \"/DailyHistory.html?req_city=Miami&req_state=FL&req_statename=Florida&MR=1&format=1\"\n",
      "    sea = \"http://www.wunderground.com/history/airport/KBFI/\" + urltime + \"/DailyHistory.html?req_city=Seattle&req_state=WA&req_statename=Washington&MR=1&format=1\"\n",
      "    ny = \"http://www.wunderground.com/history/airport/KNYC/\" + urltime + \"/DailyHistory.html?req_city=New+York&req_state=NY&req_statename=New+York&MR=1&format=1\"\n",
      "    la = \"http://www.wunderground.com/history/airport/KCQT/\" + urltime + \"/DailyHistory.html?req_city=Los+Angeles&req_state=CA&req_statename=California&MR=1&format=1\"\n",
      "    lon = \"http://www.wunderground.com/history/airport/EGLL/\" + urltime + \"/DailyHistory.html?req_city=London&req_state=&req_statename=United+Kingdom&format=1\"\n",
      "    bos = \"http://www.wunderground.com/history/airport/KBOS/\" + urltime + \"/DailyHistory.html?req_city=Boston&req_state=MA&req_statename=Massachusetts&MR=1&format=1\"\n",
      "    cities = [mia, sea, ny, la, lon, bos]\n",
      "    citynames = [\"mia\", \"sea\", \"ny\", \"la\", \"lon\", \"bos\"]\n",
      "    \n",
      "    # iterate through weather data by city\n",
      "    for city in range(0, len(cities)):\n",
      "        \n",
      "        url = cities[city]\n",
      "        citycol = []\n",
      "        \n",
      "        print url\n",
      "\n",
      "        weatherdata = requests.get(url)\n",
      "        weatherdata = weatherdata.content\n",
      "        weatherdata = pd.read_csv(StringIO(weatherdata), header=1)\n",
      "        weatherdata.rename(columns={\"DateUTC<br />\":\"DateUTC\", \"Sea Level PressureIn\":\"SeaLevelPressureIn\", \"Wind SpeedMPH\":\"WindMPH\"}, inplace=True)\n",
      "\n",
      "        # get rid of </br> from DateUTC weatherdata \n",
      "        for i in range(0, len(weatherdata[\"DateUTC\"])):\n",
      "            weatherdata[\"DateUTC\"][i] = weatherdata[\"DateUTC\"][i][:19]\n",
      "            \n",
      "        # convert DateUTC to datetime and only keep hourly information and add values to a series that will be a city column\n",
      "        weatherdata[\"DateUTC\"] = pd.to_datetime(weatherdata.DateUTC)\n",
      "        firstmin = weatherdata[\"DateUTC\"][0].minute\n",
      "        for i in range(0, len(weatherdata[\"DateUTC\"])):\n",
      "            if weatherdata[\"DateUTC\"][i].minute != firstmin:\n",
      "                weatherdata[\"DateUTC\"][i] = 0\n",
      "            else:\n",
      "                citycol.append(citynames[city])\n",
      "        weatherdata = weatherdata[weatherdata.DateUTC != 0]\n",
      "\n",
      "        # clean unwanted columns\n",
      "        weatherdata = weatherdata.drop(['Dew PointF', 'VisibilityMPH', 'Wind Direction', 'Gust SpeedMPH', 'WindDirDegrees'], axis=1)\n",
      "        weatherdata = weatherdata.drop(weatherdata.columns[0], axis=1)\n",
      "        \n",
      "        # add city column and append data for this city to the full data set\n",
      "        weatherdata[\"City\"] = citycol        \n",
      "        allweatherdata = allweatherdata.append(weatherdata)"
     ],
     "language": "python",
     "metadata": {},
     "outputs": [
      {
       "output_type": "stream",
       "stream": "stdout",
       "text": [
        "http://www.wunderground.com/history/airport/KMIA/2014/11/14/DailyHistory.html?req_city=Miami&req_state=FL&req_statename=Florida&MR=1&format=1\n",
        "http://www.wunderground.com/history/airport/KBFI/2014/11/14/DailyHistory.html?req_city=Seattle&req_state=WA&req_statename=Washington&MR=1&format=1"
       ]
      },
      {
       "output_type": "stream",
       "stream": "stdout",
       "text": [
        "\n",
        "http://www.wunderground.com/history/airport/KNYC/2014/11/14/DailyHistory.html?req_city=New+York&req_state=NY&req_statename=New+York&MR=1&format=1"
       ]
      },
      {
       "output_type": "stream",
       "stream": "stdout",
       "text": [
        "\n",
        "http://www.wunderground.com/history/airport/KCQT/2014/11/14/DailyHistory.html?req_city=Los+Angeles&req_state=CA&req_statename=California&MR=1&format=1"
       ]
      },
      {
       "output_type": "stream",
       "stream": "stdout",
       "text": [
        "\n",
        "http://www.wunderground.com/history/airport/EGLL/2014/11/14/DailyHistory.html?req_city=London&req_state=&req_statename=United+Kingdom&format=1"
       ]
      },
      {
       "output_type": "stream",
       "stream": "stdout",
       "text": [
        "\n",
        "http://www.wunderground.com/history/airport/KBOS/2014/11/14/DailyHistory.html?req_city=Boston&req_state=MA&req_statename=Massachusetts&MR=1&format=1"
       ]
      },
      {
       "output_type": "stream",
       "stream": "stdout",
       "text": [
        "\n",
        "http://www.wunderground.com/history/airport/KMIA/2014/11/15/DailyHistory.html?req_city=Miami&req_state=FL&req_statename=Florida&MR=1&format=1"
       ]
      },
      {
       "output_type": "stream",
       "stream": "stdout",
       "text": [
        "\n",
        "http://www.wunderground.com/history/airport/KBFI/2014/11/15/DailyHistory.html?req_city=Seattle&req_state=WA&req_statename=Washington&MR=1&format=1"
       ]
      },
      {
       "output_type": "stream",
       "stream": "stdout",
       "text": [
        "\n",
        "http://www.wunderground.com/history/airport/KNYC/2014/11/15/DailyHistory.html?req_city=New+York&req_state=NY&req_statename=New+York&MR=1&format=1"
       ]
      },
      {
       "output_type": "stream",
       "stream": "stdout",
       "text": [
        "\n",
        "http://www.wunderground.com/history/airport/KCQT/2014/11/15/DailyHistory.html?req_city=Los+Angeles&req_state=CA&req_statename=California&MR=1&format=1"
       ]
      },
      {
       "output_type": "stream",
       "stream": "stdout",
       "text": [
        "\n",
        "http://www.wunderground.com/history/airport/EGLL/2014/11/15/DailyHistory.html?req_city=London&req_state=&req_statename=United+Kingdom&format=1"
       ]
      },
      {
       "output_type": "stream",
       "stream": "stdout",
       "text": [
        "\n",
        "http://www.wunderground.com/history/airport/KBOS/2014/11/15/DailyHistory.html?req_city=Boston&req_state=MA&req_statename=Massachusetts&MR=1&format=1"
       ]
      },
      {
       "output_type": "stream",
       "stream": "stdout",
       "text": [
        "\n"
       ]
      }
     ],
     "prompt_number": 132
    },
    {
     "cell_type": "code",
     "collapsed": false,
     "input": [
      "allweatherdata.head()"
     ],
     "language": "python",
     "metadata": {},
     "outputs": [
      {
       "html": [
        "<div style=\"max-height:1000px;max-width:1500px;overflow:auto;\">\n",
        "<table border=\"1\" class=\"dataframe\">\n",
        "  <thead>\n",
        "    <tr style=\"text-align: right;\">\n",
        "      <th></th>\n",
        "      <th>City</th>\n",
        "      <th>Conditions</th>\n",
        "      <th>DateUTC</th>\n",
        "      <th>Events</th>\n",
        "      <th>Humidity</th>\n",
        "      <th>PrecipitationIn</th>\n",
        "      <th>SeaLevelPressureIn</th>\n",
        "      <th>TemperatureF</th>\n",
        "      <th>WindMPH</th>\n",
        "    </tr>\n",
        "  </thead>\n",
        "  <tbody>\n",
        "    <tr>\n",
        "      <th>0</th>\n",
        "      <td> mia</td>\n",
        "      <td> Partly Cloudy</td>\n",
        "      <td>2014-11-14 05:53:00</td>\n",
        "      <td> NaN</td>\n",
        "      <td> 87</td>\n",
        "      <td>NaN</td>\n",
        "      <td> 30.00</td>\n",
        "      <td> 69.1</td>\n",
        "      <td> Calm</td>\n",
        "    </tr>\n",
        "    <tr>\n",
        "      <th>1</th>\n",
        "      <td> mia</td>\n",
        "      <td>         Clear</td>\n",
        "      <td>2014-11-14 06:53:00</td>\n",
        "      <td> NaN</td>\n",
        "      <td> 84</td>\n",
        "      <td>NaN</td>\n",
        "      <td> 29.99</td>\n",
        "      <td> 71.1</td>\n",
        "      <td>  3.5</td>\n",
        "    </tr>\n",
        "    <tr>\n",
        "      <th>2</th>\n",
        "      <td> mia</td>\n",
        "      <td>         Clear</td>\n",
        "      <td>2014-11-14 07:53:00</td>\n",
        "      <td> NaN</td>\n",
        "      <td> 84</td>\n",
        "      <td>NaN</td>\n",
        "      <td> 29.97</td>\n",
        "      <td> 70.0</td>\n",
        "      <td>  3.5</td>\n",
        "    </tr>\n",
        "    <tr>\n",
        "      <th>3</th>\n",
        "      <td> mia</td>\n",
        "      <td>         Clear</td>\n",
        "      <td>2014-11-14 08:53:00</td>\n",
        "      <td> NaN</td>\n",
        "      <td> 93</td>\n",
        "      <td>NaN</td>\n",
        "      <td> 29.98</td>\n",
        "      <td> 68.0</td>\n",
        "      <td>  3.5</td>\n",
        "    </tr>\n",
        "    <tr>\n",
        "      <th>4</th>\n",
        "      <td> mia</td>\n",
        "      <td>         Clear</td>\n",
        "      <td>2014-11-14 09:53:00</td>\n",
        "      <td> NaN</td>\n",
        "      <td> 90</td>\n",
        "      <td>NaN</td>\n",
        "      <td> 29.98</td>\n",
        "      <td> 68.0</td>\n",
        "      <td> Calm</td>\n",
        "    </tr>\n",
        "  </tbody>\n",
        "</table>\n",
        "</div>"
       ],
       "metadata": {},
       "output_type": "pyout",
       "prompt_number": 134,
       "text": [
        "  City     Conditions             DateUTC Events  Humidity  PrecipitationIn  \\\n",
        "0  mia  Partly Cloudy 2014-11-14 05:53:00    NaN        87              NaN   \n",
        "1  mia          Clear 2014-11-14 06:53:00    NaN        84              NaN   \n",
        "2  mia          Clear 2014-11-14 07:53:00    NaN        84              NaN   \n",
        "3  mia          Clear 2014-11-14 08:53:00    NaN        93              NaN   \n",
        "4  mia          Clear 2014-11-14 09:53:00    NaN        90              NaN   \n",
        "\n",
        "   SeaLevelPressureIn  TemperatureF WindMPH  \n",
        "0               30.00          69.1    Calm  \n",
        "1               29.99          71.1     3.5  \n",
        "2               29.97          70.0     3.5  \n",
        "3               29.98          68.0     3.5  \n",
        "4               29.98          68.0    Calm  "
       ]
      }
     ],
     "prompt_number": 134
    }
   ],
   "metadata": {}
  }
 ]
}