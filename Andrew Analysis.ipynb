{
 "metadata": {
  "name": "",
  "signature": "sha256:ba76272608c901004c2dfc0d2819890778c0d0e02887b08abe3ea6a1d9dbee91"
 },
 "nbformat": 3,
 "nbformat_minor": 0,
 "worksheets": [
  {
   "cells": [
    {
     "cell_type": "code",
     "collapsed": false,
     "input": [
      "import requests \n",
      "import StringIO\n",
      "import zipfile\n",
      "import numpy as np\n",
      "import pandas as pd\n",
      "\n",
      "%matplotlib inline \n",
      "import matplotlib.pyplot as plt"
     ],
     "language": "python",
     "metadata": {},
     "outputs": [],
     "prompt_number": 8
    },
    {
     "cell_type": "code",
     "collapsed": false,
     "input": [
      "tw = pd.read_csv('weathersentiment.csv')"
     ],
     "language": "python",
     "metadata": {},
     "outputs": [
      {
       "output_type": "stream",
       "stream": "stderr",
       "text": [
        "/Users/ACampbell/anaconda/lib/python2.7/site-packages/pandas/io/parsers.py:1139: DtypeWarning: Columns (11,16) have mixed types. Specify dtype option on import or set low_memory=False.\n",
        "  data = self._reader.read(nrows)\n"
       ]
      }
     ],
     "prompt_number": 3
    },
    {
     "cell_type": "code",
     "collapsed": false,
     "input": [
      "tw.head()"
     ],
     "language": "python",
     "metadata": {},
     "outputs": [
      {
       "html": [
        "<div style=\"max-height:1000px;max-width:1500px;overflow:auto;\">\n",
        "<table border=\"1\" class=\"dataframe\">\n",
        "  <thead>\n",
        "    <tr style=\"text-align: right;\">\n",
        "      <th></th>\n",
        "      <th>Unnamed: 0</th>\n",
        "      <th>tid</th>\n",
        "      <th>DateUTC</th>\n",
        "      <th>lon</th>\n",
        "      <th>lat</th>\n",
        "      <th>language</th>\n",
        "      <th>text</th>\n",
        "      <th>blob</th>\n",
        "      <th>polarity</th>\n",
        "      <th>City</th>\n",
        "      <th>Conditions</th>\n",
        "      <th>Events</th>\n",
        "      <th>Humidity</th>\n",
        "      <th>PrecipitationIn</th>\n",
        "      <th>SeaLevelPressureIn</th>\n",
        "      <th>TemperatureF</th>\n",
        "      <th>WindMPH</th>\n",
        "    </tr>\n",
        "  </thead>\n",
        "  <tbody>\n",
        "    <tr>\n",
        "      <th>9 </th>\n",
        "      <td>  9</td>\n",
        "      <td> 535612943581609984</td>\n",
        "      <td> 2014-11-21 02:00:00</td>\n",
        "      <td>-0.056175</td>\n",
        "      <td> 51.532276</td>\n",
        "      <td>  en</td>\n",
        "      <td>  literally every pop punk song: i hate this to...</td>\n",
        "      <td>  literally every pop punk song: i hate this to...</td>\n",
        "      <td>-0.500000</td>\n",
        "      <td> lon</td>\n",
        "      <td> Mist</td>\n",
        "      <td> NaN</td>\n",
        "      <td> 93</td>\n",
        "      <td>NaN</td>\n",
        "      <td> 30.21</td>\n",
        "      <td> 41</td>\n",
        "      <td> 2.3</td>\n",
        "    </tr>\n",
        "    <tr>\n",
        "      <th>12</th>\n",
        "      <td> 12</td>\n",
        "      <td> 535612944802119680</td>\n",
        "      <td> 2014-11-21 02:00:00</td>\n",
        "      <td> 0.014148</td>\n",
        "      <td> 51.433439</td>\n",
        "      <td>  en</td>\n",
        "      <td> \" \"I think the funniest one was when Kingston ...</td>\n",
        "      <td> \" \"I think the funniest one was when Kingston ...</td>\n",
        "      <td>-0.166667</td>\n",
        "      <td> lon</td>\n",
        "      <td> Mist</td>\n",
        "      <td> NaN</td>\n",
        "      <td> 93</td>\n",
        "      <td>NaN</td>\n",
        "      <td> 30.21</td>\n",
        "      <td> 41</td>\n",
        "      <td> 2.3</td>\n",
        "    </tr>\n",
        "    <tr>\n",
        "      <th>15</th>\n",
        "      <td> 15</td>\n",
        "      <td> 535612949269053440</td>\n",
        "      <td> 2014-11-21 02:00:00</td>\n",
        "      <td>-0.275508</td>\n",
        "      <td> 51.625803</td>\n",
        "      <td>  en</td>\n",
        "      <td> \" \"It's 2am and I've had some peanut butter on...</td>\n",
        "      <td> \" \"It's 2am and I've had some peanut butter on...</td>\n",
        "      <td> 0.200000</td>\n",
        "      <td> lon</td>\n",
        "      <td> Mist</td>\n",
        "      <td> NaN</td>\n",
        "      <td> 93</td>\n",
        "      <td>NaN</td>\n",
        "      <td> 30.21</td>\n",
        "      <td> 41</td>\n",
        "      <td> 2.3</td>\n",
        "    </tr>\n",
        "    <tr>\n",
        "      <th>27</th>\n",
        "      <td> 27</td>\n",
        "      <td> 535613045679337472</td>\n",
        "      <td> 2014-11-21 02:00:00</td>\n",
        "      <td>-0.087137</td>\n",
        "      <td> 50.842564</td>\n",
        "      <td>  en</td>\n",
        "      <td>  @lilgoldenbook: The new single No Church On S...</td>\n",
        "      <td>  @lilgoldenbook: The new single No Church On S...</td>\n",
        "      <td> 0.354978</td>\n",
        "      <td> lon</td>\n",
        "      <td> Mist</td>\n",
        "      <td> NaN</td>\n",
        "      <td> 93</td>\n",
        "      <td>NaN</td>\n",
        "      <td> 30.21</td>\n",
        "      <td> 41</td>\n",
        "      <td> 2.3</td>\n",
        "    </tr>\n",
        "    <tr>\n",
        "      <th>39</th>\n",
        "      <td> 39</td>\n",
        "      <td> 535613133248012288</td>\n",
        "      <td> 2014-11-21 02:00:00</td>\n",
        "      <td>-0.484289</td>\n",
        "      <td> 51.523778</td>\n",
        "      <td>  en</td>\n",
        "      <td> \" \"\"@KeishaMariee_: @Miron_1995 it\\'s so flipp...</td>\n",
        "      <td> \" \"\"@KeishaMariee_: @Miron_1995 it\\'s so flipp...</td>\n",
        "      <td>-0.016667</td>\n",
        "      <td> lon</td>\n",
        "      <td> Mist</td>\n",
        "      <td> NaN</td>\n",
        "      <td> 93</td>\n",
        "      <td>NaN</td>\n",
        "      <td> 30.21</td>\n",
        "      <td> 41</td>\n",
        "      <td> 2.3</td>\n",
        "    </tr>\n",
        "  </tbody>\n",
        "</table>\n",
        "</div>"
       ],
       "metadata": {},
       "output_type": "pyout",
       "prompt_number": 24,
       "text": [
        "    Unnamed: 0                 tid              DateUTC       lon        lat  \\\n",
        "9            9  535612943581609984  2014-11-21 02:00:00 -0.056175  51.532276   \n",
        "12          12  535612944802119680  2014-11-21 02:00:00  0.014148  51.433439   \n",
        "15          15  535612949269053440  2014-11-21 02:00:00 -0.275508  51.625803   \n",
        "27          27  535613045679337472  2014-11-21 02:00:00 -0.087137  50.842564   \n",
        "39          39  535613133248012288  2014-11-21 02:00:00 -0.484289  51.523778   \n",
        "\n",
        "   language                                               text  \\\n",
        "9        en   literally every pop punk song: i hate this to...   \n",
        "12       en  \" \"I think the funniest one was when Kingston ...   \n",
        "15       en  \" \"It's 2am and I've had some peanut butter on...   \n",
        "27       en   @lilgoldenbook: The new single No Church On S...   \n",
        "39       en  \" \"\"@KeishaMariee_: @Miron_1995 it\\'s so flipp...   \n",
        "\n",
        "                                                 blob  polarity City  \\\n",
        "9    literally every pop punk song: i hate this to... -0.500000  lon   \n",
        "12  \" \"I think the funniest one was when Kingston ... -0.166667  lon   \n",
        "15  \" \"It's 2am and I've had some peanut butter on...  0.200000  lon   \n",
        "27   @lilgoldenbook: The new single No Church On S...  0.354978  lon   \n",
        "39  \" \"\"@KeishaMariee_: @Miron_1995 it\\'s so flipp... -0.016667  lon   \n",
        "\n",
        "   Conditions Events  Humidity  PrecipitationIn  SeaLevelPressureIn  \\\n",
        "9        Mist    NaN        93              NaN               30.21   \n",
        "12       Mist    NaN        93              NaN               30.21   \n",
        "15       Mist    NaN        93              NaN               30.21   \n",
        "27       Mist    NaN        93              NaN               30.21   \n",
        "39       Mist    NaN        93              NaN               30.21   \n",
        "\n",
        "    TemperatureF WindMPH  \n",
        "9             41     2.3  \n",
        "12            41     2.3  \n",
        "15            41     2.3  \n",
        "27            41     2.3  \n",
        "39            41     2.3  "
       ]
      }
     ],
     "prompt_number": 24
    },
    {
     "cell_type": "code",
     "collapsed": false,
     "input": [
      "tw.drop_duplicates(subset='tid', inplace=True)"
     ],
     "language": "python",
     "metadata": {},
     "outputs": [],
     "prompt_number": 5
    },
    {
     "cell_type": "code",
     "collapsed": false,
     "input": [
      "plt.hist(tw.polarity)"
     ],
     "language": "python",
     "metadata": {},
     "outputs": [
      {
       "metadata": {},
       "output_type": "pyout",
       "prompt_number": 9,
       "text": [
        "(array([   22261.,    80217.,   179237.,   207175.,   241313.,  2772935.,\n",
        "          368659.,   352654.,   118273.,   194101.]),\n",
        " array([-1. , -0.8, -0.6, -0.4, -0.2,  0. ,  0.2,  0.4,  0.6,  0.8,  1. ]),\n",
        " <a list of 10 Patch objects>)"
       ]
      },
      {
       "metadata": {},
       "output_type": "display_data",
       "png": "[encoded data removed]",
       "text": [
        "<matplotlib.figure.Figure at 0x10bc06550>"
       ]
      }
     ],
     "prompt_number": 9
    },
    {
     "cell_type": "code",
     "collapsed": false,
     "input": [
      "tw = tw[tw.polarity != 0]"
     ],
     "language": "python",
     "metadata": {},
     "outputs": [],
     "prompt_number": 10
    },
    {
     "cell_type": "code",
     "collapsed": false,
     "input": [
      "tw.polarity.hist()"
     ],
     "language": "python",
     "metadata": {},
     "outputs": [
      {
       "metadata": {},
       "output_type": "pyout",
       "prompt_number": 13,
       "text": [
        "<matplotlib.axes._subplots.AxesSubplot at 0x10b3b4f50>"
       ]
      },
      {
       "metadata": {},
       "output_type": "display_data",
       "png": "[encoded data removed]",
       "text": [
        "<matplotlib.figure.Figure at 0x10be0fed0>"
       ]
      }
     ],
     "prompt_number": 13
    },
    {
     "cell_type": "code",
     "collapsed": false,
     "input": [
      "tw[tw.Events == 'Rain'].polarity.hist()"
     ],
     "language": "python",
     "metadata": {},
     "outputs": [
      {
       "metadata": {},
       "output_type": "pyout",
       "prompt_number": 23,
       "text": [
        "<matplotlib.axes._subplots.AxesSubplot at 0x10d0e9b10>"
       ]
      },
      {
       "metadata": {},
       "output_type": "display_data",
       "png": "[encoded data removed]",
       "text": [
        "<matplotlib.figure.Figure at 0x10b346e90>"
       ]
      }
     ],
     "prompt_number": 23
    },
    {
     "cell_type": "code",
     "collapsed": false,
     "input": [
      "citynames = [\"mia\", \"sea\", \"ny\", \"la\", \"lon\", \"bos\", \"chi\"]\n",
      "for i in citynames:\n",
      "    print i, len(tw[tw.City == i])"
     ],
     "language": "python",
     "metadata": {},
     "outputs": [
      {
       "output_type": "stream",
       "stream": "stdout",
       "text": [
        "mia "
       ]
      },
      {
       "output_type": "stream",
       "stream": "stdout",
       "text": [
        "224625\n",
        "sea "
       ]
      },
      {
       "output_type": "stream",
       "stream": "stdout",
       "text": [
        "70751\n",
        "ny "
       ]
      },
      {
       "output_type": "stream",
       "stream": "stdout",
       "text": [
        "491468\n",
        "la "
       ]
      },
      {
       "output_type": "stream",
       "stream": "stdout",
       "text": [
        "640545\n",
        "lon "
       ]
      },
      {
       "output_type": "stream",
       "stream": "stdout",
       "text": [
        "331490\n",
        "bos "
       ]
      },
      {
       "output_type": "stream",
       "stream": "stdout",
       "text": [
        "139218\n",
        "chi "
       ]
      },
      {
       "output_type": "stream",
       "stream": "stdout",
       "text": [
        "295947\n"
       ]
      }
     ],
     "prompt_number": 27
    },
    {
     "cell_type": "code",
     "collapsed": false,
     "input": [],
     "language": "python",
     "metadata": {},
     "outputs": []
    }
   ],
   "metadata": {}
  }
 ]
}